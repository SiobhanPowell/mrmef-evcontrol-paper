{
 "cells": [
  {
   "cell_type": "code",
   "execution_count": 1,
   "id": "5f0c524a",
   "metadata": {},
   "outputs": [],
   "source": [
    "import pandas as pd\n",
    "import numpy as np\n",
    "import matplotlib.pyplot as plt\n",
    "import pickle\n",
    "from simple_dispatch import bidStack\n",
    "from future_grid import FutureDemand_v2\n",
    "from future_grid import FutureGrid_v2\n",
    "import cvxpy\n",
    "import os"
   ]
  },
  {
   "cell_type": "code",
   "execution_count": 2,
   "id": "5fa929f2",
   "metadata": {},
   "outputs": [],
   "source": [
    "date = '20240208'\n",
    "time_array = np.arange(52)+1"
   ]
  },
  {
   "cell_type": "markdown",
   "id": "9e2faae0",
   "metadata": {},
   "source": [
    "# 2019"
   ]
  },
  {
   "cell_type": "code",
   "execution_count": null,
   "id": "08064d7b",
   "metadata": {},
   "outputs": [],
   "source": [
    "gd = pickle.load(open('../Data/generator_data_short_WECC_2019_local.obj', 'rb'))\n",
    "year_set = np.arange(2019, 2038)\n",
    "\n",
    "gen_limits = {}\n",
    "for year in year_set:\n",
    "    demand1 = FutureDemand_v2(gd, year=year, base_year=2019)\n",
    "    demand1.set_up_ready(evs=False)\n",
    "    demand1.update_total()\n",
    "\n",
    "    grid1 = FutureGrid_v2(gd, return_gen_limits=True, study_year_min=2019)\n",
    "    grid1.add_generators(year)\n",
    "    grid1.drop_generators(year)\n",
    "    grid1.year = year\n",
    "    grid1.future = demand1\n",
    "\n",
    "    grid1.run_dispatch(save_str='test_results/gen_limits_'+str(year), year=year, \n",
    "                       verbose=False, time_array=time_array, result_date=date, coal_downtime=False, \n",
    "                       force_storage=True, \n",
    "                       return_gen_limits=False)\n",
    "    \n",
    "    gen_limits[year] = grid1.dp.clip_vals_save.copy(deep=True)\n",
    "    gen_limits[year].to_csv('../Data/gen_limits_'+str(year)+'_baseyear2019.csv')"
   ]
  },
  {
   "cell_type": "code",
   "execution_count": 3,
   "id": "018db42a",
   "metadata": {},
   "outputs": [
    {
     "name": "stdout",
     "output_type": "stream",
     "text": [
      "Solving optimization.\n",
      "Storage Rate Result: 16386\n",
      "Storage Capacity:  65547\n",
      "Scheduling extra storage.\n",
      "Solving optimization.\n"
     ]
    }
   ],
   "source": [
    "\n",
    "for year in [2037]:#year_set:\n",
    "    demand1 = FutureDemand_v2(gd, year=year, base_year=2019)\n",
    "    demand1.set_up_ready(evs=False)\n",
    "    demand1.update_total()\n",
    "\n",
    "    grid1 = FutureGrid_v2(gd, return_gen_limits=True, study_year_min=2019)\n",
    "    grid1.add_generators(year)\n",
    "    grid1.drop_generators(year)\n",
    "    grid1.year = year\n",
    "    grid1.future = demand1\n",
    "\n",
    "    grid1.run_dispatch(save_str='test_results/gen_limits_'+str(year), year=year, \n",
    "                       verbose=False, time_array=time_array, result_date=date, coal_downtime=False, \n",
    "                       force_storage=True, \n",
    "                       return_gen_limits=False)\n",
    "    \n",
    "    gen_limits[year] = grid1.dp.clip_vals_save.copy(deep=True)\n",
    "    gen_limits[year].to_csv('../Data/gen_limits_'+str(year)+'_baseyear2019.csv')"
   ]
  },
  {
   "cell_type": "markdown",
   "id": "d9cce711",
   "metadata": {},
   "source": [
    "# 2022"
   ]
  },
  {
   "cell_type": "code",
   "execution_count": 4,
   "id": "2d416d62",
   "metadata": {
    "scrolled": true
   },
   "outputs": [
    {
     "name": "stdout",
     "output_type": "stream",
     "text": [
      "Solving optimization.\n",
      "Storage Rate Result: 20973\n",
      "Storage Capacity:  83894\n",
      "Scheduling extra storage.\n",
      "Solving optimization.\n",
      "Solving optimization.\n",
      "Storage Rate Result: 17954\n",
      "Storage Capacity:  71817\n",
      "Scheduling extra storage.\n",
      "Solving optimization.\n",
      "Solving optimization.\n",
      "Storage Rate Result: 15369\n",
      "Storage Capacity:  61479\n",
      "Scheduling extra storage.\n",
      "Solving optimization.\n",
      "Solving optimization.\n",
      "Storage Rate Result: 13025\n",
      "Storage Capacity:  52103\n",
      "Scheduling extra storage.\n",
      "Solving optimization.\n",
      "Solving optimization.\n",
      "Storage Rate Result: 10861\n",
      "Storage Capacity:  43444\n",
      "Scheduling extra storage.\n",
      "Solving optimization.\n",
      "Solving optimization.\n",
      "Storage Rate Result: 9064\n",
      "Storage Capacity:  36256\n",
      "Scheduling extra storage.\n",
      "Solving optimization.\n",
      "Solving optimization.\n",
      "Storage Rate Result: 8268\n",
      "Storage Capacity:  33075\n",
      "Scheduling extra storage.\n",
      "Solving optimization.\n",
      "Solving optimization.\n",
      "Storage Rate Result: 8372\n",
      "Storage Capacity:  33488\n",
      "Scheduling extra storage.\n",
      "Solving optimization.\n",
      "Solving optimization.\n",
      "Storage Rate Result: 8475\n",
      "Storage Capacity:  33901\n",
      "Scheduling extra storage.\n",
      "Solving optimization.\n",
      "Solving optimization.\n",
      "Storage Rate Result: 10465\n",
      "Storage Capacity:  41863\n",
      "Scheduling extra storage.\n",
      "Solving optimization.\n",
      "Solving optimization.\n",
      "Storage Rate Result: 11081\n",
      "Storage Capacity:  44326\n",
      "Scheduling extra storage.\n",
      "Solving optimization.\n",
      "Solving optimization.\n",
      "Storage Rate Result: 11697\n",
      "Storage Capacity:  46788\n",
      "Scheduling extra storage.\n",
      "Solving optimization.\n",
      "Solving optimization.\n",
      "Storage Rate Result: 12312\n",
      "Storage Capacity:  49251\n",
      "Scheduling extra storage.\n",
      "Solving optimization.\n",
      "Solving optimization.\n",
      "Storage Rate Result: 13088\n",
      "Storage Capacity:  52352\n",
      "Scheduling extra storage.\n",
      "Solving optimization.\n",
      "Solving optimization.\n",
      "Storage Rate Result: 13890\n",
      "Storage Capacity:  55561\n",
      "Scheduling extra storage.\n",
      "Solving optimization.\n",
      "Solving optimization.\n",
      "Storage Rate Result: 14692\n",
      "Storage Capacity:  58769\n",
      "Scheduling extra storage.\n",
      "Solving optimization.\n"
     ]
    }
   ],
   "source": [
    "gd = pickle.load(open('../Data/generator_data_short_WECC_2022_local.obj', 'rb'))\n",
    "year_set = np.arange(2022, 2038)\n",
    "\n",
    "gen_limits = {}\n",
    "for year in year_set:\n",
    "    demand1 = FutureDemand_v2(gd, year=year, base_year=2022)\n",
    "    demand1.set_up_ready(evs=False)\n",
    "    demand1.update_total()\n",
    "\n",
    "    grid1 = FutureGrid_v2(gd, return_gen_limits=True, study_year_min=2022)\n",
    "    grid1.add_generators(year)\n",
    "    grid1.drop_generators(year)\n",
    "    grid1.year = year\n",
    "    grid1.future = demand1\n",
    "\n",
    "    grid1.run_dispatch(save_str='test_results/gen_limits_'+str(year), year=year, \n",
    "                       verbose=False, time_array=time_array, result_date=date, coal_downtime=False, \n",
    "                       force_storage=True, \n",
    "                       return_gen_limits=False)\n",
    "    \n",
    "    gen_limits[year] = grid1.dp.clip_vals_save.copy(deep=True)\n",
    "    gen_limits[year].to_csv('../Data/gen_limits_'+str(year)+'_baseyear2022.csv')"
   ]
  }
 ],
 "metadata": {
  "kernelspec": {
   "display_name": "Python 3 (ipykernel)",
   "language": "python",
   "name": "python3"
  },
  "language_info": {
   "codemirror_mode": {
    "name": "ipython",
    "version": 3
   },
   "file_extension": ".py",
   "mimetype": "text/x-python",
   "name": "python",
   "nbconvert_exporter": "python",
   "pygments_lexer": "ipython3",
   "version": "3.10.7"
  }
 },
 "nbformat": 4,
 "nbformat_minor": 5
}
