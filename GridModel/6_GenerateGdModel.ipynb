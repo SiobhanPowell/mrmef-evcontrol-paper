{
 "cells": [
  {
   "cell_type": "markdown",
   "metadata": {},
   "source": [
    "Based on code by Thomas Deetjen (https://github.com/tdeetjen/simple_dispatch), changed by Siobhan Powell"
   ]
  },
  {
   "cell_type": "code",
   "execution_count": 1,
   "metadata": {},
   "outputs": [],
   "source": [
    "# import os\n",
    "# os.chdir('..')\n",
    "import pickle\n",
    "import scipy\n",
    "import os.path\n",
    "import pandas\n",
    "from simple_dispatch import generatorData\n",
    "from simple_dispatch import generatorDataShort\n",
    "import time\n",
    "import numpy as np"
   ]
  },
  {
   "cell_type": "markdown",
   "metadata": {},
   "source": [
    "# 2019"
   ]
  },
  {
   "cell_type": "code",
   "execution_count": 4,
   "metadata": {},
   "outputs": [],
   "source": [
    "run_year = 2019\n",
    "ferc714_part2_schedule6_csv = '../Data/GridInputData/2019Final/Part 2 Schedule 6 - Balancing Authority Hourly System Lambda.csv'\n",
    "ferc714IDs_csv='../Data/GridInputData/2019Final/Respondent IDs Cleaned.csv'\n",
    "cems_folder_path ='../Data/GridInputData/2019Final/CEMS'\n",
    "easiur_csv_path ='GridInputData/egrid_2019_plant_easiur.csv'\n",
    "fuel_commodity_prices_xlsx = '../Data/GridInputData/2019Final/fuel_default_prices.xlsx'\n",
    "egrid_data_xlsx = '../Data/GridInputData/2019Final/eGRID2019_data.xlsx'\n",
    "eia923_schedule5_xlsx = '../Data/GridInputData/2019Final/EIA923_Schedules_2_3_4_5_M_12_2019_Final_Revision.xlsx'\n",
    "\n",
    "nerc_region = 'WECC'"
   ]
  },
  {
   "cell_type": "code",
   "execution_count": 9,
   "metadata": {},
   "outputs": [
    {
     "name": "stdout",
     "output_type": "stream",
     "text": [
      "Reading in unit level data from eGRID...\n",
      "Reading in generator level data from eGRID...\n",
      "Reading in plant level data from eGRID...\n",
      "Reading in data from EIA Form 923...\n",
      "Reading in data from FERC Form 714...\n",
      "Cleaning eGRID Data...\n",
      "Compiling CEMS data...\n",
      "ca: 01\n",
      "ca: 02\n",
      "ca: 03\n"
     ]
    },
    {
     "name": "stderr",
     "output_type": "stream",
     "text": [
      "/Users/spowell/Library/CloudStorage/OneDrive-ETHZurich/Code/lrmef-evcontrol/GridModel/simple_dispatch.py:344: DtypeWarning: Columns (10,12,14,16,18,20) have mixed types. Specify dtype option on import or set low_memory=False.\n",
      "  df_cems_add = pandas.read_csv(self.cems_folder + '/%s/%s%s%s.csv'%(str(self.year),str(self.year),s,m))\n"
     ]
    },
    {
     "name": "stdout",
     "output_type": "stream",
     "text": [
      "ca: 04\n",
      "ca: 05\n",
      "ca: 06\n",
      "ca: 07\n",
      "ca: 08\n",
      "ca: 09\n",
      "ca: 10\n",
      "ca: 11\n",
      "ca: 12\n",
      "or: 01\n",
      "or: 02\n",
      "or: 03\n",
      "or: 04\n",
      "or: 05\n",
      "or: 06\n",
      "or: 07\n",
      "or: 08\n",
      "or: 09\n",
      "or: 10\n",
      "or: 11\n",
      "or: 12\n",
      "wa: 01\n",
      "wa: 02\n",
      "wa: 03\n",
      "wa: 04\n",
      "wa: 05\n",
      "wa: 06\n",
      "wa: 07\n",
      "wa: 08\n",
      "wa: 09\n",
      "wa: 10\n",
      "wa: 11\n",
      "wa: 12\n",
      "nv: 01\n",
      "nv: 02\n",
      "nv: 03\n",
      "nv: 04\n",
      "nv: 05\n",
      "nv: 06\n",
      "nv: 07\n",
      "nv: 08\n",
      "nv: 09\n",
      "nv: 10\n",
      "nv: 11\n",
      "nv: 12\n",
      "mt: 01\n",
      "mt: 02\n",
      "mt: 03\n",
      "mt: 04\n",
      "mt: 05\n",
      "mt: 06\n",
      "mt: 07\n",
      "mt: 08\n",
      "mt: 09\n",
      "mt: 10\n",
      "mt: 11\n",
      "mt: 12\n",
      "id: 01\n",
      "id: 02\n",
      "id: 03\n",
      "id: 04\n",
      "id: 05\n",
      "id: 06\n",
      "id: 07\n",
      "id: 08\n",
      "id: 09\n",
      "id: 10\n",
      "id: 11\n",
      "id: 12\n",
      "wy: 01\n",
      "wy: 02\n",
      "wy: 03\n",
      "wy: 04\n",
      "wy: 05\n",
      "wy: 06\n",
      "wy: 07\n",
      "wy: 08\n",
      "wy: 09\n",
      "wy: 10\n",
      "wy: 11\n",
      "wy: 12\n",
      "ut: 01\n",
      "ut: 02\n",
      "ut: 03\n",
      "ut: 04\n",
      "ut: 05\n",
      "ut: 06\n",
      "ut: 07\n",
      "ut: 08\n",
      "ut: 09\n",
      "ut: 10\n",
      "ut: 11\n",
      "ut: 12\n",
      "co: 01\n",
      "co: 02\n",
      "co: 03\n",
      "co: 04\n",
      "co: 05\n",
      "co: 06\n",
      "co: 07\n",
      "co: 08\n",
      "co: 09\n",
      "co: 10\n",
      "co: 11\n",
      "co: 12\n",
      "az: 01\n",
      "az: 02\n",
      "az: 03\n",
      "az: 04\n",
      "az: 05\n",
      "az: 06\n",
      "az: 07\n",
      "az: 08\n",
      "az: 09\n",
      "az: 10\n",
      "az: 11\n",
      "az: 12\n",
      "nm: 01\n",
      "nm: 02\n",
      "nm: 03\n",
      "nm: 04\n",
      "nm: 05\n",
      "nm: 06\n",
      "nm: 07\n",
      "nm: 08\n",
      "nm: 09\n",
      "nm: 10\n",
      "nm: 11\n",
      "nm: 12\n",
      "tx: 01\n",
      "tx: 02\n",
      "tx: 03\n",
      "tx: 04\n",
      "tx: 05\n",
      "tx: 06\n",
      "tx: 07\n",
      "tx: 08\n",
      "tx: 09\n",
      "tx: 10\n",
      "tx: 11\n",
      "tx: 12\n"
     ]
    },
    {
     "name": "stderr",
     "output_type": "stream",
     "text": [
      "/Users/spowell/Library/CloudStorage/OneDrive-ETHZurich/Code/lrmef-evcontrol/GridModel/simple_dispatch.py:434: FutureWarning: DataFrame.fillna with 'method' is deprecated and will raise in a future version. Use obj.ffill() or obj.bfill() instead.\n",
      "  temp_3 = temp_3.fillna(method='ffill', axis=1) # was erroroneously filling down columns in this version of python/pandas\n",
      "/Users/spowell/Library/CloudStorage/OneDrive-ETHZurich/Code/lrmef-evcontrol/GridModel/simple_dispatch.py:434: FutureWarning: DataFrame.fillna with 'method' is deprecated and will raise in a future version. Use obj.ffill() or obj.bfill() instead.\n",
      "  temp_3 = temp_3.fillna(method='ffill', axis=1) # was erroroneously filling down columns in this version of python/pandas\n",
      "/Users/spowell/Library/CloudStorage/OneDrive-ETHZurich/Code/lrmef-evcontrol/GridModel/simple_dispatch.py:434: FutureWarning: DataFrame.fillna with 'method' is deprecated and will raise in a future version. Use obj.ffill() or obj.bfill() instead.\n",
      "  temp_3 = temp_3.fillna(method='ffill', axis=1) # was erroroneously filling down columns in this version of python/pandas\n",
      "/Users/spowell/Library/CloudStorage/OneDrive-ETHZurich/Code/lrmef-evcontrol/GridModel/simple_dispatch.py:434: FutureWarning: DataFrame.fillna with 'method' is deprecated and will raise in a future version. Use obj.ffill() or obj.bfill() instead.\n",
      "  temp_3 = temp_3.fillna(method='ffill', axis=1) # was erroroneously filling down columns in this version of python/pandas\n",
      "/Users/spowell/Library/CloudStorage/OneDrive-ETHZurich/Code/lrmef-evcontrol/GridModel/simple_dispatch.py:434: FutureWarning: DataFrame.fillna with 'method' is deprecated and will raise in a future version. Use obj.ffill() or obj.bfill() instead.\n",
      "  temp_3 = temp_3.fillna(method='ffill', axis=1) # was erroroneously filling down columns in this version of python/pandas\n",
      "/Users/spowell/Library/CloudStorage/OneDrive-ETHZurich/Code/lrmef-evcontrol/GridModel/simple_dispatch.py:463: PerformanceWarning: DataFrame is highly fragmented.  This is usually the result of calling `frame.insert` many times, which has poor performance.  Consider joining all columns at once using pd.concat(axis=1) instead. To get a de-fragmented frame, use `newframe = frame.copy()`\n",
      "  df_leftovers[e + str(t)] = df_leftovers[e]\n",
      "/Users/spowell/Library/CloudStorage/OneDrive-ETHZurich/Code/lrmef-evcontrol/GridModel/simple_dispatch.py:463: PerformanceWarning: DataFrame is highly fragmented.  This is usually the result of calling `frame.insert` many times, which has poor performance.  Consider joining all columns at once using pd.concat(axis=1) instead. To get a de-fragmented frame, use `newframe = frame.copy()`\n",
      "  df_leftovers[e + str(t)] = df_leftovers[e]\n",
      "/Users/spowell/Library/CloudStorage/OneDrive-ETHZurich/Code/lrmef-evcontrol/GridModel/simple_dispatch.py:463: PerformanceWarning: DataFrame is highly fragmented.  This is usually the result of calling `frame.insert` many times, which has poor performance.  Consider joining all columns at once using pd.concat(axis=1) instead. To get a de-fragmented frame, use `newframe = frame.copy()`\n",
      "  df_leftovers[e + str(t)] = df_leftovers[e]\n",
      "/Users/spowell/Library/CloudStorage/OneDrive-ETHZurich/Code/lrmef-evcontrol/GridModel/simple_dispatch.py:463: PerformanceWarning: DataFrame is highly fragmented.  This is usually the result of calling `frame.insert` many times, which has poor performance.  Consider joining all columns at once using pd.concat(axis=1) instead. To get a de-fragmented frame, use `newframe = frame.copy()`\n",
      "  df_leftovers[e + str(t)] = df_leftovers[e]\n",
      "/Users/spowell/Library/CloudStorage/OneDrive-ETHZurich/Code/lrmef-evcontrol/GridModel/simple_dispatch.py:463: PerformanceWarning: DataFrame is highly fragmented.  This is usually the result of calling `frame.insert` many times, which has poor performance.  Consider joining all columns at once using pd.concat(axis=1) instead. To get a de-fragmented frame, use `newframe = frame.copy()`\n",
      "  df_leftovers[e + str(t)] = df_leftovers[e]\n",
      "/Users/spowell/Library/CloudStorage/OneDrive-ETHZurich/Code/lrmef-evcontrol/GridModel/simple_dispatch.py:463: PerformanceWarning: DataFrame is highly fragmented.  This is usually the result of calling `frame.insert` many times, which has poor performance.  Consider joining all columns at once using pd.concat(axis=1) instead. To get a de-fragmented frame, use `newframe = frame.copy()`\n",
      "  df_leftovers[e + str(t)] = df_leftovers[e]\n",
      "/Users/spowell/Library/CloudStorage/OneDrive-ETHZurich/Code/lrmef-evcontrol/GridModel/simple_dispatch.py:463: PerformanceWarning: DataFrame is highly fragmented.  This is usually the result of calling `frame.insert` many times, which has poor performance.  Consider joining all columns at once using pd.concat(axis=1) instead. To get a de-fragmented frame, use `newframe = frame.copy()`\n",
      "  df_leftovers[e + str(t)] = df_leftovers[e]\n",
      "/Users/spowell/Library/CloudStorage/OneDrive-ETHZurich/Code/lrmef-evcontrol/GridModel/simple_dispatch.py:463: PerformanceWarning: DataFrame is highly fragmented.  This is usually the result of calling `frame.insert` many times, which has poor performance.  Consider joining all columns at once using pd.concat(axis=1) instead. To get a de-fragmented frame, use `newframe = frame.copy()`\n",
      "  df_leftovers[e + str(t)] = df_leftovers[e]\n",
      "/Users/spowell/Library/CloudStorage/OneDrive-ETHZurich/Code/lrmef-evcontrol/GridModel/simple_dispatch.py:463: PerformanceWarning: DataFrame is highly fragmented.  This is usually the result of calling `frame.insert` many times, which has poor performance.  Consider joining all columns at once using pd.concat(axis=1) instead. To get a de-fragmented frame, use `newframe = frame.copy()`\n",
      "  df_leftovers[e + str(t)] = df_leftovers[e]\n",
      "/Users/spowell/Library/CloudStorage/OneDrive-ETHZurich/Code/lrmef-evcontrol/GridModel/simple_dispatch.py:463: PerformanceWarning: DataFrame is highly fragmented.  This is usually the result of calling `frame.insert` many times, which has poor performance.  Consider joining all columns at once using pd.concat(axis=1) instead. To get a de-fragmented frame, use `newframe = frame.copy()`\n",
      "  df_leftovers[e + str(t)] = df_leftovers[e]\n",
      "/Users/spowell/Library/CloudStorage/OneDrive-ETHZurich/Code/lrmef-evcontrol/GridModel/simple_dispatch.py:463: PerformanceWarning: DataFrame is highly fragmented.  This is usually the result of calling `frame.insert` many times, which has poor performance.  Consider joining all columns at once using pd.concat(axis=1) instead. To get a de-fragmented frame, use `newframe = frame.copy()`\n",
      "  df_leftovers[e + str(t)] = df_leftovers[e]\n",
      "/Users/spowell/Library/CloudStorage/OneDrive-ETHZurich/Code/lrmef-evcontrol/GridModel/simple_dispatch.py:463: PerformanceWarning: DataFrame is highly fragmented.  This is usually the result of calling `frame.insert` many times, which has poor performance.  Consider joining all columns at once using pd.concat(axis=1) instead. To get a de-fragmented frame, use `newframe = frame.copy()`\n",
      "  df_leftovers[e + str(t)] = df_leftovers[e]\n",
      "/Users/spowell/Library/CloudStorage/OneDrive-ETHZurich/Code/lrmef-evcontrol/GridModel/simple_dispatch.py:463: PerformanceWarning: DataFrame is highly fragmented.  This is usually the result of calling `frame.insert` many times, which has poor performance.  Consider joining all columns at once using pd.concat(axis=1) instead. To get a de-fragmented frame, use `newframe = frame.copy()`\n",
      "  df_leftovers[e + str(t)] = df_leftovers[e]\n",
      "/Users/spowell/Library/CloudStorage/OneDrive-ETHZurich/Code/lrmef-evcontrol/GridModel/simple_dispatch.py:463: PerformanceWarning: DataFrame is highly fragmented.  This is usually the result of calling `frame.insert` many times, which has poor performance.  Consider joining all columns at once using pd.concat(axis=1) instead. To get a de-fragmented frame, use `newframe = frame.copy()`\n",
      "  df_leftovers[e + str(t)] = df_leftovers[e]\n",
      "/Users/spowell/Library/CloudStorage/OneDrive-ETHZurich/Code/lrmef-evcontrol/GridModel/simple_dispatch.py:463: PerformanceWarning: DataFrame is highly fragmented.  This is usually the result of calling `frame.insert` many times, which has poor performance.  Consider joining all columns at once using pd.concat(axis=1) instead. To get a de-fragmented frame, use `newframe = frame.copy()`\n",
      "  df_leftovers[e + str(t)] = df_leftovers[e]\n",
      "/Users/spowell/Library/CloudStorage/OneDrive-ETHZurich/Code/lrmef-evcontrol/GridModel/simple_dispatch.py:463: PerformanceWarning: DataFrame is highly fragmented.  This is usually the result of calling `frame.insert` many times, which has poor performance.  Consider joining all columns at once using pd.concat(axis=1) instead. To get a de-fragmented frame, use `newframe = frame.copy()`\n",
      "  df_leftovers[e + str(t)] = df_leftovers[e]\n",
      "/Users/spowell/Library/CloudStorage/OneDrive-ETHZurich/Code/lrmef-evcontrol/GridModel/simple_dispatch.py:463: PerformanceWarning: DataFrame is highly fragmented.  This is usually the result of calling `frame.insert` many times, which has poor performance.  Consider joining all columns at once using pd.concat(axis=1) instead. To get a de-fragmented frame, use `newframe = frame.copy()`\n",
      "  df_leftovers[e + str(t)] = df_leftovers[e]\n",
      "/Users/spowell/Library/CloudStorage/OneDrive-ETHZurich/Code/lrmef-evcontrol/GridModel/simple_dispatch.py:463: PerformanceWarning: DataFrame is highly fragmented.  This is usually the result of calling `frame.insert` many times, which has poor performance.  Consider joining all columns at once using pd.concat(axis=1) instead. To get a de-fragmented frame, use `newframe = frame.copy()`\n",
      "  df_leftovers[e + str(t)] = df_leftovers[e]\n",
      "/Users/spowell/Library/CloudStorage/OneDrive-ETHZurich/Code/lrmef-evcontrol/GridModel/simple_dispatch.py:463: PerformanceWarning: DataFrame is highly fragmented.  This is usually the result of calling `frame.insert` many times, which has poor performance.  Consider joining all columns at once using pd.concat(axis=1) instead. To get a de-fragmented frame, use `newframe = frame.copy()`\n",
      "  df_leftovers[e + str(t)] = df_leftovers[e]\n",
      "/Users/spowell/Library/CloudStorage/OneDrive-ETHZurich/Code/lrmef-evcontrol/GridModel/simple_dispatch.py:463: PerformanceWarning: DataFrame is highly fragmented.  This is usually the result of calling `frame.insert` many times, which has poor performance.  Consider joining all columns at once using pd.concat(axis=1) instead. To get a de-fragmented frame, use `newframe = frame.copy()`\n",
      "  df_leftovers[e + str(t)] = df_leftovers[e]\n",
      "/Users/spowell/Library/CloudStorage/OneDrive-ETHZurich/Code/lrmef-evcontrol/GridModel/simple_dispatch.py:463: PerformanceWarning: DataFrame is highly fragmented.  This is usually the result of calling `frame.insert` many times, which has poor performance.  Consider joining all columns at once using pd.concat(axis=1) instead. To get a de-fragmented frame, use `newframe = frame.copy()`\n",
      "  df_leftovers[e + str(t)] = df_leftovers[e]\n",
      "/Users/spowell/Library/CloudStorage/OneDrive-ETHZurich/Code/lrmef-evcontrol/GridModel/simple_dispatch.py:463: PerformanceWarning: DataFrame is highly fragmented.  This is usually the result of calling `frame.insert` many times, which has poor performance.  Consider joining all columns at once using pd.concat(axis=1) instead. To get a de-fragmented frame, use `newframe = frame.copy()`\n",
      "  df_leftovers[e + str(t)] = df_leftovers[e]\n",
      "/Users/spowell/Library/CloudStorage/OneDrive-ETHZurich/Code/lrmef-evcontrol/GridModel/simple_dispatch.py:463: PerformanceWarning: DataFrame is highly fragmented.  This is usually the result of calling `frame.insert` many times, which has poor performance.  Consider joining all columns at once using pd.concat(axis=1) instead. To get a de-fragmented frame, use `newframe = frame.copy()`\n",
      "  df_leftovers[e + str(t)] = df_leftovers[e]\n",
      "/Users/spowell/Library/CloudStorage/OneDrive-ETHZurich/Code/lrmef-evcontrol/GridModel/simple_dispatch.py:463: PerformanceWarning: DataFrame is highly fragmented.  This is usually the result of calling `frame.insert` many times, which has poor performance.  Consider joining all columns at once using pd.concat(axis=1) instead. To get a de-fragmented frame, use `newframe = frame.copy()`\n",
      "  df_leftovers[e + str(t)] = df_leftovers[e]\n",
      "/Users/spowell/Library/CloudStorage/OneDrive-ETHZurich/Code/lrmef-evcontrol/GridModel/simple_dispatch.py:463: PerformanceWarning: DataFrame is highly fragmented.  This is usually the result of calling `frame.insert` many times, which has poor performance.  Consider joining all columns at once using pd.concat(axis=1) instead. To get a de-fragmented frame, use `newframe = frame.copy()`\n",
      "  df_leftovers[e + str(t)] = df_leftovers[e]\n",
      "/Users/spowell/Library/CloudStorage/OneDrive-ETHZurich/Code/lrmef-evcontrol/GridModel/simple_dispatch.py:463: PerformanceWarning: DataFrame is highly fragmented.  This is usually the result of calling `frame.insert` many times, which has poor performance.  Consider joining all columns at once using pd.concat(axis=1) instead. To get a de-fragmented frame, use `newframe = frame.copy()`\n",
      "  df_leftovers[e + str(t)] = df_leftovers[e]\n",
      "/Users/spowell/Library/CloudStorage/OneDrive-ETHZurich/Code/lrmef-evcontrol/GridModel/simple_dispatch.py:463: PerformanceWarning: DataFrame is highly fragmented.  This is usually the result of calling `frame.insert` many times, which has poor performance.  Consider joining all columns at once using pd.concat(axis=1) instead. To get a de-fragmented frame, use `newframe = frame.copy()`\n",
      "  df_leftovers[e + str(t)] = df_leftovers[e]\n",
      "/Users/spowell/Library/CloudStorage/OneDrive-ETHZurich/Code/lrmef-evcontrol/GridModel/simple_dispatch.py:463: PerformanceWarning: DataFrame is highly fragmented.  This is usually the result of calling `frame.insert` many times, which has poor performance.  Consider joining all columns at once using pd.concat(axis=1) instead. To get a de-fragmented frame, use `newframe = frame.copy()`\n",
      "  df_leftovers[e + str(t)] = df_leftovers[e]\n",
      "/Users/spowell/Library/CloudStorage/OneDrive-ETHZurich/Code/lrmef-evcontrol/GridModel/simple_dispatch.py:463: PerformanceWarning: DataFrame is highly fragmented.  This is usually the result of calling `frame.insert` many times, which has poor performance.  Consider joining all columns at once using pd.concat(axis=1) instead. To get a de-fragmented frame, use `newframe = frame.copy()`\n",
      "  df_leftovers[e + str(t)] = df_leftovers[e]\n",
      "/Users/spowell/Library/CloudStorage/OneDrive-ETHZurich/Code/lrmef-evcontrol/GridModel/simple_dispatch.py:463: PerformanceWarning: DataFrame is highly fragmented.  This is usually the result of calling `frame.insert` many times, which has poor performance.  Consider joining all columns at once using pd.concat(axis=1) instead. To get a de-fragmented frame, use `newframe = frame.copy()`\n",
      "  df_leftovers[e + str(t)] = df_leftovers[e]\n",
      "/Users/spowell/Library/CloudStorage/OneDrive-ETHZurich/Code/lrmef-evcontrol/GridModel/simple_dispatch.py:463: PerformanceWarning: DataFrame is highly fragmented.  This is usually the result of calling `frame.insert` many times, which has poor performance.  Consider joining all columns at once using pd.concat(axis=1) instead. To get a de-fragmented frame, use `newframe = frame.copy()`\n",
      "  df_leftovers[e + str(t)] = df_leftovers[e]\n",
      "/Users/spowell/Library/CloudStorage/OneDrive-ETHZurich/Code/lrmef-evcontrol/GridModel/simple_dispatch.py:463: PerformanceWarning: DataFrame is highly fragmented.  This is usually the result of calling `frame.insert` many times, which has poor performance.  Consider joining all columns at once using pd.concat(axis=1) instead. To get a de-fragmented frame, use `newframe = frame.copy()`\n",
      "  df_leftovers[e + str(t)] = df_leftovers[e]\n",
      "/Users/spowell/Library/CloudStorage/OneDrive-ETHZurich/Code/lrmef-evcontrol/GridModel/simple_dispatch.py:463: PerformanceWarning: DataFrame is highly fragmented.  This is usually the result of calling `frame.insert` many times, which has poor performance.  Consider joining all columns at once using pd.concat(axis=1) instead. To get a de-fragmented frame, use `newframe = frame.copy()`\n",
      "  df_leftovers[e + str(t)] = df_leftovers[e]\n",
      "/Users/spowell/Library/CloudStorage/OneDrive-ETHZurich/Code/lrmef-evcontrol/GridModel/simple_dispatch.py:463: PerformanceWarning: DataFrame is highly fragmented.  This is usually the result of calling `frame.insert` many times, which has poor performance.  Consider joining all columns at once using pd.concat(axis=1) instead. To get a de-fragmented frame, use `newframe = frame.copy()`\n",
      "  df_leftovers[e + str(t)] = df_leftovers[e]\n",
      "/Users/spowell/Library/CloudStorage/OneDrive-ETHZurich/Code/lrmef-evcontrol/GridModel/simple_dispatch.py:463: PerformanceWarning: DataFrame is highly fragmented.  This is usually the result of calling `frame.insert` many times, which has poor performance.  Consider joining all columns at once using pd.concat(axis=1) instead. To get a de-fragmented frame, use `newframe = frame.copy()`\n",
      "  df_leftovers[e + str(t)] = df_leftovers[e]\n",
      "/Users/spowell/Library/CloudStorage/OneDrive-ETHZurich/Code/lrmef-evcontrol/GridModel/simple_dispatch.py:463: PerformanceWarning: DataFrame is highly fragmented.  This is usually the result of calling `frame.insert` many times, which has poor performance.  Consider joining all columns at once using pd.concat(axis=1) instead. To get a de-fragmented frame, use `newframe = frame.copy()`\n",
      "  df_leftovers[e + str(t)] = df_leftovers[e]\n",
      "/Users/spowell/Library/CloudStorage/OneDrive-ETHZurich/Code/lrmef-evcontrol/GridModel/simple_dispatch.py:463: PerformanceWarning: DataFrame is highly fragmented.  This is usually the result of calling `frame.insert` many times, which has poor performance.  Consider joining all columns at once using pd.concat(axis=1) instead. To get a de-fragmented frame, use `newframe = frame.copy()`\n",
      "  df_leftovers[e + str(t)] = df_leftovers[e]\n",
      "/Users/spowell/Library/CloudStorage/OneDrive-ETHZurich/Code/lrmef-evcontrol/GridModel/simple_dispatch.py:463: PerformanceWarning: DataFrame is highly fragmented.  This is usually the result of calling `frame.insert` many times, which has poor performance.  Consider joining all columns at once using pd.concat(axis=1) instead. To get a de-fragmented frame, use `newframe = frame.copy()`\n",
      "  df_leftovers[e + str(t)] = df_leftovers[e]\n",
      "/Users/spowell/Library/CloudStorage/OneDrive-ETHZurich/Code/lrmef-evcontrol/GridModel/simple_dispatch.py:463: PerformanceWarning: DataFrame is highly fragmented.  This is usually the result of calling `frame.insert` many times, which has poor performance.  Consider joining all columns at once using pd.concat(axis=1) instead. To get a de-fragmented frame, use `newframe = frame.copy()`\n",
      "  df_leftovers[e + str(t)] = df_leftovers[e]\n",
      "/Users/spowell/Library/CloudStorage/OneDrive-ETHZurich/Code/lrmef-evcontrol/GridModel/simple_dispatch.py:463: PerformanceWarning: DataFrame is highly fragmented.  This is usually the result of calling `frame.insert` many times, which has poor performance.  Consider joining all columns at once using pd.concat(axis=1) instead. To get a de-fragmented frame, use `newframe = frame.copy()`\n",
      "  df_leftovers[e + str(t)] = df_leftovers[e]\n",
      "/Users/spowell/Library/CloudStorage/OneDrive-ETHZurich/Code/lrmef-evcontrol/GridModel/simple_dispatch.py:463: PerformanceWarning: DataFrame is highly fragmented.  This is usually the result of calling `frame.insert` many times, which has poor performance.  Consider joining all columns at once using pd.concat(axis=1) instead. To get a de-fragmented frame, use `newframe = frame.copy()`\n",
      "  df_leftovers[e + str(t)] = df_leftovers[e]\n",
      "/Users/spowell/Library/CloudStorage/OneDrive-ETHZurich/Code/lrmef-evcontrol/GridModel/simple_dispatch.py:463: PerformanceWarning: DataFrame is highly fragmented.  This is usually the result of calling `frame.insert` many times, which has poor performance.  Consider joining all columns at once using pd.concat(axis=1) instead. To get a de-fragmented frame, use `newframe = frame.copy()`\n",
      "  df_leftovers[e + str(t)] = df_leftovers[e]\n",
      "/Users/spowell/Library/CloudStorage/OneDrive-ETHZurich/Code/lrmef-evcontrol/GridModel/simple_dispatch.py:463: PerformanceWarning: DataFrame is highly fragmented.  This is usually the result of calling `frame.insert` many times, which has poor performance.  Consider joining all columns at once using pd.concat(axis=1) instead. To get a de-fragmented frame, use `newframe = frame.copy()`\n",
      "  df_leftovers[e + str(t)] = df_leftovers[e]\n",
      "/Users/spowell/Library/CloudStorage/OneDrive-ETHZurich/Code/lrmef-evcontrol/GridModel/simple_dispatch.py:463: PerformanceWarning: DataFrame is highly fragmented.  This is usually the result of calling `frame.insert` many times, which has poor performance.  Consider joining all columns at once using pd.concat(axis=1) instead. To get a de-fragmented frame, use `newframe = frame.copy()`\n",
      "  df_leftovers[e + str(t)] = df_leftovers[e]\n",
      "/Users/spowell/Library/CloudStorage/OneDrive-ETHZurich/Code/lrmef-evcontrol/GridModel/simple_dispatch.py:463: PerformanceWarning: DataFrame is highly fragmented.  This is usually the result of calling `frame.insert` many times, which has poor performance.  Consider joining all columns at once using pd.concat(axis=1) instead. To get a de-fragmented frame, use `newframe = frame.copy()`\n",
      "  df_leftovers[e + str(t)] = df_leftovers[e]\n",
      "/Users/spowell/Library/CloudStorage/OneDrive-ETHZurich/Code/lrmef-evcontrol/GridModel/simple_dispatch.py:463: PerformanceWarning: DataFrame is highly fragmented.  This is usually the result of calling `frame.insert` many times, which has poor performance.  Consider joining all columns at once using pd.concat(axis=1) instead. To get a de-fragmented frame, use `newframe = frame.copy()`\n",
      "  df_leftovers[e + str(t)] = df_leftovers[e]\n",
      "/Users/spowell/Library/CloudStorage/OneDrive-ETHZurich/Code/lrmef-evcontrol/GridModel/simple_dispatch.py:463: PerformanceWarning: DataFrame is highly fragmented.  This is usually the result of calling `frame.insert` many times, which has poor performance.  Consider joining all columns at once using pd.concat(axis=1) instead. To get a de-fragmented frame, use `newframe = frame.copy()`\n",
      "  df_leftovers[e + str(t)] = df_leftovers[e]\n",
      "/Users/spowell/Library/CloudStorage/OneDrive-ETHZurich/Code/lrmef-evcontrol/GridModel/simple_dispatch.py:463: PerformanceWarning: DataFrame is highly fragmented.  This is usually the result of calling `frame.insert` many times, which has poor performance.  Consider joining all columns at once using pd.concat(axis=1) instead. To get a de-fragmented frame, use `newframe = frame.copy()`\n",
      "  df_leftovers[e + str(t)] = df_leftovers[e]\n",
      "/Users/spowell/Library/CloudStorage/OneDrive-ETHZurich/Code/lrmef-evcontrol/GridModel/simple_dispatch.py:463: PerformanceWarning: DataFrame is highly fragmented.  This is usually the result of calling `frame.insert` many times, which has poor performance.  Consider joining all columns at once using pd.concat(axis=1) instead. To get a de-fragmented frame, use `newframe = frame.copy()`\n",
      "  df_leftovers[e + str(t)] = df_leftovers[e]\n",
      "/Users/spowell/Library/CloudStorage/OneDrive-ETHZurich/Code/lrmef-evcontrol/GridModel/simple_dispatch.py:463: PerformanceWarning: DataFrame is highly fragmented.  This is usually the result of calling `frame.insert` many times, which has poor performance.  Consider joining all columns at once using pd.concat(axis=1) instead. To get a de-fragmented frame, use `newframe = frame.copy()`\n",
      "  df_leftovers[e + str(t)] = df_leftovers[e]\n",
      "/Users/spowell/Library/CloudStorage/OneDrive-ETHZurich/Code/lrmef-evcontrol/GridModel/simple_dispatch.py:463: PerformanceWarning: DataFrame is highly fragmented.  This is usually the result of calling `frame.insert` many times, which has poor performance.  Consider joining all columns at once using pd.concat(axis=1) instead. To get a de-fragmented frame, use `newframe = frame.copy()`\n",
      "  df_leftovers[e + str(t)] = df_leftovers[e]\n",
      "/Users/spowell/Library/CloudStorage/OneDrive-ETHZurich/Code/lrmef-evcontrol/GridModel/simple_dispatch.py:463: PerformanceWarning: DataFrame is highly fragmented.  This is usually the result of calling `frame.insert` many times, which has poor performance.  Consider joining all columns at once using pd.concat(axis=1) instead. To get a de-fragmented frame, use `newframe = frame.copy()`\n",
      "  df_leftovers[e + str(t)] = df_leftovers[e]\n",
      "/Users/spowell/Library/CloudStorage/OneDrive-ETHZurich/Code/lrmef-evcontrol/GridModel/simple_dispatch.py:463: PerformanceWarning: DataFrame is highly fragmented.  This is usually the result of calling `frame.insert` many times, which has poor performance.  Consider joining all columns at once using pd.concat(axis=1) instead. To get a de-fragmented frame, use `newframe = frame.copy()`\n",
      "  df_leftovers[e + str(t)] = df_leftovers[e]\n",
      "/Users/spowell/Library/CloudStorage/OneDrive-ETHZurich/Code/lrmef-evcontrol/GridModel/simple_dispatch.py:463: PerformanceWarning: DataFrame is highly fragmented.  This is usually the result of calling `frame.insert` many times, which has poor performance.  Consider joining all columns at once using pd.concat(axis=1) instead. To get a de-fragmented frame, use `newframe = frame.copy()`\n",
      "  df_leftovers[e + str(t)] = df_leftovers[e]\n",
      "/Users/spowell/Library/CloudStorage/OneDrive-ETHZurich/Code/lrmef-evcontrol/GridModel/simple_dispatch.py:463: PerformanceWarning: DataFrame is highly fragmented.  This is usually the result of calling `frame.insert` many times, which has poor performance.  Consider joining all columns at once using pd.concat(axis=1) instead. To get a de-fragmented frame, use `newframe = frame.copy()`\n",
      "  df_leftovers[e + str(t)] = df_leftovers[e]\n",
      "/Users/spowell/Library/CloudStorage/OneDrive-ETHZurich/Code/lrmef-evcontrol/GridModel/simple_dispatch.py:463: PerformanceWarning: DataFrame is highly fragmented.  This is usually the result of calling `frame.insert` many times, which has poor performance.  Consider joining all columns at once using pd.concat(axis=1) instead. To get a de-fragmented frame, use `newframe = frame.copy()`\n",
      "  df_leftovers[e + str(t)] = df_leftovers[e]\n",
      "/Users/spowell/Library/CloudStorage/OneDrive-ETHZurich/Code/lrmef-evcontrol/GridModel/simple_dispatch.py:463: PerformanceWarning: DataFrame is highly fragmented.  This is usually the result of calling `frame.insert` many times, which has poor performance.  Consider joining all columns at once using pd.concat(axis=1) instead. To get a de-fragmented frame, use `newframe = frame.copy()`\n",
      "  df_leftovers[e + str(t)] = df_leftovers[e]\n",
      "/Users/spowell/Library/CloudStorage/OneDrive-ETHZurich/Code/lrmef-evcontrol/GridModel/simple_dispatch.py:463: PerformanceWarning: DataFrame is highly fragmented.  This is usually the result of calling `frame.insert` many times, which has poor performance.  Consider joining all columns at once using pd.concat(axis=1) instead. To get a de-fragmented frame, use `newframe = frame.copy()`\n",
      "  df_leftovers[e + str(t)] = df_leftovers[e]\n",
      "/Users/spowell/Library/CloudStorage/OneDrive-ETHZurich/Code/lrmef-evcontrol/GridModel/simple_dispatch.py:463: PerformanceWarning: DataFrame is highly fragmented.  This is usually the result of calling `frame.insert` many times, which has poor performance.  Consider joining all columns at once using pd.concat(axis=1) instead. To get a de-fragmented frame, use `newframe = frame.copy()`\n",
      "  df_leftovers[e + str(t)] = df_leftovers[e]\n",
      "/Users/spowell/Library/CloudStorage/OneDrive-ETHZurich/Code/lrmef-evcontrol/GridModel/simple_dispatch.py:463: PerformanceWarning: DataFrame is highly fragmented.  This is usually the result of calling `frame.insert` many times, which has poor performance.  Consider joining all columns at once using pd.concat(axis=1) instead. To get a de-fragmented frame, use `newframe = frame.copy()`\n",
      "  df_leftovers[e + str(t)] = df_leftovers[e]\n",
      "/Users/spowell/Library/CloudStorage/OneDrive-ETHZurich/Code/lrmef-evcontrol/GridModel/simple_dispatch.py:463: PerformanceWarning: DataFrame is highly fragmented.  This is usually the result of calling `frame.insert` many times, which has poor performance.  Consider joining all columns at once using pd.concat(axis=1) instead. To get a de-fragmented frame, use `newframe = frame.copy()`\n",
      "  df_leftovers[e + str(t)] = df_leftovers[e]\n",
      "/Users/spowell/Library/CloudStorage/OneDrive-ETHZurich/Code/lrmef-evcontrol/GridModel/simple_dispatch.py:463: PerformanceWarning: DataFrame is highly fragmented.  This is usually the result of calling `frame.insert` many times, which has poor performance.  Consider joining all columns at once using pd.concat(axis=1) instead. To get a de-fragmented frame, use `newframe = frame.copy()`\n",
      "  df_leftovers[e + str(t)] = df_leftovers[e]\n",
      "/Users/spowell/Library/CloudStorage/OneDrive-ETHZurich/Code/lrmef-evcontrol/GridModel/simple_dispatch.py:463: PerformanceWarning: DataFrame is highly fragmented.  This is usually the result of calling `frame.insert` many times, which has poor performance.  Consider joining all columns at once using pd.concat(axis=1) instead. To get a de-fragmented frame, use `newframe = frame.copy()`\n",
      "  df_leftovers[e + str(t)] = df_leftovers[e]\n",
      "/Users/spowell/Library/CloudStorage/OneDrive-ETHZurich/Code/lrmef-evcontrol/GridModel/simple_dispatch.py:463: PerformanceWarning: DataFrame is highly fragmented.  This is usually the result of calling `frame.insert` many times, which has poor performance.  Consider joining all columns at once using pd.concat(axis=1) instead. To get a de-fragmented frame, use `newframe = frame.copy()`\n",
      "  df_leftovers[e + str(t)] = df_leftovers[e]\n",
      "/Users/spowell/Library/CloudStorage/OneDrive-ETHZurich/Code/lrmef-evcontrol/GridModel/simple_dispatch.py:463: PerformanceWarning: DataFrame is highly fragmented.  This is usually the result of calling `frame.insert` many times, which has poor performance.  Consider joining all columns at once using pd.concat(axis=1) instead. To get a de-fragmented frame, use `newframe = frame.copy()`\n",
      "  df_leftovers[e + str(t)] = df_leftovers[e]\n",
      "/Users/spowell/Library/CloudStorage/OneDrive-ETHZurich/Code/lrmef-evcontrol/GridModel/simple_dispatch.py:463: PerformanceWarning: DataFrame is highly fragmented.  This is usually the result of calling `frame.insert` many times, which has poor performance.  Consider joining all columns at once using pd.concat(axis=1) instead. To get a de-fragmented frame, use `newframe = frame.copy()`\n",
      "  df_leftovers[e + str(t)] = df_leftovers[e]\n",
      "/Users/spowell/Library/CloudStorage/OneDrive-ETHZurich/Code/lrmef-evcontrol/GridModel/simple_dispatch.py:463: PerformanceWarning: DataFrame is highly fragmented.  This is usually the result of calling `frame.insert` many times, which has poor performance.  Consider joining all columns at once using pd.concat(axis=1) instead. To get a de-fragmented frame, use `newframe = frame.copy()`\n",
      "  df_leftovers[e + str(t)] = df_leftovers[e]\n",
      "/Users/spowell/Library/CloudStorage/OneDrive-ETHZurich/Code/lrmef-evcontrol/GridModel/simple_dispatch.py:463: PerformanceWarning: DataFrame is highly fragmented.  This is usually the result of calling `frame.insert` many times, which has poor performance.  Consider joining all columns at once using pd.concat(axis=1) instead. To get a de-fragmented frame, use `newframe = frame.copy()`\n",
      "  df_leftovers[e + str(t)] = df_leftovers[e]\n",
      "/Users/spowell/Library/CloudStorage/OneDrive-ETHZurich/Code/lrmef-evcontrol/GridModel/simple_dispatch.py:463: PerformanceWarning: DataFrame is highly fragmented.  This is usually the result of calling `frame.insert` many times, which has poor performance.  Consider joining all columns at once using pd.concat(axis=1) instead. To get a de-fragmented frame, use `newframe = frame.copy()`\n",
      "  df_leftovers[e + str(t)] = df_leftovers[e]\n",
      "/Users/spowell/Library/CloudStorage/OneDrive-ETHZurich/Code/lrmef-evcontrol/GridModel/simple_dispatch.py:463: PerformanceWarning: DataFrame is highly fragmented.  This is usually the result of calling `frame.insert` many times, which has poor performance.  Consider joining all columns at once using pd.concat(axis=1) instead. To get a de-fragmented frame, use `newframe = frame.copy()`\n",
      "  df_leftovers[e + str(t)] = df_leftovers[e]\n",
      "/Users/spowell/Library/CloudStorage/OneDrive-ETHZurich/Code/lrmef-evcontrol/GridModel/simple_dispatch.py:463: PerformanceWarning: DataFrame is highly fragmented.  This is usually the result of calling `frame.insert` many times, which has poor performance.  Consider joining all columns at once using pd.concat(axis=1) instead. To get a de-fragmented frame, use `newframe = frame.copy()`\n",
      "  df_leftovers[e + str(t)] = df_leftovers[e]\n",
      "/Users/spowell/Library/CloudStorage/OneDrive-ETHZurich/Code/lrmef-evcontrol/GridModel/simple_dispatch.py:463: PerformanceWarning: DataFrame is highly fragmented.  This is usually the result of calling `frame.insert` many times, which has poor performance.  Consider joining all columns at once using pd.concat(axis=1) instead. To get a de-fragmented frame, use `newframe = frame.copy()`\n",
      "  df_leftovers[e + str(t)] = df_leftovers[e]\n",
      "/Users/spowell/Library/CloudStorage/OneDrive-ETHZurich/Code/lrmef-evcontrol/GridModel/simple_dispatch.py:463: PerformanceWarning: DataFrame is highly fragmented.  This is usually the result of calling `frame.insert` many times, which has poor performance.  Consider joining all columns at once using pd.concat(axis=1) instead. To get a de-fragmented frame, use `newframe = frame.copy()`\n",
      "  df_leftovers[e + str(t)] = df_leftovers[e]\n",
      "/Users/spowell/Library/CloudStorage/OneDrive-ETHZurich/Code/lrmef-evcontrol/GridModel/simple_dispatch.py:463: PerformanceWarning: DataFrame is highly fragmented.  This is usually the result of calling `frame.insert` many times, which has poor performance.  Consider joining all columns at once using pd.concat(axis=1) instead. To get a de-fragmented frame, use `newframe = frame.copy()`\n",
      "  df_leftovers[e + str(t)] = df_leftovers[e]\n",
      "/Users/spowell/Library/CloudStorage/OneDrive-ETHZurich/Code/lrmef-evcontrol/GridModel/simple_dispatch.py:463: PerformanceWarning: DataFrame is highly fragmented.  This is usually the result of calling `frame.insert` many times, which has poor performance.  Consider joining all columns at once using pd.concat(axis=1) instead. To get a de-fragmented frame, use `newframe = frame.copy()`\n",
      "  df_leftovers[e + str(t)] = df_leftovers[e]\n",
      "/Users/spowell/Library/CloudStorage/OneDrive-ETHZurich/Code/lrmef-evcontrol/GridModel/simple_dispatch.py:463: PerformanceWarning: DataFrame is highly fragmented.  This is usually the result of calling `frame.insert` many times, which has poor performance.  Consider joining all columns at once using pd.concat(axis=1) instead. To get a de-fragmented frame, use `newframe = frame.copy()`\n",
      "  df_leftovers[e + str(t)] = df_leftovers[e]\n",
      "/Users/spowell/Library/CloudStorage/OneDrive-ETHZurich/Code/lrmef-evcontrol/GridModel/simple_dispatch.py:463: PerformanceWarning: DataFrame is highly fragmented.  This is usually the result of calling `frame.insert` many times, which has poor performance.  Consider joining all columns at once using pd.concat(axis=1) instead. To get a de-fragmented frame, use `newframe = frame.copy()`\n",
      "  df_leftovers[e + str(t)] = df_leftovers[e]\n",
      "/Users/spowell/Library/CloudStorage/OneDrive-ETHZurich/Code/lrmef-evcontrol/GridModel/simple_dispatch.py:463: PerformanceWarning: DataFrame is highly fragmented.  This is usually the result of calling `frame.insert` many times, which has poor performance.  Consider joining all columns at once using pd.concat(axis=1) instead. To get a de-fragmented frame, use `newframe = frame.copy()`\n",
      "  df_leftovers[e + str(t)] = df_leftovers[e]\n",
      "/Users/spowell/Library/CloudStorage/OneDrive-ETHZurich/Code/lrmef-evcontrol/GridModel/simple_dispatch.py:463: PerformanceWarning: DataFrame is highly fragmented.  This is usually the result of calling `frame.insert` many times, which has poor performance.  Consider joining all columns at once using pd.concat(axis=1) instead. To get a de-fragmented frame, use `newframe = frame.copy()`\n",
      "  df_leftovers[e + str(t)] = df_leftovers[e]\n",
      "/Users/spowell/Library/CloudStorage/OneDrive-ETHZurich/Code/lrmef-evcontrol/GridModel/simple_dispatch.py:463: PerformanceWarning: DataFrame is highly fragmented.  This is usually the result of calling `frame.insert` many times, which has poor performance.  Consider joining all columns at once using pd.concat(axis=1) instead. To get a de-fragmented frame, use `newframe = frame.copy()`\n",
      "  df_leftovers[e + str(t)] = df_leftovers[e]\n",
      "/Users/spowell/Library/CloudStorage/OneDrive-ETHZurich/Code/lrmef-evcontrol/GridModel/simple_dispatch.py:463: PerformanceWarning: DataFrame is highly fragmented.  This is usually the result of calling `frame.insert` many times, which has poor performance.  Consider joining all columns at once using pd.concat(axis=1) instead. To get a de-fragmented frame, use `newframe = frame.copy()`\n",
      "  df_leftovers[e + str(t)] = df_leftovers[e]\n",
      "/Users/spowell/Library/CloudStorage/OneDrive-ETHZurich/Code/lrmef-evcontrol/GridModel/simple_dispatch.py:463: PerformanceWarning: DataFrame is highly fragmented.  This is usually the result of calling `frame.insert` many times, which has poor performance.  Consider joining all columns at once using pd.concat(axis=1) instead. To get a de-fragmented frame, use `newframe = frame.copy()`\n",
      "  df_leftovers[e + str(t)] = df_leftovers[e]\n",
      "/Users/spowell/Library/CloudStorage/OneDrive-ETHZurich/Code/lrmef-evcontrol/GridModel/simple_dispatch.py:463: PerformanceWarning: DataFrame is highly fragmented.  This is usually the result of calling `frame.insert` many times, which has poor performance.  Consider joining all columns at once using pd.concat(axis=1) instead. To get a de-fragmented frame, use `newframe = frame.copy()`\n",
      "  df_leftovers[e + str(t)] = df_leftovers[e]\n",
      "/Users/spowell/Library/CloudStorage/OneDrive-ETHZurich/Code/lrmef-evcontrol/GridModel/simple_dispatch.py:463: PerformanceWarning: DataFrame is highly fragmented.  This is usually the result of calling `frame.insert` many times, which has poor performance.  Consider joining all columns at once using pd.concat(axis=1) instead. To get a de-fragmented frame, use `newframe = frame.copy()`\n",
      "  df_leftovers[e + str(t)] = df_leftovers[e]\n",
      "/Users/spowell/Library/CloudStorage/OneDrive-ETHZurich/Code/lrmef-evcontrol/GridModel/simple_dispatch.py:463: PerformanceWarning: DataFrame is highly fragmented.  This is usually the result of calling `frame.insert` many times, which has poor performance.  Consider joining all columns at once using pd.concat(axis=1) instead. To get a de-fragmented frame, use `newframe = frame.copy()`\n",
      "  df_leftovers[e + str(t)] = df_leftovers[e]\n",
      "/Users/spowell/Library/CloudStorage/OneDrive-ETHZurich/Code/lrmef-evcontrol/GridModel/simple_dispatch.py:463: PerformanceWarning: DataFrame is highly fragmented.  This is usually the result of calling `frame.insert` many times, which has poor performance.  Consider joining all columns at once using pd.concat(axis=1) instead. To get a de-fragmented frame, use `newframe = frame.copy()`\n",
      "  df_leftovers[e + str(t)] = df_leftovers[e]\n",
      "/Users/spowell/Library/CloudStorage/OneDrive-ETHZurich/Code/lrmef-evcontrol/GridModel/simple_dispatch.py:463: PerformanceWarning: DataFrame is highly fragmented.  This is usually the result of calling `frame.insert` many times, which has poor performance.  Consider joining all columns at once using pd.concat(axis=1) instead. To get a de-fragmented frame, use `newframe = frame.copy()`\n",
      "  df_leftovers[e + str(t)] = df_leftovers[e]\n",
      "/Users/spowell/Library/CloudStorage/OneDrive-ETHZurich/Code/lrmef-evcontrol/GridModel/simple_dispatch.py:463: PerformanceWarning: DataFrame is highly fragmented.  This is usually the result of calling `frame.insert` many times, which has poor performance.  Consider joining all columns at once using pd.concat(axis=1) instead. To get a de-fragmented frame, use `newframe = frame.copy()`\n",
      "  df_leftovers[e + str(t)] = df_leftovers[e]\n",
      "/Users/spowell/Library/CloudStorage/OneDrive-ETHZurich/Code/lrmef-evcontrol/GridModel/simple_dispatch.py:463: PerformanceWarning: DataFrame is highly fragmented.  This is usually the result of calling `frame.insert` many times, which has poor performance.  Consider joining all columns at once using pd.concat(axis=1) instead. To get a de-fragmented frame, use `newframe = frame.copy()`\n",
      "  df_leftovers[e + str(t)] = df_leftovers[e]\n",
      "/Users/spowell/Library/CloudStorage/OneDrive-ETHZurich/Code/lrmef-evcontrol/GridModel/simple_dispatch.py:463: PerformanceWarning: DataFrame is highly fragmented.  This is usually the result of calling `frame.insert` many times, which has poor performance.  Consider joining all columns at once using pd.concat(axis=1) instead. To get a de-fragmented frame, use `newframe = frame.copy()`\n",
      "  df_leftovers[e + str(t)] = df_leftovers[e]\n",
      "/Users/spowell/Library/CloudStorage/OneDrive-ETHZurich/Code/lrmef-evcontrol/GridModel/simple_dispatch.py:463: PerformanceWarning: DataFrame is highly fragmented.  This is usually the result of calling `frame.insert` many times, which has poor performance.  Consider joining all columns at once using pd.concat(axis=1) instead. To get a de-fragmented frame, use `newframe = frame.copy()`\n",
      "  df_leftovers[e + str(t)] = df_leftovers[e]\n",
      "/Users/spowell/Library/CloudStorage/OneDrive-ETHZurich/Code/lrmef-evcontrol/GridModel/simple_dispatch.py:463: PerformanceWarning: DataFrame is highly fragmented.  This is usually the result of calling `frame.insert` many times, which has poor performance.  Consider joining all columns at once using pd.concat(axis=1) instead. To get a de-fragmented frame, use `newframe = frame.copy()`\n",
      "  df_leftovers[e + str(t)] = df_leftovers[e]\n",
      "/Users/spowell/Library/CloudStorage/OneDrive-ETHZurich/Code/lrmef-evcontrol/GridModel/simple_dispatch.py:463: PerformanceWarning: DataFrame is highly fragmented.  This is usually the result of calling `frame.insert` many times, which has poor performance.  Consider joining all columns at once using pd.concat(axis=1) instead. To get a de-fragmented frame, use `newframe = frame.copy()`\n",
      "  df_leftovers[e + str(t)] = df_leftovers[e]\n",
      "/Users/spowell/Library/CloudStorage/OneDrive-ETHZurich/Code/lrmef-evcontrol/GridModel/simple_dispatch.py:463: PerformanceWarning: DataFrame is highly fragmented.  This is usually the result of calling `frame.insert` many times, which has poor performance.  Consider joining all columns at once using pd.concat(axis=1) instead. To get a de-fragmented frame, use `newframe = frame.copy()`\n",
      "  df_leftovers[e + str(t)] = df_leftovers[e]\n",
      "/Users/spowell/Library/CloudStorage/OneDrive-ETHZurich/Code/lrmef-evcontrol/GridModel/simple_dispatch.py:463: PerformanceWarning: DataFrame is highly fragmented.  This is usually the result of calling `frame.insert` many times, which has poor performance.  Consider joining all columns at once using pd.concat(axis=1) instead. To get a de-fragmented frame, use `newframe = frame.copy()`\n",
      "  df_leftovers[e + str(t)] = df_leftovers[e]\n",
      "/Users/spowell/Library/CloudStorage/OneDrive-ETHZurich/Code/lrmef-evcontrol/GridModel/simple_dispatch.py:463: PerformanceWarning: DataFrame is highly fragmented.  This is usually the result of calling `frame.insert` many times, which has poor performance.  Consider joining all columns at once using pd.concat(axis=1) instead. To get a de-fragmented frame, use `newframe = frame.copy()`\n",
      "  df_leftovers[e + str(t)] = df_leftovers[e]\n",
      "/Users/spowell/Library/CloudStorage/OneDrive-ETHZurich/Code/lrmef-evcontrol/GridModel/simple_dispatch.py:463: PerformanceWarning: DataFrame is highly fragmented.  This is usually the result of calling `frame.insert` many times, which has poor performance.  Consider joining all columns at once using pd.concat(axis=1) instead. To get a de-fragmented frame, use `newframe = frame.copy()`\n",
      "  df_leftovers[e + str(t)] = df_leftovers[e]\n",
      "/Users/spowell/Library/CloudStorage/OneDrive-ETHZurich/Code/lrmef-evcontrol/GridModel/simple_dispatch.py:463: PerformanceWarning: DataFrame is highly fragmented.  This is usually the result of calling `frame.insert` many times, which has poor performance.  Consider joining all columns at once using pd.concat(axis=1) instead. To get a de-fragmented frame, use `newframe = frame.copy()`\n",
      "  df_leftovers[e + str(t)] = df_leftovers[e]\n",
      "/Users/spowell/Library/CloudStorage/OneDrive-ETHZurich/Code/lrmef-evcontrol/GridModel/simple_dispatch.py:463: PerformanceWarning: DataFrame is highly fragmented.  This is usually the result of calling `frame.insert` many times, which has poor performance.  Consider joining all columns at once using pd.concat(axis=1) instead. To get a de-fragmented frame, use `newframe = frame.copy()`\n",
      "  df_leftovers[e + str(t)] = df_leftovers[e]\n",
      "/Users/spowell/Library/CloudStorage/OneDrive-ETHZurich/Code/lrmef-evcontrol/GridModel/simple_dispatch.py:463: PerformanceWarning: DataFrame is highly fragmented.  This is usually the result of calling `frame.insert` many times, which has poor performance.  Consider joining all columns at once using pd.concat(axis=1) instead. To get a de-fragmented frame, use `newframe = frame.copy()`\n",
      "  df_leftovers[e + str(t)] = df_leftovers[e]\n",
      "/Users/spowell/Library/CloudStorage/OneDrive-ETHZurich/Code/lrmef-evcontrol/GridModel/simple_dispatch.py:463: PerformanceWarning: DataFrame is highly fragmented.  This is usually the result of calling `frame.insert` many times, which has poor performance.  Consider joining all columns at once using pd.concat(axis=1) instead. To get a de-fragmented frame, use `newframe = frame.copy()`\n",
      "  df_leftovers[e + str(t)] = df_leftovers[e]\n",
      "/Users/spowell/Library/CloudStorage/OneDrive-ETHZurich/Code/lrmef-evcontrol/GridModel/simple_dispatch.py:463: PerformanceWarning: DataFrame is highly fragmented.  This is usually the result of calling `frame.insert` many times, which has poor performance.  Consider joining all columns at once using pd.concat(axis=1) instead. To get a de-fragmented frame, use `newframe = frame.copy()`\n",
      "  df_leftovers[e + str(t)] = df_leftovers[e]\n",
      "/Users/spowell/Library/CloudStorage/OneDrive-ETHZurich/Code/lrmef-evcontrol/GridModel/simple_dispatch.py:463: PerformanceWarning: DataFrame is highly fragmented.  This is usually the result of calling `frame.insert` many times, which has poor performance.  Consider joining all columns at once using pd.concat(axis=1) instead. To get a de-fragmented frame, use `newframe = frame.copy()`\n",
      "  df_leftovers[e + str(t)] = df_leftovers[e]\n",
      "/Users/spowell/Library/CloudStorage/OneDrive-ETHZurich/Code/lrmef-evcontrol/GridModel/simple_dispatch.py:463: PerformanceWarning: DataFrame is highly fragmented.  This is usually the result of calling `frame.insert` many times, which has poor performance.  Consider joining all columns at once using pd.concat(axis=1) instead. To get a de-fragmented frame, use `newframe = frame.copy()`\n",
      "  df_leftovers[e + str(t)] = df_leftovers[e]\n",
      "/Users/spowell/Library/CloudStorage/OneDrive-ETHZurich/Code/lrmef-evcontrol/GridModel/simple_dispatch.py:463: PerformanceWarning: DataFrame is highly fragmented.  This is usually the result of calling `frame.insert` many times, which has poor performance.  Consider joining all columns at once using pd.concat(axis=1) instead. To get a de-fragmented frame, use `newframe = frame.copy()`\n",
      "  df_leftovers[e + str(t)] = df_leftovers[e]\n",
      "/Users/spowell/Library/CloudStorage/OneDrive-ETHZurich/Code/lrmef-evcontrol/GridModel/simple_dispatch.py:463: PerformanceWarning: DataFrame is highly fragmented.  This is usually the result of calling `frame.insert` many times, which has poor performance.  Consider joining all columns at once using pd.concat(axis=1) instead. To get a de-fragmented frame, use `newframe = frame.copy()`\n",
      "  df_leftovers[e + str(t)] = df_leftovers[e]\n",
      "/Users/spowell/Library/CloudStorage/OneDrive-ETHZurich/Code/lrmef-evcontrol/GridModel/simple_dispatch.py:463: PerformanceWarning: DataFrame is highly fragmented.  This is usually the result of calling `frame.insert` many times, which has poor performance.  Consider joining all columns at once using pd.concat(axis=1) instead. To get a de-fragmented frame, use `newframe = frame.copy()`\n",
      "  df_leftovers[e + str(t)] = df_leftovers[e]\n",
      "/Users/spowell/Library/CloudStorage/OneDrive-ETHZurich/Code/lrmef-evcontrol/GridModel/simple_dispatch.py:463: PerformanceWarning: DataFrame is highly fragmented.  This is usually the result of calling `frame.insert` many times, which has poor performance.  Consider joining all columns at once using pd.concat(axis=1) instead. To get a de-fragmented frame, use `newframe = frame.copy()`\n",
      "  df_leftovers[e + str(t)] = df_leftovers[e]\n",
      "/Users/spowell/Library/CloudStorage/OneDrive-ETHZurich/Code/lrmef-evcontrol/GridModel/simple_dispatch.py:463: PerformanceWarning: DataFrame is highly fragmented.  This is usually the result of calling `frame.insert` many times, which has poor performance.  Consider joining all columns at once using pd.concat(axis=1) instead. To get a de-fragmented frame, use `newframe = frame.copy()`\n",
      "  df_leftovers[e + str(t)] = df_leftovers[e]\n",
      "/Users/spowell/Library/CloudStorage/OneDrive-ETHZurich/Code/lrmef-evcontrol/GridModel/simple_dispatch.py:463: PerformanceWarning: DataFrame is highly fragmented.  This is usually the result of calling `frame.insert` many times, which has poor performance.  Consider joining all columns at once using pd.concat(axis=1) instead. To get a de-fragmented frame, use `newframe = frame.copy()`\n",
      "  df_leftovers[e + str(t)] = df_leftovers[e]\n",
      "/Users/spowell/Library/CloudStorage/OneDrive-ETHZurich/Code/lrmef-evcontrol/GridModel/simple_dispatch.py:463: PerformanceWarning: DataFrame is highly fragmented.  This is usually the result of calling `frame.insert` many times, which has poor performance.  Consider joining all columns at once using pd.concat(axis=1) instead. To get a de-fragmented frame, use `newframe = frame.copy()`\n",
      "  df_leftovers[e + str(t)] = df_leftovers[e]\n",
      "/Users/spowell/Library/CloudStorage/OneDrive-ETHZurich/Code/lrmef-evcontrol/GridModel/simple_dispatch.py:463: PerformanceWarning: DataFrame is highly fragmented.  This is usually the result of calling `frame.insert` many times, which has poor performance.  Consider joining all columns at once using pd.concat(axis=1) instead. To get a de-fragmented frame, use `newframe = frame.copy()`\n",
      "  df_leftovers[e + str(t)] = df_leftovers[e]\n",
      "/Users/spowell/Library/CloudStorage/OneDrive-ETHZurich/Code/lrmef-evcontrol/GridModel/simple_dispatch.py:463: PerformanceWarning: DataFrame is highly fragmented.  This is usually the result of calling `frame.insert` many times, which has poor performance.  Consider joining all columns at once using pd.concat(axis=1) instead. To get a de-fragmented frame, use `newframe = frame.copy()`\n",
      "  df_leftovers[e + str(t)] = df_leftovers[e]\n",
      "/Users/spowell/Library/CloudStorage/OneDrive-ETHZurich/Code/lrmef-evcontrol/GridModel/simple_dispatch.py:461: PerformanceWarning: DataFrame is highly fragmented.  This is usually the result of calling `frame.insert` many times, which has poor performance.  Consider joining all columns at once using pd.concat(axis=1) instead. To get a de-fragmented frame, use `newframe = frame.copy()`\n",
      "  df_leftovers[e + str(t)] = df_leftovers[e].quantile(0.99)\n",
      "/Users/spowell/Library/CloudStorage/OneDrive-ETHZurich/Code/lrmef-evcontrol/GridModel/simple_dispatch.py:461: PerformanceWarning: DataFrame is highly fragmented.  This is usually the result of calling `frame.insert` many times, which has poor performance.  Consider joining all columns at once using pd.concat(axis=1) instead. To get a de-fragmented frame, use `newframe = frame.copy()`\n",
      "  df_leftovers[e + str(t)] = df_leftovers[e].quantile(0.99)\n",
      "/Users/spowell/Library/CloudStorage/OneDrive-ETHZurich/Code/lrmef-evcontrol/GridModel/simple_dispatch.py:461: PerformanceWarning: DataFrame is highly fragmented.  This is usually the result of calling `frame.insert` many times, which has poor performance.  Consider joining all columns at once using pd.concat(axis=1) instead. To get a de-fragmented frame, use `newframe = frame.copy()`\n",
      "  df_leftovers[e + str(t)] = df_leftovers[e].quantile(0.99)\n",
      "/Users/spowell/Library/CloudStorage/OneDrive-ETHZurich/Code/lrmef-evcontrol/GridModel/simple_dispatch.py:461: PerformanceWarning: DataFrame is highly fragmented.  This is usually the result of calling `frame.insert` many times, which has poor performance.  Consider joining all columns at once using pd.concat(axis=1) instead. To get a de-fragmented frame, use `newframe = frame.copy()`\n",
      "  df_leftovers[e + str(t)] = df_leftovers[e].quantile(0.99)\n",
      "/Users/spowell/Library/CloudStorage/OneDrive-ETHZurich/Code/lrmef-evcontrol/GridModel/simple_dispatch.py:461: PerformanceWarning: DataFrame is highly fragmented.  This is usually the result of calling `frame.insert` many times, which has poor performance.  Consider joining all columns at once using pd.concat(axis=1) instead. To get a de-fragmented frame, use `newframe = frame.copy()`\n",
      "  df_leftovers[e + str(t)] = df_leftovers[e].quantile(0.99)\n",
      "/Users/spowell/Library/CloudStorage/OneDrive-ETHZurich/Code/lrmef-evcontrol/GridModel/simple_dispatch.py:461: PerformanceWarning: DataFrame is highly fragmented.  This is usually the result of calling `frame.insert` many times, which has poor performance.  Consider joining all columns at once using pd.concat(axis=1) instead. To get a de-fragmented frame, use `newframe = frame.copy()`\n",
      "  df_leftovers[e + str(t)] = df_leftovers[e].quantile(0.99)\n",
      "/Users/spowell/Library/CloudStorage/OneDrive-ETHZurich/Code/lrmef-evcontrol/GridModel/simple_dispatch.py:461: PerformanceWarning: DataFrame is highly fragmented.  This is usually the result of calling `frame.insert` many times, which has poor performance.  Consider joining all columns at once using pd.concat(axis=1) instead. To get a de-fragmented frame, use `newframe = frame.copy()`\n",
      "  df_leftovers[e + str(t)] = df_leftovers[e].quantile(0.99)\n",
      "/Users/spowell/Library/CloudStorage/OneDrive-ETHZurich/Code/lrmef-evcontrol/GridModel/simple_dispatch.py:461: PerformanceWarning: DataFrame is highly fragmented.  This is usually the result of calling `frame.insert` many times, which has poor performance.  Consider joining all columns at once using pd.concat(axis=1) instead. To get a de-fragmented frame, use `newframe = frame.copy()`\n",
      "  df_leftovers[e + str(t)] = df_leftovers[e].quantile(0.99)\n",
      "/Users/spowell/Library/CloudStorage/OneDrive-ETHZurich/Code/lrmef-evcontrol/GridModel/simple_dispatch.py:461: PerformanceWarning: DataFrame is highly fragmented.  This is usually the result of calling `frame.insert` many times, which has poor performance.  Consider joining all columns at once using pd.concat(axis=1) instead. To get a de-fragmented frame, use `newframe = frame.copy()`\n",
      "  df_leftovers[e + str(t)] = df_leftovers[e].quantile(0.99)\n",
      "/Users/spowell/Library/CloudStorage/OneDrive-ETHZurich/Code/lrmef-evcontrol/GridModel/simple_dispatch.py:461: PerformanceWarning: DataFrame is highly fragmented.  This is usually the result of calling `frame.insert` many times, which has poor performance.  Consider joining all columns at once using pd.concat(axis=1) instead. To get a de-fragmented frame, use `newframe = frame.copy()`\n",
      "  df_leftovers[e + str(t)] = df_leftovers[e].quantile(0.99)\n",
      "/Users/spowell/Library/CloudStorage/OneDrive-ETHZurich/Code/lrmef-evcontrol/GridModel/simple_dispatch.py:461: PerformanceWarning: DataFrame is highly fragmented.  This is usually the result of calling `frame.insert` many times, which has poor performance.  Consider joining all columns at once using pd.concat(axis=1) instead. To get a de-fragmented frame, use `newframe = frame.copy()`\n",
      "  df_leftovers[e + str(t)] = df_leftovers[e].quantile(0.99)\n",
      "/Users/spowell/Library/CloudStorage/OneDrive-ETHZurich/Code/lrmef-evcontrol/GridModel/simple_dispatch.py:461: PerformanceWarning: DataFrame is highly fragmented.  This is usually the result of calling `frame.insert` many times, which has poor performance.  Consider joining all columns at once using pd.concat(axis=1) instead. To get a de-fragmented frame, use `newframe = frame.copy()`\n",
      "  df_leftovers[e + str(t)] = df_leftovers[e].quantile(0.99)\n",
      "/Users/spowell/Library/CloudStorage/OneDrive-ETHZurich/Code/lrmef-evcontrol/GridModel/simple_dispatch.py:461: PerformanceWarning: DataFrame is highly fragmented.  This is usually the result of calling `frame.insert` many times, which has poor performance.  Consider joining all columns at once using pd.concat(axis=1) instead. To get a de-fragmented frame, use `newframe = frame.copy()`\n",
      "  df_leftovers[e + str(t)] = df_leftovers[e].quantile(0.99)\n",
      "/Users/spowell/Library/CloudStorage/OneDrive-ETHZurich/Code/lrmef-evcontrol/GridModel/simple_dispatch.py:461: PerformanceWarning: DataFrame is highly fragmented.  This is usually the result of calling `frame.insert` many times, which has poor performance.  Consider joining all columns at once using pd.concat(axis=1) instead. To get a de-fragmented frame, use `newframe = frame.copy()`\n",
      "  df_leftovers[e + str(t)] = df_leftovers[e].quantile(0.99)\n",
      "/Users/spowell/Library/CloudStorage/OneDrive-ETHZurich/Code/lrmef-evcontrol/GridModel/simple_dispatch.py:461: PerformanceWarning: DataFrame is highly fragmented.  This is usually the result of calling `frame.insert` many times, which has poor performance.  Consider joining all columns at once using pd.concat(axis=1) instead. To get a de-fragmented frame, use `newframe = frame.copy()`\n",
      "  df_leftovers[e + str(t)] = df_leftovers[e].quantile(0.99)\n",
      "/Users/spowell/Library/CloudStorage/OneDrive-ETHZurich/Code/lrmef-evcontrol/GridModel/simple_dispatch.py:461: PerformanceWarning: DataFrame is highly fragmented.  This is usually the result of calling `frame.insert` many times, which has poor performance.  Consider joining all columns at once using pd.concat(axis=1) instead. To get a de-fragmented frame, use `newframe = frame.copy()`\n",
      "  df_leftovers[e + str(t)] = df_leftovers[e].quantile(0.99)\n",
      "/Users/spowell/Library/CloudStorage/OneDrive-ETHZurich/Code/lrmef-evcontrol/GridModel/simple_dispatch.py:461: PerformanceWarning: DataFrame is highly fragmented.  This is usually the result of calling `frame.insert` many times, which has poor performance.  Consider joining all columns at once using pd.concat(axis=1) instead. To get a de-fragmented frame, use `newframe = frame.copy()`\n",
      "  df_leftovers[e + str(t)] = df_leftovers[e].quantile(0.99)\n",
      "/Users/spowell/Library/CloudStorage/OneDrive-ETHZurich/Code/lrmef-evcontrol/GridModel/simple_dispatch.py:461: PerformanceWarning: DataFrame is highly fragmented.  This is usually the result of calling `frame.insert` many times, which has poor performance.  Consider joining all columns at once using pd.concat(axis=1) instead. To get a de-fragmented frame, use `newframe = frame.copy()`\n",
      "  df_leftovers[e + str(t)] = df_leftovers[e].quantile(0.99)\n",
      "/Users/spowell/Library/CloudStorage/OneDrive-ETHZurich/Code/lrmef-evcontrol/GridModel/simple_dispatch.py:461: PerformanceWarning: DataFrame is highly fragmented.  This is usually the result of calling `frame.insert` many times, which has poor performance.  Consider joining all columns at once using pd.concat(axis=1) instead. To get a de-fragmented frame, use `newframe = frame.copy()`\n",
      "  df_leftovers[e + str(t)] = df_leftovers[e].quantile(0.99)\n",
      "/Users/spowell/Library/CloudStorage/OneDrive-ETHZurich/Code/lrmef-evcontrol/GridModel/simple_dispatch.py:461: PerformanceWarning: DataFrame is highly fragmented.  This is usually the result of calling `frame.insert` many times, which has poor performance.  Consider joining all columns at once using pd.concat(axis=1) instead. To get a de-fragmented frame, use `newframe = frame.copy()`\n",
      "  df_leftovers[e + str(t)] = df_leftovers[e].quantile(0.99)\n",
      "/Users/spowell/Library/CloudStorage/OneDrive-ETHZurich/Code/lrmef-evcontrol/GridModel/simple_dispatch.py:461: PerformanceWarning: DataFrame is highly fragmented.  This is usually the result of calling `frame.insert` many times, which has poor performance.  Consider joining all columns at once using pd.concat(axis=1) instead. To get a de-fragmented frame, use `newframe = frame.copy()`\n",
      "  df_leftovers[e + str(t)] = df_leftovers[e].quantile(0.99)\n",
      "/Users/spowell/Library/CloudStorage/OneDrive-ETHZurich/Code/lrmef-evcontrol/GridModel/simple_dispatch.py:461: PerformanceWarning: DataFrame is highly fragmented.  This is usually the result of calling `frame.insert` many times, which has poor performance.  Consider joining all columns at once using pd.concat(axis=1) instead. To get a de-fragmented frame, use `newframe = frame.copy()`\n",
      "  df_leftovers[e + str(t)] = df_leftovers[e].quantile(0.99)\n",
      "/Users/spowell/Library/CloudStorage/OneDrive-ETHZurich/Code/lrmef-evcontrol/GridModel/simple_dispatch.py:461: PerformanceWarning: DataFrame is highly fragmented.  This is usually the result of calling `frame.insert` many times, which has poor performance.  Consider joining all columns at once using pd.concat(axis=1) instead. To get a de-fragmented frame, use `newframe = frame.copy()`\n",
      "  df_leftovers[e + str(t)] = df_leftovers[e].quantile(0.99)\n",
      "/Users/spowell/Library/CloudStorage/OneDrive-ETHZurich/Code/lrmef-evcontrol/GridModel/simple_dispatch.py:461: PerformanceWarning: DataFrame is highly fragmented.  This is usually the result of calling `frame.insert` many times, which has poor performance.  Consider joining all columns at once using pd.concat(axis=1) instead. To get a de-fragmented frame, use `newframe = frame.copy()`\n",
      "  df_leftovers[e + str(t)] = df_leftovers[e].quantile(0.99)\n",
      "/Users/spowell/Library/CloudStorage/OneDrive-ETHZurich/Code/lrmef-evcontrol/GridModel/simple_dispatch.py:461: PerformanceWarning: DataFrame is highly fragmented.  This is usually the result of calling `frame.insert` many times, which has poor performance.  Consider joining all columns at once using pd.concat(axis=1) instead. To get a de-fragmented frame, use `newframe = frame.copy()`\n",
      "  df_leftovers[e + str(t)] = df_leftovers[e].quantile(0.99)\n",
      "/Users/spowell/Library/CloudStorage/OneDrive-ETHZurich/Code/lrmef-evcontrol/GridModel/simple_dispatch.py:461: PerformanceWarning: DataFrame is highly fragmented.  This is usually the result of calling `frame.insert` many times, which has poor performance.  Consider joining all columns at once using pd.concat(axis=1) instead. To get a de-fragmented frame, use `newframe = frame.copy()`\n",
      "  df_leftovers[e + str(t)] = df_leftovers[e].quantile(0.99)\n",
      "/Users/spowell/Library/CloudStorage/OneDrive-ETHZurich/Code/lrmef-evcontrol/GridModel/simple_dispatch.py:461: PerformanceWarning: DataFrame is highly fragmented.  This is usually the result of calling `frame.insert` many times, which has poor performance.  Consider joining all columns at once using pd.concat(axis=1) instead. To get a de-fragmented frame, use `newframe = frame.copy()`\n",
      "  df_leftovers[e + str(t)] = df_leftovers[e].quantile(0.99)\n",
      "/Users/spowell/Library/CloudStorage/OneDrive-ETHZurich/Code/lrmef-evcontrol/GridModel/simple_dispatch.py:461: PerformanceWarning: DataFrame is highly fragmented.  This is usually the result of calling `frame.insert` many times, which has poor performance.  Consider joining all columns at once using pd.concat(axis=1) instead. To get a de-fragmented frame, use `newframe = frame.copy()`\n",
      "  df_leftovers[e + str(t)] = df_leftovers[e].quantile(0.99)\n",
      "/Users/spowell/Library/CloudStorage/OneDrive-ETHZurich/Code/lrmef-evcontrol/GridModel/simple_dispatch.py:461: PerformanceWarning: DataFrame is highly fragmented.  This is usually the result of calling `frame.insert` many times, which has poor performance.  Consider joining all columns at once using pd.concat(axis=1) instead. To get a de-fragmented frame, use `newframe = frame.copy()`\n",
      "  df_leftovers[e + str(t)] = df_leftovers[e].quantile(0.99)\n",
      "/Users/spowell/Library/CloudStorage/OneDrive-ETHZurich/Code/lrmef-evcontrol/GridModel/simple_dispatch.py:461: PerformanceWarning: DataFrame is highly fragmented.  This is usually the result of calling `frame.insert` many times, which has poor performance.  Consider joining all columns at once using pd.concat(axis=1) instead. To get a de-fragmented frame, use `newframe = frame.copy()`\n",
      "  df_leftovers[e + str(t)] = df_leftovers[e].quantile(0.99)\n",
      "/Users/spowell/Library/CloudStorage/OneDrive-ETHZurich/Code/lrmef-evcontrol/GridModel/simple_dispatch.py:461: PerformanceWarning: DataFrame is highly fragmented.  This is usually the result of calling `frame.insert` many times, which has poor performance.  Consider joining all columns at once using pd.concat(axis=1) instead. To get a de-fragmented frame, use `newframe = frame.copy()`\n",
      "  df_leftovers[e + str(t)] = df_leftovers[e].quantile(0.99)\n",
      "/Users/spowell/Library/CloudStorage/OneDrive-ETHZurich/Code/lrmef-evcontrol/GridModel/simple_dispatch.py:461: PerformanceWarning: DataFrame is highly fragmented.  This is usually the result of calling `frame.insert` many times, which has poor performance.  Consider joining all columns at once using pd.concat(axis=1) instead. To get a de-fragmented frame, use `newframe = frame.copy()`\n",
      "  df_leftovers[e + str(t)] = df_leftovers[e].quantile(0.99)\n",
      "/Users/spowell/Library/CloudStorage/OneDrive-ETHZurich/Code/lrmef-evcontrol/GridModel/simple_dispatch.py:461: PerformanceWarning: DataFrame is highly fragmented.  This is usually the result of calling `frame.insert` many times, which has poor performance.  Consider joining all columns at once using pd.concat(axis=1) instead. To get a de-fragmented frame, use `newframe = frame.copy()`\n",
      "  df_leftovers[e + str(t)] = df_leftovers[e].quantile(0.99)\n",
      "/Users/spowell/Library/CloudStorage/OneDrive-ETHZurich/Code/lrmef-evcontrol/GridModel/simple_dispatch.py:461: PerformanceWarning: DataFrame is highly fragmented.  This is usually the result of calling `frame.insert` many times, which has poor performance.  Consider joining all columns at once using pd.concat(axis=1) instead. To get a de-fragmented frame, use `newframe = frame.copy()`\n",
      "  df_leftovers[e + str(t)] = df_leftovers[e].quantile(0.99)\n",
      "/Users/spowell/Library/CloudStorage/OneDrive-ETHZurich/Code/lrmef-evcontrol/GridModel/simple_dispatch.py:461: PerformanceWarning: DataFrame is highly fragmented.  This is usually the result of calling `frame.insert` many times, which has poor performance.  Consider joining all columns at once using pd.concat(axis=1) instead. To get a de-fragmented frame, use `newframe = frame.copy()`\n",
      "  df_leftovers[e + str(t)] = df_leftovers[e].quantile(0.99)\n",
      "/Users/spowell/Library/CloudStorage/OneDrive-ETHZurich/Code/lrmef-evcontrol/GridModel/simple_dispatch.py:461: PerformanceWarning: DataFrame is highly fragmented.  This is usually the result of calling `frame.insert` many times, which has poor performance.  Consider joining all columns at once using pd.concat(axis=1) instead. To get a de-fragmented frame, use `newframe = frame.copy()`\n",
      "  df_leftovers[e + str(t)] = df_leftovers[e].quantile(0.99)\n",
      "/Users/spowell/Library/CloudStorage/OneDrive-ETHZurich/Code/lrmef-evcontrol/GridModel/simple_dispatch.py:461: PerformanceWarning: DataFrame is highly fragmented.  This is usually the result of calling `frame.insert` many times, which has poor performance.  Consider joining all columns at once using pd.concat(axis=1) instead. To get a de-fragmented frame, use `newframe = frame.copy()`\n",
      "  df_leftovers[e + str(t)] = df_leftovers[e].quantile(0.99)\n",
      "/Users/spowell/Library/CloudStorage/OneDrive-ETHZurich/Code/lrmef-evcontrol/GridModel/simple_dispatch.py:461: PerformanceWarning: DataFrame is highly fragmented.  This is usually the result of calling `frame.insert` many times, which has poor performance.  Consider joining all columns at once using pd.concat(axis=1) instead. To get a de-fragmented frame, use `newframe = frame.copy()`\n",
      "  df_leftovers[e + str(t)] = df_leftovers[e].quantile(0.99)\n",
      "/Users/spowell/Library/CloudStorage/OneDrive-ETHZurich/Code/lrmef-evcontrol/GridModel/simple_dispatch.py:461: PerformanceWarning: DataFrame is highly fragmented.  This is usually the result of calling `frame.insert` many times, which has poor performance.  Consider joining all columns at once using pd.concat(axis=1) instead. To get a de-fragmented frame, use `newframe = frame.copy()`\n",
      "  df_leftovers[e + str(t)] = df_leftovers[e].quantile(0.99)\n",
      "/Users/spowell/Library/CloudStorage/OneDrive-ETHZurich/Code/lrmef-evcontrol/GridModel/simple_dispatch.py:461: PerformanceWarning: DataFrame is highly fragmented.  This is usually the result of calling `frame.insert` many times, which has poor performance.  Consider joining all columns at once using pd.concat(axis=1) instead. To get a de-fragmented frame, use `newframe = frame.copy()`\n",
      "  df_leftovers[e + str(t)] = df_leftovers[e].quantile(0.99)\n",
      "/Users/spowell/Library/CloudStorage/OneDrive-ETHZurich/Code/lrmef-evcontrol/GridModel/simple_dispatch.py:461: PerformanceWarning: DataFrame is highly fragmented.  This is usually the result of calling `frame.insert` many times, which has poor performance.  Consider joining all columns at once using pd.concat(axis=1) instead. To get a de-fragmented frame, use `newframe = frame.copy()`\n",
      "  df_leftovers[e + str(t)] = df_leftovers[e].quantile(0.99)\n",
      "/Users/spowell/Library/CloudStorage/OneDrive-ETHZurich/Code/lrmef-evcontrol/GridModel/simple_dispatch.py:461: PerformanceWarning: DataFrame is highly fragmented.  This is usually the result of calling `frame.insert` many times, which has poor performance.  Consider joining all columns at once using pd.concat(axis=1) instead. To get a de-fragmented frame, use `newframe = frame.copy()`\n",
      "  df_leftovers[e + str(t)] = df_leftovers[e].quantile(0.99)\n",
      "/Users/spowell/Library/CloudStorage/OneDrive-ETHZurich/Code/lrmef-evcontrol/GridModel/simple_dispatch.py:461: PerformanceWarning: DataFrame is highly fragmented.  This is usually the result of calling `frame.insert` many times, which has poor performance.  Consider joining all columns at once using pd.concat(axis=1) instead. To get a de-fragmented frame, use `newframe = frame.copy()`\n",
      "  df_leftovers[e + str(t)] = df_leftovers[e].quantile(0.99)\n",
      "/Users/spowell/Library/CloudStorage/OneDrive-ETHZurich/Code/lrmef-evcontrol/GridModel/simple_dispatch.py:461: PerformanceWarning: DataFrame is highly fragmented.  This is usually the result of calling `frame.insert` many times, which has poor performance.  Consider joining all columns at once using pd.concat(axis=1) instead. To get a de-fragmented frame, use `newframe = frame.copy()`\n",
      "  df_leftovers[e + str(t)] = df_leftovers[e].quantile(0.99)\n",
      "/Users/spowell/Library/CloudStorage/OneDrive-ETHZurich/Code/lrmef-evcontrol/GridModel/simple_dispatch.py:461: PerformanceWarning: DataFrame is highly fragmented.  This is usually the result of calling `frame.insert` many times, which has poor performance.  Consider joining all columns at once using pd.concat(axis=1) instead. To get a de-fragmented frame, use `newframe = frame.copy()`\n",
      "  df_leftovers[e + str(t)] = df_leftovers[e].quantile(0.99)\n",
      "/Users/spowell/Library/CloudStorage/OneDrive-ETHZurich/Code/lrmef-evcontrol/GridModel/simple_dispatch.py:461: PerformanceWarning: DataFrame is highly fragmented.  This is usually the result of calling `frame.insert` many times, which has poor performance.  Consider joining all columns at once using pd.concat(axis=1) instead. To get a de-fragmented frame, use `newframe = frame.copy()`\n",
      "  df_leftovers[e + str(t)] = df_leftovers[e].quantile(0.99)\n",
      "/Users/spowell/Library/CloudStorage/OneDrive-ETHZurich/Code/lrmef-evcontrol/GridModel/simple_dispatch.py:461: PerformanceWarning: DataFrame is highly fragmented.  This is usually the result of calling `frame.insert` many times, which has poor performance.  Consider joining all columns at once using pd.concat(axis=1) instead. To get a de-fragmented frame, use `newframe = frame.copy()`\n",
      "  df_leftovers[e + str(t)] = df_leftovers[e].quantile(0.99)\n",
      "/Users/spowell/Library/CloudStorage/OneDrive-ETHZurich/Code/lrmef-evcontrol/GridModel/simple_dispatch.py:461: PerformanceWarning: DataFrame is highly fragmented.  This is usually the result of calling `frame.insert` many times, which has poor performance.  Consider joining all columns at once using pd.concat(axis=1) instead. To get a de-fragmented frame, use `newframe = frame.copy()`\n",
      "  df_leftovers[e + str(t)] = df_leftovers[e].quantile(0.99)\n",
      "/Users/spowell/Library/CloudStorage/OneDrive-ETHZurich/Code/lrmef-evcontrol/GridModel/simple_dispatch.py:461: PerformanceWarning: DataFrame is highly fragmented.  This is usually the result of calling `frame.insert` many times, which has poor performance.  Consider joining all columns at once using pd.concat(axis=1) instead. To get a de-fragmented frame, use `newframe = frame.copy()`\n",
      "  df_leftovers[e + str(t)] = df_leftovers[e].quantile(0.99)\n",
      "/Users/spowell/Library/CloudStorage/OneDrive-ETHZurich/Code/lrmef-evcontrol/GridModel/simple_dispatch.py:461: PerformanceWarning: DataFrame is highly fragmented.  This is usually the result of calling `frame.insert` many times, which has poor performance.  Consider joining all columns at once using pd.concat(axis=1) instead. To get a de-fragmented frame, use `newframe = frame.copy()`\n",
      "  df_leftovers[e + str(t)] = df_leftovers[e].quantile(0.99)\n",
      "/Users/spowell/Library/CloudStorage/OneDrive-ETHZurich/Code/lrmef-evcontrol/GridModel/simple_dispatch.py:461: PerformanceWarning: DataFrame is highly fragmented.  This is usually the result of calling `frame.insert` many times, which has poor performance.  Consider joining all columns at once using pd.concat(axis=1) instead. To get a de-fragmented frame, use `newframe = frame.copy()`\n",
      "  df_leftovers[e + str(t)] = df_leftovers[e].quantile(0.99)\n",
      "/Users/spowell/Library/CloudStorage/OneDrive-ETHZurich/Code/lrmef-evcontrol/GridModel/simple_dispatch.py:461: PerformanceWarning: DataFrame is highly fragmented.  This is usually the result of calling `frame.insert` many times, which has poor performance.  Consider joining all columns at once using pd.concat(axis=1) instead. To get a de-fragmented frame, use `newframe = frame.copy()`\n",
      "  df_leftovers[e + str(t)] = df_leftovers[e].quantile(0.99)\n"
     ]
    },
    {
     "name": "stderr",
     "output_type": "stream",
     "text": [
      "/Users/spowell/Library/CloudStorage/OneDrive-ETHZurich/Code/lrmef-evcontrol/GridModel/simple_dispatch.py:766: FutureWarning: Setting an item of incompatible dtype is deprecated and will raise in a future error of pandas. Value 'coal_0' has dtype incompatible with int64, please explicitly cast to a compatible dtype first.\n",
      "  df.loc[len(df)-1,['orispl', 'orispl_unit', 'fuel', 'fuel_type', 'prime_mover', 'min_out_multiplier', 'min_out', 'is_coal']] = ['coal_0', 'coal_0', 'sub', 'coal', 'st', 0.0, 0.0, 1]\n"
     ]
    },
    {
     "name": "stdout",
     "output_type": "stream",
     "text": [
      "Calculating demand data from CEMS...\n",
      "Adding historical electricity prices...\n",
      "Creating \"demand_data\" time series...\n",
      "Finished in 1.14 minutes. Saving.\n",
      "Saved.\n"
     ]
    }
   ],
   "source": [
    "tic = time.time()\n",
    "gd = generatorData(nerc_region, \n",
    "                   egrid_fname=egrid_data_xlsx, \n",
    "                   eia923_fname=eia923_schedule5_xlsx, \n",
    "                   ferc714IDs_fname=ferc714IDs_csv, \n",
    "                   ferc714_fname=ferc714_part2_schedule6_csv, \n",
    "                   cems_folder=cems_folder_path, \n",
    "                   easiur_fname=easiur_csv_path, \n",
    "                   include_easiur_damages=False, \n",
    "                   year=run_year, \n",
    "                   fuel_commodity_prices_excel_dir=fuel_commodity_prices_xlsx, \n",
    "                   hist_downtime=False, \n",
    "                   coal_min_downtime=12, \n",
    "                   cems_validation_run=False, \n",
    "                   tz_aware=True)   \n",
    "toc = time.time()\n",
    "print('Finished in '+str(np.round((toc-tic)/60, 2))+' minutes. Saving.')\n",
    "gd_short = generatorDataShort(gd)\n",
    "pickle.dump(gd_short, open('../Data/generator_data_short_WECC_2019_local.obj', 'wb'))\n",
    "print('Saved.')"
   ]
  },
  {
   "cell_type": "markdown",
   "metadata": {},
   "source": [
    "# 2022"
   ]
  },
  {
   "cell_type": "code",
   "execution_count": 2,
   "metadata": {},
   "outputs": [],
   "source": [
    "run_year = 2022\n",
    "ferc714_part2_schedule6_csv = '../Data/GridInputData/2022Final/Part 2 Schedule 6 - Balancing Authority Hourly System Lambda.csv'\n",
    "ferc714IDs_csv='../Data/GridInputData/2022Final/2022 Respondent IDs status.csv'\n",
    "cems_folder_path ='../Data/GridInputData/2022Final/CEMS'\n",
    "easiur_csv_path ='GridInputData/egrid_2022_plant_easiur.csv'\n",
    "fuel_commodity_prices_xlsx = '../Data/GridInputData/2022Final/fuel_default_prices.xlsx'\n",
    "egrid_data_xlsx = '../Data/GridInputData/2022Final/eGRID2022_data.xlsx'#egrid2021_data_untfixes.xlsx'\n",
    "eia923_schedule5_xlsx = '../Data/GridInputData/2022Final/EIA923_Schedules_2_3_4_5_M_12_2022_Final.xlsx'\n",
    "\n",
    "nerc_region = 'WECC'"
   ]
  },
  {
   "cell_type": "code",
   "execution_count": 3,
   "metadata": {},
   "outputs": [],
   "source": [
    "# %pip install --upgrade pandas"
   ]
  },
  {
   "cell_type": "code",
   "execution_count": 3,
   "metadata": {
    "scrolled": true
   },
   "outputs": [
    {
     "name": "stdout",
     "output_type": "stream",
     "text": [
      "Reading in unit level data from eGRID...\n",
      "Reading in generator level data from eGRID...\n",
      "Reading in plant level data from eGRID...\n",
      "Reading in data from EIA Form 923...\n",
      "Reading in data from FERC Form 714...\n",
      "Cleaning eGRID Data...\n",
      "Compiling CEMS data...\n",
      "ca: 01\n"
     ]
    },
    {
     "name": "stderr",
     "output_type": "stream",
     "text": [
      "/Users/spowell/Library/CloudStorage/OneDrive-ETHZurich/Code/lrmef-evcontrol/GridModel/simple_dispatch.py:344: DtypeWarning: Columns (4,25,27,29) have mixed types. Specify dtype option on import or set low_memory=False.\n",
      "  df_cems_add = pandas.read_csv(self.cems_folder + '/%s/%s%s%s.csv'%(str(self.year),str(self.year),s,m))\n"
     ]
    },
    {
     "name": "stdout",
     "output_type": "stream",
     "text": [
      "ca: 02\n"
     ]
    },
    {
     "name": "stderr",
     "output_type": "stream",
     "text": [
      "/Users/spowell/Library/CloudStorage/OneDrive-ETHZurich/Code/lrmef-evcontrol/GridModel/simple_dispatch.py:344: DtypeWarning: Columns (4,25,27,29) have mixed types. Specify dtype option on import or set low_memory=False.\n",
      "  df_cems_add = pandas.read_csv(self.cems_folder + '/%s/%s%s%s.csv'%(str(self.year),str(self.year),s,m))\n"
     ]
    },
    {
     "name": "stdout",
     "output_type": "stream",
     "text": [
      "ca: 03\n"
     ]
    },
    {
     "name": "stderr",
     "output_type": "stream",
     "text": [
      "/Users/spowell/Library/CloudStorage/OneDrive-ETHZurich/Code/lrmef-evcontrol/GridModel/simple_dispatch.py:344: DtypeWarning: Columns (4,25,27,29) have mixed types. Specify dtype option on import or set low_memory=False.\n",
      "  df_cems_add = pandas.read_csv(self.cems_folder + '/%s/%s%s%s.csv'%(str(self.year),str(self.year),s,m))\n"
     ]
    },
    {
     "name": "stdout",
     "output_type": "stream",
     "text": [
      "ca: 04\n"
     ]
    },
    {
     "name": "stderr",
     "output_type": "stream",
     "text": [
      "/Users/spowell/Library/CloudStorage/OneDrive-ETHZurich/Code/lrmef-evcontrol/GridModel/simple_dispatch.py:344: DtypeWarning: Columns (4,25,27,29) have mixed types. Specify dtype option on import or set low_memory=False.\n",
      "  df_cems_add = pandas.read_csv(self.cems_folder + '/%s/%s%s%s.csv'%(str(self.year),str(self.year),s,m))\n"
     ]
    },
    {
     "name": "stdout",
     "output_type": "stream",
     "text": [
      "ca: 05\n"
     ]
    },
    {
     "name": "stderr",
     "output_type": "stream",
     "text": [
      "/Users/spowell/Library/CloudStorage/OneDrive-ETHZurich/Code/lrmef-evcontrol/GridModel/simple_dispatch.py:344: DtypeWarning: Columns (4,25,27,29) have mixed types. Specify dtype option on import or set low_memory=False.\n",
      "  df_cems_add = pandas.read_csv(self.cems_folder + '/%s/%s%s%s.csv'%(str(self.year),str(self.year),s,m))\n"
     ]
    },
    {
     "name": "stdout",
     "output_type": "stream",
     "text": [
      "ca: 06\n"
     ]
    },
    {
     "name": "stderr",
     "output_type": "stream",
     "text": [
      "/Users/spowell/Library/CloudStorage/OneDrive-ETHZurich/Code/lrmef-evcontrol/GridModel/simple_dispatch.py:344: DtypeWarning: Columns (4,25,27,29) have mixed types. Specify dtype option on import or set low_memory=False.\n",
      "  df_cems_add = pandas.read_csv(self.cems_folder + '/%s/%s%s%s.csv'%(str(self.year),str(self.year),s,m))\n"
     ]
    },
    {
     "name": "stdout",
     "output_type": "stream",
     "text": [
      "ca: 07\n"
     ]
    },
    {
     "name": "stderr",
     "output_type": "stream",
     "text": [
      "/Users/spowell/Library/CloudStorage/OneDrive-ETHZurich/Code/lrmef-evcontrol/GridModel/simple_dispatch.py:344: DtypeWarning: Columns (4,25,27,29) have mixed types. Specify dtype option on import or set low_memory=False.\n",
      "  df_cems_add = pandas.read_csv(self.cems_folder + '/%s/%s%s%s.csv'%(str(self.year),str(self.year),s,m))\n"
     ]
    },
    {
     "name": "stdout",
     "output_type": "stream",
     "text": [
      "ca: 08\n"
     ]
    },
    {
     "name": "stderr",
     "output_type": "stream",
     "text": [
      "/Users/spowell/Library/CloudStorage/OneDrive-ETHZurich/Code/lrmef-evcontrol/GridModel/simple_dispatch.py:344: DtypeWarning: Columns (4,25,27,29) have mixed types. Specify dtype option on import or set low_memory=False.\n",
      "  df_cems_add = pandas.read_csv(self.cems_folder + '/%s/%s%s%s.csv'%(str(self.year),str(self.year),s,m))\n"
     ]
    },
    {
     "name": "stdout",
     "output_type": "stream",
     "text": [
      "ca: 09\n"
     ]
    },
    {
     "name": "stderr",
     "output_type": "stream",
     "text": [
      "/Users/spowell/Library/CloudStorage/OneDrive-ETHZurich/Code/lrmef-evcontrol/GridModel/simple_dispatch.py:344: DtypeWarning: Columns (4,25,27,29) have mixed types. Specify dtype option on import or set low_memory=False.\n",
      "  df_cems_add = pandas.read_csv(self.cems_folder + '/%s/%s%s%s.csv'%(str(self.year),str(self.year),s,m))\n"
     ]
    },
    {
     "name": "stdout",
     "output_type": "stream",
     "text": [
      "ca: 10\n"
     ]
    },
    {
     "name": "stderr",
     "output_type": "stream",
     "text": [
      "/Users/spowell/Library/CloudStorage/OneDrive-ETHZurich/Code/lrmef-evcontrol/GridModel/simple_dispatch.py:344: DtypeWarning: Columns (4,25,27,29) have mixed types. Specify dtype option on import or set low_memory=False.\n",
      "  df_cems_add = pandas.read_csv(self.cems_folder + '/%s/%s%s%s.csv'%(str(self.year),str(self.year),s,m))\n"
     ]
    },
    {
     "name": "stdout",
     "output_type": "stream",
     "text": [
      "ca: 11\n"
     ]
    },
    {
     "name": "stderr",
     "output_type": "stream",
     "text": [
      "/Users/spowell/Library/CloudStorage/OneDrive-ETHZurich/Code/lrmef-evcontrol/GridModel/simple_dispatch.py:344: DtypeWarning: Columns (4,25,27,29) have mixed types. Specify dtype option on import or set low_memory=False.\n",
      "  df_cems_add = pandas.read_csv(self.cems_folder + '/%s/%s%s%s.csv'%(str(self.year),str(self.year),s,m))\n"
     ]
    },
    {
     "name": "stdout",
     "output_type": "stream",
     "text": [
      "ca: 12\n"
     ]
    },
    {
     "name": "stderr",
     "output_type": "stream",
     "text": [
      "/Users/spowell/Library/CloudStorage/OneDrive-ETHZurich/Code/lrmef-evcontrol/GridModel/simple_dispatch.py:344: DtypeWarning: Columns (4,25,27,29) have mixed types. Specify dtype option on import or set low_memory=False.\n",
      "  df_cems_add = pandas.read_csv(self.cems_folder + '/%s/%s%s%s.csv'%(str(self.year),str(self.year),s,m))\n"
     ]
    },
    {
     "name": "stdout",
     "output_type": "stream",
     "text": [
      "or: 01\n",
      "or: 02\n",
      "or: 03\n",
      "or: 04\n",
      "or: 05\n",
      "or: 06\n",
      "or: 07\n",
      "or: 08\n",
      "or: 09\n",
      "or: 10\n",
      "or: 11\n",
      "or: 12\n",
      "wa: 01\n",
      "wa: 02\n",
      "wa: 03\n",
      "wa: 04\n",
      "wa: 05\n",
      "wa: 06\n",
      "wa: 07\n",
      "wa: 08\n",
      "wa: 09\n",
      "wa: 10\n",
      "wa: 11\n",
      "wa: 12\n",
      "nv: 01\n",
      "nv: 02\n"
     ]
    },
    {
     "name": "stderr",
     "output_type": "stream",
     "text": [
      "/Users/spowell/Library/CloudStorage/OneDrive-ETHZurich/Code/lrmef-evcontrol/GridModel/simple_dispatch.py:344: DtypeWarning: Columns (4,25,27,29,30) have mixed types. Specify dtype option on import or set low_memory=False.\n",
      "  df_cems_add = pandas.read_csv(self.cems_folder + '/%s/%s%s%s.csv'%(str(self.year),str(self.year),s,m))\n",
      "/Users/spowell/Library/CloudStorage/OneDrive-ETHZurich/Code/lrmef-evcontrol/GridModel/simple_dispatch.py:344: DtypeWarning: Columns (4,25,27,29,30) have mixed types. Specify dtype option on import or set low_memory=False.\n",
      "  df_cems_add = pandas.read_csv(self.cems_folder + '/%s/%s%s%s.csv'%(str(self.year),str(self.year),s,m))\n"
     ]
    },
    {
     "name": "stdout",
     "output_type": "stream",
     "text": [
      "nv: 03\n",
      "nv: 04\n"
     ]
    },
    {
     "name": "stderr",
     "output_type": "stream",
     "text": [
      "/Users/spowell/Library/CloudStorage/OneDrive-ETHZurich/Code/lrmef-evcontrol/GridModel/simple_dispatch.py:344: DtypeWarning: Columns (4,25,27,29,30) have mixed types. Specify dtype option on import or set low_memory=False.\n",
      "  df_cems_add = pandas.read_csv(self.cems_folder + '/%s/%s%s%s.csv'%(str(self.year),str(self.year),s,m))\n",
      "/Users/spowell/Library/CloudStorage/OneDrive-ETHZurich/Code/lrmef-evcontrol/GridModel/simple_dispatch.py:344: DtypeWarning: Columns (4,25,27,29,30) have mixed types. Specify dtype option on import or set low_memory=False.\n",
      "  df_cems_add = pandas.read_csv(self.cems_folder + '/%s/%s%s%s.csv'%(str(self.year),str(self.year),s,m))\n"
     ]
    },
    {
     "name": "stdout",
     "output_type": "stream",
     "text": [
      "nv: 05\n",
      "nv: 06\n"
     ]
    },
    {
     "name": "stderr",
     "output_type": "stream",
     "text": [
      "/Users/spowell/Library/CloudStorage/OneDrive-ETHZurich/Code/lrmef-evcontrol/GridModel/simple_dispatch.py:344: DtypeWarning: Columns (4,25,27,29,30) have mixed types. Specify dtype option on import or set low_memory=False.\n",
      "  df_cems_add = pandas.read_csv(self.cems_folder + '/%s/%s%s%s.csv'%(str(self.year),str(self.year),s,m))\n",
      "/Users/spowell/Library/CloudStorage/OneDrive-ETHZurich/Code/lrmef-evcontrol/GridModel/simple_dispatch.py:344: DtypeWarning: Columns (4,25,27,29,30) have mixed types. Specify dtype option on import or set low_memory=False.\n",
      "  df_cems_add = pandas.read_csv(self.cems_folder + '/%s/%s%s%s.csv'%(str(self.year),str(self.year),s,m))\n"
     ]
    },
    {
     "name": "stdout",
     "output_type": "stream",
     "text": [
      "nv: 07\n",
      "nv: 08\n"
     ]
    },
    {
     "name": "stderr",
     "output_type": "stream",
     "text": [
      "/Users/spowell/Library/CloudStorage/OneDrive-ETHZurich/Code/lrmef-evcontrol/GridModel/simple_dispatch.py:344: DtypeWarning: Columns (4,25,27,29,30) have mixed types. Specify dtype option on import or set low_memory=False.\n",
      "  df_cems_add = pandas.read_csv(self.cems_folder + '/%s/%s%s%s.csv'%(str(self.year),str(self.year),s,m))\n",
      "/Users/spowell/Library/CloudStorage/OneDrive-ETHZurich/Code/lrmef-evcontrol/GridModel/simple_dispatch.py:344: DtypeWarning: Columns (4,25,27,29,30) have mixed types. Specify dtype option on import or set low_memory=False.\n",
      "  df_cems_add = pandas.read_csv(self.cems_folder + '/%s/%s%s%s.csv'%(str(self.year),str(self.year),s,m))\n"
     ]
    },
    {
     "name": "stdout",
     "output_type": "stream",
     "text": [
      "nv: 09\n",
      "nv: 10\n"
     ]
    },
    {
     "name": "stderr",
     "output_type": "stream",
     "text": [
      "/Users/spowell/Library/CloudStorage/OneDrive-ETHZurich/Code/lrmef-evcontrol/GridModel/simple_dispatch.py:344: DtypeWarning: Columns (4,25,27,29,30) have mixed types. Specify dtype option on import or set low_memory=False.\n",
      "  df_cems_add = pandas.read_csv(self.cems_folder + '/%s/%s%s%s.csv'%(str(self.year),str(self.year),s,m))\n",
      "/Users/spowell/Library/CloudStorage/OneDrive-ETHZurich/Code/lrmef-evcontrol/GridModel/simple_dispatch.py:344: DtypeWarning: Columns (4,25,27,29,30) have mixed types. Specify dtype option on import or set low_memory=False.\n",
      "  df_cems_add = pandas.read_csv(self.cems_folder + '/%s/%s%s%s.csv'%(str(self.year),str(self.year),s,m))\n"
     ]
    },
    {
     "name": "stdout",
     "output_type": "stream",
     "text": [
      "nv: 11\n",
      "nv: 12\n"
     ]
    },
    {
     "name": "stderr",
     "output_type": "stream",
     "text": [
      "/Users/spowell/Library/CloudStorage/OneDrive-ETHZurich/Code/lrmef-evcontrol/GridModel/simple_dispatch.py:344: DtypeWarning: Columns (4,25,27,29,30) have mixed types. Specify dtype option on import or set low_memory=False.\n",
      "  df_cems_add = pandas.read_csv(self.cems_folder + '/%s/%s%s%s.csv'%(str(self.year),str(self.year),s,m))\n",
      "/Users/spowell/Library/CloudStorage/OneDrive-ETHZurich/Code/lrmef-evcontrol/GridModel/simple_dispatch.py:344: DtypeWarning: Columns (4,25,27,29,30) have mixed types. Specify dtype option on import or set low_memory=False.\n",
      "  df_cems_add = pandas.read_csv(self.cems_folder + '/%s/%s%s%s.csv'%(str(self.year),str(self.year),s,m))\n"
     ]
    },
    {
     "name": "stdout",
     "output_type": "stream",
     "text": [
      "mt: 01\n",
      "mt: 02\n",
      "mt: 03\n",
      "mt: 04\n",
      "mt: 05\n",
      "mt: 06\n",
      "mt: 07\n",
      "mt: 08\n",
      "mt: 09\n",
      "mt: 10\n",
      "mt: 11\n",
      "mt: 12\n",
      "id: 01\n",
      "id: 02\n",
      "id: 03\n",
      "id: 04\n",
      "id: 05\n",
      "id: 06\n",
      "id: 07\n",
      "id: 08\n",
      "id: 09\n",
      "id: 10\n",
      "id: 11\n",
      "id: 12\n",
      "wy: 01\n"
     ]
    },
    {
     "name": "stderr",
     "output_type": "stream",
     "text": [
      "/Users/spowell/Library/CloudStorage/OneDrive-ETHZurich/Code/lrmef-evcontrol/GridModel/simple_dispatch.py:344: DtypeWarning: Columns (25,27,29,30) have mixed types. Specify dtype option on import or set low_memory=False.\n",
      "  df_cems_add = pandas.read_csv(self.cems_folder + '/%s/%s%s%s.csv'%(str(self.year),str(self.year),s,m))\n",
      "/Users/spowell/Library/CloudStorage/OneDrive-ETHZurich/Code/lrmef-evcontrol/GridModel/simple_dispatch.py:344: DtypeWarning: Columns (11,13,15,17,19,21,23,25,27,29,30) have mixed types. Specify dtype option on import or set low_memory=False.\n",
      "  df_cems_add = pandas.read_csv(self.cems_folder + '/%s/%s%s%s.csv'%(str(self.year),str(self.year),s,m))\n"
     ]
    },
    {
     "name": "stdout",
     "output_type": "stream",
     "text": [
      "wy: 02\n",
      "wy: 03\n"
     ]
    },
    {
     "name": "stderr",
     "output_type": "stream",
     "text": [
      "/Users/spowell/Library/CloudStorage/OneDrive-ETHZurich/Code/lrmef-evcontrol/GridModel/simple_dispatch.py:344: DtypeWarning: Columns (25,27,29,30) have mixed types. Specify dtype option on import or set low_memory=False.\n",
      "  df_cems_add = pandas.read_csv(self.cems_folder + '/%s/%s%s%s.csv'%(str(self.year),str(self.year),s,m))\n",
      "/Users/spowell/Library/CloudStorage/OneDrive-ETHZurich/Code/lrmef-evcontrol/GridModel/simple_dispatch.py:344: DtypeWarning: Columns (25,27,29,30) have mixed types. Specify dtype option on import or set low_memory=False.\n",
      "  df_cems_add = pandas.read_csv(self.cems_folder + '/%s/%s%s%s.csv'%(str(self.year),str(self.year),s,m))\n",
      "/Users/spowell/Library/CloudStorage/OneDrive-ETHZurich/Code/lrmef-evcontrol/GridModel/simple_dispatch.py:344: DtypeWarning: Columns (25,27,29,30) have mixed types. Specify dtype option on import or set low_memory=False.\n",
      "  df_cems_add = pandas.read_csv(self.cems_folder + '/%s/%s%s%s.csv'%(str(self.year),str(self.year),s,m))\n"
     ]
    },
    {
     "name": "stdout",
     "output_type": "stream",
     "text": [
      "wy: 04\n",
      "wy: 05\n",
      "wy: 06\n"
     ]
    },
    {
     "name": "stderr",
     "output_type": "stream",
     "text": [
      "/Users/spowell/Library/CloudStorage/OneDrive-ETHZurich/Code/lrmef-evcontrol/GridModel/simple_dispatch.py:344: DtypeWarning: Columns (25,27,29,30) have mixed types. Specify dtype option on import or set low_memory=False.\n",
      "  df_cems_add = pandas.read_csv(self.cems_folder + '/%s/%s%s%s.csv'%(str(self.year),str(self.year),s,m))\n",
      "/Users/spowell/Library/CloudStorage/OneDrive-ETHZurich/Code/lrmef-evcontrol/GridModel/simple_dispatch.py:344: DtypeWarning: Columns (25,27,29,30) have mixed types. Specify dtype option on import or set low_memory=False.\n",
      "  df_cems_add = pandas.read_csv(self.cems_folder + '/%s/%s%s%s.csv'%(str(self.year),str(self.year),s,m))\n"
     ]
    },
    {
     "name": "stdout",
     "output_type": "stream",
     "text": [
      "wy: 07\n",
      "wy: 08\n"
     ]
    },
    {
     "name": "stderr",
     "output_type": "stream",
     "text": [
      "/Users/spowell/Library/CloudStorage/OneDrive-ETHZurich/Code/lrmef-evcontrol/GridModel/simple_dispatch.py:344: DtypeWarning: Columns (25,27,29,30) have mixed types. Specify dtype option on import or set low_memory=False.\n",
      "  df_cems_add = pandas.read_csv(self.cems_folder + '/%s/%s%s%s.csv'%(str(self.year),str(self.year),s,m))\n",
      "/Users/spowell/Library/CloudStorage/OneDrive-ETHZurich/Code/lrmef-evcontrol/GridModel/simple_dispatch.py:344: DtypeWarning: Columns (25,27,29,30) have mixed types. Specify dtype option on import or set low_memory=False.\n",
      "  df_cems_add = pandas.read_csv(self.cems_folder + '/%s/%s%s%s.csv'%(str(self.year),str(self.year),s,m))\n"
     ]
    },
    {
     "name": "stdout",
     "output_type": "stream",
     "text": [
      "wy: 09\n",
      "wy: 10\n"
     ]
    },
    {
     "name": "stderr",
     "output_type": "stream",
     "text": [
      "/Users/spowell/Library/CloudStorage/OneDrive-ETHZurich/Code/lrmef-evcontrol/GridModel/simple_dispatch.py:344: DtypeWarning: Columns (25,27,29,30) have mixed types. Specify dtype option on import or set low_memory=False.\n",
      "  df_cems_add = pandas.read_csv(self.cems_folder + '/%s/%s%s%s.csv'%(str(self.year),str(self.year),s,m))\n",
      "/Users/spowell/Library/CloudStorage/OneDrive-ETHZurich/Code/lrmef-evcontrol/GridModel/simple_dispatch.py:344: DtypeWarning: Columns (25,27,29,30) have mixed types. Specify dtype option on import or set low_memory=False.\n",
      "  df_cems_add = pandas.read_csv(self.cems_folder + '/%s/%s%s%s.csv'%(str(self.year),str(self.year),s,m))\n"
     ]
    },
    {
     "name": "stdout",
     "output_type": "stream",
     "text": [
      "wy: 11\n",
      "wy: 12\n"
     ]
    },
    {
     "name": "stderr",
     "output_type": "stream",
     "text": [
      "/Users/spowell/Library/CloudStorage/OneDrive-ETHZurich/Code/lrmef-evcontrol/GridModel/simple_dispatch.py:344: DtypeWarning: Columns (25,27,29,30) have mixed types. Specify dtype option on import or set low_memory=False.\n",
      "  df_cems_add = pandas.read_csv(self.cems_folder + '/%s/%s%s%s.csv'%(str(self.year),str(self.year),s,m))\n",
      "/Users/spowell/Library/CloudStorage/OneDrive-ETHZurich/Code/lrmef-evcontrol/GridModel/simple_dispatch.py:344: DtypeWarning: Columns (25,27,29) have mixed types. Specify dtype option on import or set low_memory=False.\n",
      "  df_cems_add = pandas.read_csv(self.cems_folder + '/%s/%s%s%s.csv'%(str(self.year),str(self.year),s,m))\n"
     ]
    },
    {
     "name": "stdout",
     "output_type": "stream",
     "text": [
      "ut: 01\n",
      "ut: 02\n",
      "ut: 03\n"
     ]
    },
    {
     "name": "stderr",
     "output_type": "stream",
     "text": [
      "/Users/spowell/Library/CloudStorage/OneDrive-ETHZurich/Code/lrmef-evcontrol/GridModel/simple_dispatch.py:344: DtypeWarning: Columns (25,27,29) have mixed types. Specify dtype option on import or set low_memory=False.\n",
      "  df_cems_add = pandas.read_csv(self.cems_folder + '/%s/%s%s%s.csv'%(str(self.year),str(self.year),s,m))\n",
      "/Users/spowell/Library/CloudStorage/OneDrive-ETHZurich/Code/lrmef-evcontrol/GridModel/simple_dispatch.py:344: DtypeWarning: Columns (25,27,29) have mixed types. Specify dtype option on import or set low_memory=False.\n",
      "  df_cems_add = pandas.read_csv(self.cems_folder + '/%s/%s%s%s.csv'%(str(self.year),str(self.year),s,m))\n",
      "/Users/spowell/Library/CloudStorage/OneDrive-ETHZurich/Code/lrmef-evcontrol/GridModel/simple_dispatch.py:344: DtypeWarning: Columns (25,27,29) have mixed types. Specify dtype option on import or set low_memory=False.\n",
      "  df_cems_add = pandas.read_csv(self.cems_folder + '/%s/%s%s%s.csv'%(str(self.year),str(self.year),s,m))\n"
     ]
    },
    {
     "name": "stdout",
     "output_type": "stream",
     "text": [
      "ut: 04\n",
      "ut: 05\n",
      "ut: 06\n"
     ]
    },
    {
     "name": "stderr",
     "output_type": "stream",
     "text": [
      "/Users/spowell/Library/CloudStorage/OneDrive-ETHZurich/Code/lrmef-evcontrol/GridModel/simple_dispatch.py:344: DtypeWarning: Columns (25,27,29) have mixed types. Specify dtype option on import or set low_memory=False.\n",
      "  df_cems_add = pandas.read_csv(self.cems_folder + '/%s/%s%s%s.csv'%(str(self.year),str(self.year),s,m))\n",
      "/Users/spowell/Library/CloudStorage/OneDrive-ETHZurich/Code/lrmef-evcontrol/GridModel/simple_dispatch.py:344: DtypeWarning: Columns (25,27,29) have mixed types. Specify dtype option on import or set low_memory=False.\n",
      "  df_cems_add = pandas.read_csv(self.cems_folder + '/%s/%s%s%s.csv'%(str(self.year),str(self.year),s,m))\n",
      "/Users/spowell/Library/CloudStorage/OneDrive-ETHZurich/Code/lrmef-evcontrol/GridModel/simple_dispatch.py:344: DtypeWarning: Columns (25,27,29) have mixed types. Specify dtype option on import or set low_memory=False.\n",
      "  df_cems_add = pandas.read_csv(self.cems_folder + '/%s/%s%s%s.csv'%(str(self.year),str(self.year),s,m))\n"
     ]
    },
    {
     "name": "stdout",
     "output_type": "stream",
     "text": [
      "ut: 07\n",
      "ut: 08\n"
     ]
    },
    {
     "name": "stderr",
     "output_type": "stream",
     "text": [
      "/Users/spowell/Library/CloudStorage/OneDrive-ETHZurich/Code/lrmef-evcontrol/GridModel/simple_dispatch.py:344: DtypeWarning: Columns (25,27,29) have mixed types. Specify dtype option on import or set low_memory=False.\n",
      "  df_cems_add = pandas.read_csv(self.cems_folder + '/%s/%s%s%s.csv'%(str(self.year),str(self.year),s,m))\n",
      "/Users/spowell/Library/CloudStorage/OneDrive-ETHZurich/Code/lrmef-evcontrol/GridModel/simple_dispatch.py:344: DtypeWarning: Columns (25,27,29) have mixed types. Specify dtype option on import or set low_memory=False.\n",
      "  df_cems_add = pandas.read_csv(self.cems_folder + '/%s/%s%s%s.csv'%(str(self.year),str(self.year),s,m))\n"
     ]
    },
    {
     "name": "stdout",
     "output_type": "stream",
     "text": [
      "ut: 09\n",
      "ut: 10\n"
     ]
    },
    {
     "name": "stderr",
     "output_type": "stream",
     "text": [
      "/Users/spowell/Library/CloudStorage/OneDrive-ETHZurich/Code/lrmef-evcontrol/GridModel/simple_dispatch.py:344: DtypeWarning: Columns (25,27,29) have mixed types. Specify dtype option on import or set low_memory=False.\n",
      "  df_cems_add = pandas.read_csv(self.cems_folder + '/%s/%s%s%s.csv'%(str(self.year),str(self.year),s,m))\n",
      "/Users/spowell/Library/CloudStorage/OneDrive-ETHZurich/Code/lrmef-evcontrol/GridModel/simple_dispatch.py:344: DtypeWarning: Columns (25,27,29) have mixed types. Specify dtype option on import or set low_memory=False.\n",
      "  df_cems_add = pandas.read_csv(self.cems_folder + '/%s/%s%s%s.csv'%(str(self.year),str(self.year),s,m))\n"
     ]
    },
    {
     "name": "stdout",
     "output_type": "stream",
     "text": [
      "ut: 11\n",
      "ut: 12\n",
      "co: 01\n"
     ]
    },
    {
     "name": "stderr",
     "output_type": "stream",
     "text": [
      "/Users/spowell/Library/CloudStorage/OneDrive-ETHZurich/Code/lrmef-evcontrol/GridModel/simple_dispatch.py:344: DtypeWarning: Columns (25,27,29) have mixed types. Specify dtype option on import or set low_memory=False.\n",
      "  df_cems_add = pandas.read_csv(self.cems_folder + '/%s/%s%s%s.csv'%(str(self.year),str(self.year),s,m))\n",
      "/Users/spowell/Library/CloudStorage/OneDrive-ETHZurich/Code/lrmef-evcontrol/GridModel/simple_dispatch.py:344: DtypeWarning: Columns (4,25,27,29,30) have mixed types. Specify dtype option on import or set low_memory=False.\n",
      "  df_cems_add = pandas.read_csv(self.cems_folder + '/%s/%s%s%s.csv'%(str(self.year),str(self.year),s,m))\n"
     ]
    },
    {
     "name": "stdout",
     "output_type": "stream",
     "text": [
      "co: 02\n",
      "co: 03\n"
     ]
    },
    {
     "name": "stderr",
     "output_type": "stream",
     "text": [
      "/Users/spowell/Library/CloudStorage/OneDrive-ETHZurich/Code/lrmef-evcontrol/GridModel/simple_dispatch.py:344: DtypeWarning: Columns (4,27,29,30) have mixed types. Specify dtype option on import or set low_memory=False.\n",
      "  df_cems_add = pandas.read_csv(self.cems_folder + '/%s/%s%s%s.csv'%(str(self.year),str(self.year),s,m))\n",
      "/Users/spowell/Library/CloudStorage/OneDrive-ETHZurich/Code/lrmef-evcontrol/GridModel/simple_dispatch.py:344: DtypeWarning: Columns (4,25,27,29,30) have mixed types. Specify dtype option on import or set low_memory=False.\n",
      "  df_cems_add = pandas.read_csv(self.cems_folder + '/%s/%s%s%s.csv'%(str(self.year),str(self.year),s,m))\n"
     ]
    },
    {
     "name": "stdout",
     "output_type": "stream",
     "text": [
      "co: 04\n",
      "co: 05\n"
     ]
    },
    {
     "name": "stderr",
     "output_type": "stream",
     "text": [
      "/Users/spowell/Library/CloudStorage/OneDrive-ETHZurich/Code/lrmef-evcontrol/GridModel/simple_dispatch.py:344: DtypeWarning: Columns (4,27,29,30) have mixed types. Specify dtype option on import or set low_memory=False.\n",
      "  df_cems_add = pandas.read_csv(self.cems_folder + '/%s/%s%s%s.csv'%(str(self.year),str(self.year),s,m))\n",
      "/Users/spowell/Library/CloudStorage/OneDrive-ETHZurich/Code/lrmef-evcontrol/GridModel/simple_dispatch.py:344: DtypeWarning: Columns (4,25,27,29,30) have mixed types. Specify dtype option on import or set low_memory=False.\n",
      "  df_cems_add = pandas.read_csv(self.cems_folder + '/%s/%s%s%s.csv'%(str(self.year),str(self.year),s,m))\n"
     ]
    },
    {
     "name": "stdout",
     "output_type": "stream",
     "text": [
      "co: 06\n",
      "co: 07\n"
     ]
    },
    {
     "name": "stderr",
     "output_type": "stream",
     "text": [
      "/Users/spowell/Library/CloudStorage/OneDrive-ETHZurich/Code/lrmef-evcontrol/GridModel/simple_dispatch.py:344: DtypeWarning: Columns (4,27,29,30) have mixed types. Specify dtype option on import or set low_memory=False.\n",
      "  df_cems_add = pandas.read_csv(self.cems_folder + '/%s/%s%s%s.csv'%(str(self.year),str(self.year),s,m))\n",
      "/Users/spowell/Library/CloudStorage/OneDrive-ETHZurich/Code/lrmef-evcontrol/GridModel/simple_dispatch.py:344: DtypeWarning: Columns (4,13,17,21,25,27,29,30) have mixed types. Specify dtype option on import or set low_memory=False.\n",
      "  df_cems_add = pandas.read_csv(self.cems_folder + '/%s/%s%s%s.csv'%(str(self.year),str(self.year),s,m))\n"
     ]
    },
    {
     "name": "stdout",
     "output_type": "stream",
     "text": [
      "co: 08\n",
      "co: 09\n"
     ]
    },
    {
     "name": "stderr",
     "output_type": "stream",
     "text": [
      "/Users/spowell/Library/CloudStorage/OneDrive-ETHZurich/Code/lrmef-evcontrol/GridModel/simple_dispatch.py:344: DtypeWarning: Columns (4,25,27,29,30) have mixed types. Specify dtype option on import or set low_memory=False.\n",
      "  df_cems_add = pandas.read_csv(self.cems_folder + '/%s/%s%s%s.csv'%(str(self.year),str(self.year),s,m))\n",
      "/Users/spowell/Library/CloudStorage/OneDrive-ETHZurich/Code/lrmef-evcontrol/GridModel/simple_dispatch.py:344: DtypeWarning: Columns (4,27,29,30) have mixed types. Specify dtype option on import or set low_memory=False.\n",
      "  df_cems_add = pandas.read_csv(self.cems_folder + '/%s/%s%s%s.csv'%(str(self.year),str(self.year),s,m))\n"
     ]
    },
    {
     "name": "stdout",
     "output_type": "stream",
     "text": [
      "co: 10\n",
      "co: 11\n"
     ]
    },
    {
     "name": "stderr",
     "output_type": "stream",
     "text": [
      "/Users/spowell/Library/CloudStorage/OneDrive-ETHZurich/Code/lrmef-evcontrol/GridModel/simple_dispatch.py:344: DtypeWarning: Columns (4,27,29,30) have mixed types. Specify dtype option on import or set low_memory=False.\n",
      "  df_cems_add = pandas.read_csv(self.cems_folder + '/%s/%s%s%s.csv'%(str(self.year),str(self.year),s,m))\n",
      "/Users/spowell/Library/CloudStorage/OneDrive-ETHZurich/Code/lrmef-evcontrol/GridModel/simple_dispatch.py:344: DtypeWarning: Columns (4,27,29,30) have mixed types. Specify dtype option on import or set low_memory=False.\n",
      "  df_cems_add = pandas.read_csv(self.cems_folder + '/%s/%s%s%s.csv'%(str(self.year),str(self.year),s,m))\n"
     ]
    },
    {
     "name": "stdout",
     "output_type": "stream",
     "text": [
      "co: 12\n",
      "az: 01\n"
     ]
    },
    {
     "name": "stderr",
     "output_type": "stream",
     "text": [
      "/Users/spowell/Library/CloudStorage/OneDrive-ETHZurich/Code/lrmef-evcontrol/GridModel/simple_dispatch.py:344: DtypeWarning: Columns (4,27,29,30) have mixed types. Specify dtype option on import or set low_memory=False.\n",
      "  df_cems_add = pandas.read_csv(self.cems_folder + '/%s/%s%s%s.csv'%(str(self.year),str(self.year),s,m))\n",
      "/Users/spowell/Library/CloudStorage/OneDrive-ETHZurich/Code/lrmef-evcontrol/GridModel/simple_dispatch.py:344: DtypeWarning: Columns (25,27,29) have mixed types. Specify dtype option on import or set low_memory=False.\n",
      "  df_cems_add = pandas.read_csv(self.cems_folder + '/%s/%s%s%s.csv'%(str(self.year),str(self.year),s,m))\n",
      "/Users/spowell/Library/CloudStorage/OneDrive-ETHZurich/Code/lrmef-evcontrol/GridModel/simple_dispatch.py:344: DtypeWarning: Columns (25,27,29) have mixed types. Specify dtype option on import or set low_memory=False.\n",
      "  df_cems_add = pandas.read_csv(self.cems_folder + '/%s/%s%s%s.csv'%(str(self.year),str(self.year),s,m))\n"
     ]
    },
    {
     "name": "stdout",
     "output_type": "stream",
     "text": [
      "az: 02\n",
      "az: 03\n"
     ]
    },
    {
     "name": "stderr",
     "output_type": "stream",
     "text": [
      "/Users/spowell/Library/CloudStorage/OneDrive-ETHZurich/Code/lrmef-evcontrol/GridModel/simple_dispatch.py:344: DtypeWarning: Columns (25,27,29) have mixed types. Specify dtype option on import or set low_memory=False.\n",
      "  df_cems_add = pandas.read_csv(self.cems_folder + '/%s/%s%s%s.csv'%(str(self.year),str(self.year),s,m))\n"
     ]
    },
    {
     "name": "stdout",
     "output_type": "stream",
     "text": [
      "az: 04\n"
     ]
    },
    {
     "name": "stderr",
     "output_type": "stream",
     "text": [
      "/Users/spowell/Library/CloudStorage/OneDrive-ETHZurich/Code/lrmef-evcontrol/GridModel/simple_dispatch.py:344: DtypeWarning: Columns (25,27,29) have mixed types. Specify dtype option on import or set low_memory=False.\n",
      "  df_cems_add = pandas.read_csv(self.cems_folder + '/%s/%s%s%s.csv'%(str(self.year),str(self.year),s,m))\n"
     ]
    },
    {
     "name": "stdout",
     "output_type": "stream",
     "text": [
      "az: 05\n"
     ]
    },
    {
     "name": "stderr",
     "output_type": "stream",
     "text": [
      "/Users/spowell/Library/CloudStorage/OneDrive-ETHZurich/Code/lrmef-evcontrol/GridModel/simple_dispatch.py:344: DtypeWarning: Columns (25,27,29) have mixed types. Specify dtype option on import or set low_memory=False.\n",
      "  df_cems_add = pandas.read_csv(self.cems_folder + '/%s/%s%s%s.csv'%(str(self.year),str(self.year),s,m))\n"
     ]
    },
    {
     "name": "stdout",
     "output_type": "stream",
     "text": [
      "az: 06\n"
     ]
    },
    {
     "name": "stderr",
     "output_type": "stream",
     "text": [
      "/Users/spowell/Library/CloudStorage/OneDrive-ETHZurich/Code/lrmef-evcontrol/GridModel/simple_dispatch.py:344: DtypeWarning: Columns (25,27,29) have mixed types. Specify dtype option on import or set low_memory=False.\n",
      "  df_cems_add = pandas.read_csv(self.cems_folder + '/%s/%s%s%s.csv'%(str(self.year),str(self.year),s,m))\n"
     ]
    },
    {
     "name": "stdout",
     "output_type": "stream",
     "text": [
      "az: 07\n"
     ]
    },
    {
     "name": "stderr",
     "output_type": "stream",
     "text": [
      "/Users/spowell/Library/CloudStorage/OneDrive-ETHZurich/Code/lrmef-evcontrol/GridModel/simple_dispatch.py:344: DtypeWarning: Columns (25,27,29) have mixed types. Specify dtype option on import or set low_memory=False.\n",
      "  df_cems_add = pandas.read_csv(self.cems_folder + '/%s/%s%s%s.csv'%(str(self.year),str(self.year),s,m))\n"
     ]
    },
    {
     "name": "stdout",
     "output_type": "stream",
     "text": [
      "az: 08\n"
     ]
    },
    {
     "name": "stderr",
     "output_type": "stream",
     "text": [
      "/Users/spowell/Library/CloudStorage/OneDrive-ETHZurich/Code/lrmef-evcontrol/GridModel/simple_dispatch.py:344: DtypeWarning: Columns (25,27,29) have mixed types. Specify dtype option on import or set low_memory=False.\n",
      "  df_cems_add = pandas.read_csv(self.cems_folder + '/%s/%s%s%s.csv'%(str(self.year),str(self.year),s,m))\n"
     ]
    },
    {
     "name": "stdout",
     "output_type": "stream",
     "text": [
      "az: 09\n"
     ]
    },
    {
     "name": "stderr",
     "output_type": "stream",
     "text": [
      "/Users/spowell/Library/CloudStorage/OneDrive-ETHZurich/Code/lrmef-evcontrol/GridModel/simple_dispatch.py:344: DtypeWarning: Columns (25,27,29) have mixed types. Specify dtype option on import or set low_memory=False.\n",
      "  df_cems_add = pandas.read_csv(self.cems_folder + '/%s/%s%s%s.csv'%(str(self.year),str(self.year),s,m))\n"
     ]
    },
    {
     "name": "stdout",
     "output_type": "stream",
     "text": [
      "az: 10\n"
     ]
    },
    {
     "name": "stderr",
     "output_type": "stream",
     "text": [
      "/Users/spowell/Library/CloudStorage/OneDrive-ETHZurich/Code/lrmef-evcontrol/GridModel/simple_dispatch.py:344: DtypeWarning: Columns (25,27,29) have mixed types. Specify dtype option on import or set low_memory=False.\n",
      "  df_cems_add = pandas.read_csv(self.cems_folder + '/%s/%s%s%s.csv'%(str(self.year),str(self.year),s,m))\n"
     ]
    },
    {
     "name": "stdout",
     "output_type": "stream",
     "text": [
      "az: 11\n"
     ]
    },
    {
     "name": "stderr",
     "output_type": "stream",
     "text": [
      "/Users/spowell/Library/CloudStorage/OneDrive-ETHZurich/Code/lrmef-evcontrol/GridModel/simple_dispatch.py:344: DtypeWarning: Columns (25,27,29) have mixed types. Specify dtype option on import or set low_memory=False.\n",
      "  df_cems_add = pandas.read_csv(self.cems_folder + '/%s/%s%s%s.csv'%(str(self.year),str(self.year),s,m))\n"
     ]
    },
    {
     "name": "stdout",
     "output_type": "stream",
     "text": [
      "az: 12\n"
     ]
    },
    {
     "name": "stderr",
     "output_type": "stream",
     "text": [
      "/Users/spowell/Library/CloudStorage/OneDrive-ETHZurich/Code/lrmef-evcontrol/GridModel/simple_dispatch.py:344: DtypeWarning: Columns (25,27,29) have mixed types. Specify dtype option on import or set low_memory=False.\n",
      "  df_cems_add = pandas.read_csv(self.cems_folder + '/%s/%s%s%s.csv'%(str(self.year),str(self.year),s,m))\n",
      "/Users/spowell/Library/CloudStorage/OneDrive-ETHZurich/Code/lrmef-evcontrol/GridModel/simple_dispatch.py:344: DtypeWarning: Columns (27,29) have mixed types. Specify dtype option on import or set low_memory=False.\n",
      "  df_cems_add = pandas.read_csv(self.cems_folder + '/%s/%s%s%s.csv'%(str(self.year),str(self.year),s,m))\n"
     ]
    },
    {
     "name": "stdout",
     "output_type": "stream",
     "text": [
      "nm: 01\n",
      "nm: 02\n"
     ]
    },
    {
     "name": "stderr",
     "output_type": "stream",
     "text": [
      "/Users/spowell/Library/CloudStorage/OneDrive-ETHZurich/Code/lrmef-evcontrol/GridModel/simple_dispatch.py:344: DtypeWarning: Columns (25,27,29) have mixed types. Specify dtype option on import or set low_memory=False.\n",
      "  df_cems_add = pandas.read_csv(self.cems_folder + '/%s/%s%s%s.csv'%(str(self.year),str(self.year),s,m))\n",
      "/Users/spowell/Library/CloudStorage/OneDrive-ETHZurich/Code/lrmef-evcontrol/GridModel/simple_dispatch.py:344: DtypeWarning: Columns (27,29) have mixed types. Specify dtype option on import or set low_memory=False.\n",
      "  df_cems_add = pandas.read_csv(self.cems_folder + '/%s/%s%s%s.csv'%(str(self.year),str(self.year),s,m))\n"
     ]
    },
    {
     "name": "stdout",
     "output_type": "stream",
     "text": [
      "nm: 03\n",
      "nm: 04\n"
     ]
    },
    {
     "name": "stderr",
     "output_type": "stream",
     "text": [
      "/Users/spowell/Library/CloudStorage/OneDrive-ETHZurich/Code/lrmef-evcontrol/GridModel/simple_dispatch.py:344: DtypeWarning: Columns (27,29) have mixed types. Specify dtype option on import or set low_memory=False.\n",
      "  df_cems_add = pandas.read_csv(self.cems_folder + '/%s/%s%s%s.csv'%(str(self.year),str(self.year),s,m))\n",
      "/Users/spowell/Library/CloudStorage/OneDrive-ETHZurich/Code/lrmef-evcontrol/GridModel/simple_dispatch.py:344: DtypeWarning: Columns (27,29) have mixed types. Specify dtype option on import or set low_memory=False.\n",
      "  df_cems_add = pandas.read_csv(self.cems_folder + '/%s/%s%s%s.csv'%(str(self.year),str(self.year),s,m))\n"
     ]
    },
    {
     "name": "stdout",
     "output_type": "stream",
     "text": [
      "nm: 05\n",
      "nm: 06\n"
     ]
    },
    {
     "name": "stderr",
     "output_type": "stream",
     "text": [
      "/Users/spowell/Library/CloudStorage/OneDrive-ETHZurich/Code/lrmef-evcontrol/GridModel/simple_dispatch.py:344: DtypeWarning: Columns (27,29) have mixed types. Specify dtype option on import or set low_memory=False.\n",
      "  df_cems_add = pandas.read_csv(self.cems_folder + '/%s/%s%s%s.csv'%(str(self.year),str(self.year),s,m))\n",
      "/Users/spowell/Library/CloudStorage/OneDrive-ETHZurich/Code/lrmef-evcontrol/GridModel/simple_dispatch.py:344: DtypeWarning: Columns (27,29) have mixed types. Specify dtype option on import or set low_memory=False.\n",
      "  df_cems_add = pandas.read_csv(self.cems_folder + '/%s/%s%s%s.csv'%(str(self.year),str(self.year),s,m))\n"
     ]
    },
    {
     "name": "stdout",
     "output_type": "stream",
     "text": [
      "nm: 07\n",
      "nm: 08\n"
     ]
    },
    {
     "name": "stderr",
     "output_type": "stream",
     "text": [
      "/Users/spowell/Library/CloudStorage/OneDrive-ETHZurich/Code/lrmef-evcontrol/GridModel/simple_dispatch.py:344: DtypeWarning: Columns (27,29) have mixed types. Specify dtype option on import or set low_memory=False.\n",
      "  df_cems_add = pandas.read_csv(self.cems_folder + '/%s/%s%s%s.csv'%(str(self.year),str(self.year),s,m))\n",
      "/Users/spowell/Library/CloudStorage/OneDrive-ETHZurich/Code/lrmef-evcontrol/GridModel/simple_dispatch.py:344: DtypeWarning: Columns (27,29) have mixed types. Specify dtype option on import or set low_memory=False.\n",
      "  df_cems_add = pandas.read_csv(self.cems_folder + '/%s/%s%s%s.csv'%(str(self.year),str(self.year),s,m))\n"
     ]
    },
    {
     "name": "stdout",
     "output_type": "stream",
     "text": [
      "nm: 09\n",
      "nm: 10\n"
     ]
    },
    {
     "name": "stderr",
     "output_type": "stream",
     "text": [
      "/Users/spowell/Library/CloudStorage/OneDrive-ETHZurich/Code/lrmef-evcontrol/GridModel/simple_dispatch.py:344: DtypeWarning: Columns (27,29) have mixed types. Specify dtype option on import or set low_memory=False.\n",
      "  df_cems_add = pandas.read_csv(self.cems_folder + '/%s/%s%s%s.csv'%(str(self.year),str(self.year),s,m))\n",
      "/Users/spowell/Library/CloudStorage/OneDrive-ETHZurich/Code/lrmef-evcontrol/GridModel/simple_dispatch.py:344: DtypeWarning: Columns (27,29) have mixed types. Specify dtype option on import or set low_memory=False.\n",
      "  df_cems_add = pandas.read_csv(self.cems_folder + '/%s/%s%s%s.csv'%(str(self.year),str(self.year),s,m))\n"
     ]
    },
    {
     "name": "stdout",
     "output_type": "stream",
     "text": [
      "nm: 11\n",
      "nm: 12\n"
     ]
    },
    {
     "name": "stderr",
     "output_type": "stream",
     "text": [
      "/Users/spowell/Library/CloudStorage/OneDrive-ETHZurich/Code/lrmef-evcontrol/GridModel/simple_dispatch.py:344: DtypeWarning: Columns (27,29) have mixed types. Specify dtype option on import or set low_memory=False.\n",
      "  df_cems_add = pandas.read_csv(self.cems_folder + '/%s/%s%s%s.csv'%(str(self.year),str(self.year),s,m))\n"
     ]
    },
    {
     "name": "stdout",
     "output_type": "stream",
     "text": [
      "tx: 01\n"
     ]
    },
    {
     "name": "stderr",
     "output_type": "stream",
     "text": [
      "/Users/spowell/Library/CloudStorage/OneDrive-ETHZurich/Code/lrmef-evcontrol/GridModel/simple_dispatch.py:344: DtypeWarning: Columns (4,25,27,29,30) have mixed types. Specify dtype option on import or set low_memory=False.\n",
      "  df_cems_add = pandas.read_csv(self.cems_folder + '/%s/%s%s%s.csv'%(str(self.year),str(self.year),s,m))\n"
     ]
    },
    {
     "name": "stdout",
     "output_type": "stream",
     "text": [
      "tx: 02\n"
     ]
    },
    {
     "name": "stderr",
     "output_type": "stream",
     "text": [
      "/Users/spowell/Library/CloudStorage/OneDrive-ETHZurich/Code/lrmef-evcontrol/GridModel/simple_dispatch.py:344: DtypeWarning: Columns (4,25,27,29,30) have mixed types. Specify dtype option on import or set low_memory=False.\n",
      "  df_cems_add = pandas.read_csv(self.cems_folder + '/%s/%s%s%s.csv'%(str(self.year),str(self.year),s,m))\n"
     ]
    },
    {
     "name": "stdout",
     "output_type": "stream",
     "text": [
      "tx: 03\n"
     ]
    },
    {
     "name": "stderr",
     "output_type": "stream",
     "text": [
      "/Users/spowell/Library/CloudStorage/OneDrive-ETHZurich/Code/lrmef-evcontrol/GridModel/simple_dispatch.py:344: DtypeWarning: Columns (4,25,27,29,30) have mixed types. Specify dtype option on import or set low_memory=False.\n",
      "  df_cems_add = pandas.read_csv(self.cems_folder + '/%s/%s%s%s.csv'%(str(self.year),str(self.year),s,m))\n"
     ]
    },
    {
     "name": "stdout",
     "output_type": "stream",
     "text": [
      "tx: 04\n"
     ]
    },
    {
     "name": "stderr",
     "output_type": "stream",
     "text": [
      "/Users/spowell/Library/CloudStorage/OneDrive-ETHZurich/Code/lrmef-evcontrol/GridModel/simple_dispatch.py:344: DtypeWarning: Columns (4,25,27,29,30) have mixed types. Specify dtype option on import or set low_memory=False.\n",
      "  df_cems_add = pandas.read_csv(self.cems_folder + '/%s/%s%s%s.csv'%(str(self.year),str(self.year),s,m))\n"
     ]
    },
    {
     "name": "stdout",
     "output_type": "stream",
     "text": [
      "tx: 05\n"
     ]
    },
    {
     "name": "stderr",
     "output_type": "stream",
     "text": [
      "/Users/spowell/Library/CloudStorage/OneDrive-ETHZurich/Code/lrmef-evcontrol/GridModel/simple_dispatch.py:344: DtypeWarning: Columns (4,11,13,15,17,19,21,23,25,27,29,30) have mixed types. Specify dtype option on import or set low_memory=False.\n",
      "  df_cems_add = pandas.read_csv(self.cems_folder + '/%s/%s%s%s.csv'%(str(self.year),str(self.year),s,m))\n"
     ]
    },
    {
     "name": "stdout",
     "output_type": "stream",
     "text": [
      "tx: 06\n"
     ]
    },
    {
     "name": "stderr",
     "output_type": "stream",
     "text": [
      "/Users/spowell/Library/CloudStorage/OneDrive-ETHZurich/Code/lrmef-evcontrol/GridModel/simple_dispatch.py:344: DtypeWarning: Columns (4,25,27,29,30) have mixed types. Specify dtype option on import or set low_memory=False.\n",
      "  df_cems_add = pandas.read_csv(self.cems_folder + '/%s/%s%s%s.csv'%(str(self.year),str(self.year),s,m))\n"
     ]
    },
    {
     "name": "stdout",
     "output_type": "stream",
     "text": [
      "tx: 07\n"
     ]
    },
    {
     "name": "stderr",
     "output_type": "stream",
     "text": [
      "/Users/spowell/Library/CloudStorage/OneDrive-ETHZurich/Code/lrmef-evcontrol/GridModel/simple_dispatch.py:344: DtypeWarning: Columns (4,25,27,29,30) have mixed types. Specify dtype option on import or set low_memory=False.\n",
      "  df_cems_add = pandas.read_csv(self.cems_folder + '/%s/%s%s%s.csv'%(str(self.year),str(self.year),s,m))\n"
     ]
    },
    {
     "name": "stdout",
     "output_type": "stream",
     "text": [
      "tx: 08\n"
     ]
    },
    {
     "name": "stderr",
     "output_type": "stream",
     "text": [
      "/Users/spowell/Library/CloudStorage/OneDrive-ETHZurich/Code/lrmef-evcontrol/GridModel/simple_dispatch.py:344: DtypeWarning: Columns (4,25,27,29,30) have mixed types. Specify dtype option on import or set low_memory=False.\n",
      "  df_cems_add = pandas.read_csv(self.cems_folder + '/%s/%s%s%s.csv'%(str(self.year),str(self.year),s,m))\n"
     ]
    },
    {
     "name": "stdout",
     "output_type": "stream",
     "text": [
      "tx: 09\n"
     ]
    },
    {
     "name": "stderr",
     "output_type": "stream",
     "text": [
      "/Users/spowell/Library/CloudStorage/OneDrive-ETHZurich/Code/lrmef-evcontrol/GridModel/simple_dispatch.py:344: DtypeWarning: Columns (4,25,27,29,30) have mixed types. Specify dtype option on import or set low_memory=False.\n",
      "  df_cems_add = pandas.read_csv(self.cems_folder + '/%s/%s%s%s.csv'%(str(self.year),str(self.year),s,m))\n"
     ]
    },
    {
     "name": "stdout",
     "output_type": "stream",
     "text": [
      "tx: 10\n"
     ]
    },
    {
     "name": "stderr",
     "output_type": "stream",
     "text": [
      "/Users/spowell/Library/CloudStorage/OneDrive-ETHZurich/Code/lrmef-evcontrol/GridModel/simple_dispatch.py:344: DtypeWarning: Columns (4,25,27,29,30) have mixed types. Specify dtype option on import or set low_memory=False.\n",
      "  df_cems_add = pandas.read_csv(self.cems_folder + '/%s/%s%s%s.csv'%(str(self.year),str(self.year),s,m))\n"
     ]
    },
    {
     "name": "stdout",
     "output_type": "stream",
     "text": [
      "tx: 11\n"
     ]
    },
    {
     "name": "stderr",
     "output_type": "stream",
     "text": [
      "/Users/spowell/Library/CloudStorage/OneDrive-ETHZurich/Code/lrmef-evcontrol/GridModel/simple_dispatch.py:344: DtypeWarning: Columns (4,25,27,29,30) have mixed types. Specify dtype option on import or set low_memory=False.\n",
      "  df_cems_add = pandas.read_csv(self.cems_folder + '/%s/%s%s%s.csv'%(str(self.year),str(self.year),s,m))\n"
     ]
    },
    {
     "name": "stdout",
     "output_type": "stream",
     "text": [
      "tx: 12\n"
     ]
    },
    {
     "name": "stderr",
     "output_type": "stream",
     "text": [
      "/Users/spowell/Library/CloudStorage/OneDrive-ETHZurich/Code/lrmef-evcontrol/GridModel/simple_dispatch.py:344: DtypeWarning: Columns (4,25,27,29,30) have mixed types. Specify dtype option on import or set low_memory=False.\n",
      "  df_cems_add = pandas.read_csv(self.cems_folder + '/%s/%s%s%s.csv'%(str(self.year),str(self.year),s,m))\n",
      "/Users/spowell/Library/CloudStorage/OneDrive-ETHZurich/Code/lrmef-evcontrol/GridModel/simple_dispatch.py:434: FutureWarning: DataFrame.fillna with 'method' is deprecated and will raise in a future version. Use obj.ffill() or obj.bfill() instead.\n",
      "  temp_3 = temp_3.fillna(method='ffill', axis=1) # was erroroneously filling down columns in this version of python/pandas\n",
      "/Users/spowell/Library/CloudStorage/OneDrive-ETHZurich/Code/lrmef-evcontrol/GridModel/simple_dispatch.py:434: FutureWarning: DataFrame.fillna with 'method' is deprecated and will raise in a future version. Use obj.ffill() or obj.bfill() instead.\n",
      "  temp_3 = temp_3.fillna(method='ffill', axis=1) # was erroroneously filling down columns in this version of python/pandas\n",
      "/Users/spowell/Library/CloudStorage/OneDrive-ETHZurich/Code/lrmef-evcontrol/GridModel/simple_dispatch.py:434: FutureWarning: DataFrame.fillna with 'method' is deprecated and will raise in a future version. Use obj.ffill() or obj.bfill() instead.\n",
      "  temp_3 = temp_3.fillna(method='ffill', axis=1) # was erroroneously filling down columns in this version of python/pandas\n",
      "/Users/spowell/Library/CloudStorage/OneDrive-ETHZurich/Code/lrmef-evcontrol/GridModel/simple_dispatch.py:434: FutureWarning: DataFrame.fillna with 'method' is deprecated and will raise in a future version. Use obj.ffill() or obj.bfill() instead.\n",
      "  temp_3 = temp_3.fillna(method='ffill', axis=1) # was erroroneously filling down columns in this version of python/pandas\n",
      "/Users/spowell/Library/CloudStorage/OneDrive-ETHZurich/Code/lrmef-evcontrol/GridModel/simple_dispatch.py:434: FutureWarning: DataFrame.fillna with 'method' is deprecated and will raise in a future version. Use obj.ffill() or obj.bfill() instead.\n",
      "  temp_3 = temp_3.fillna(method='ffill', axis=1) # was erroroneously filling down columns in this version of python/pandas\n",
      "/Users/spowell/Library/CloudStorage/OneDrive-ETHZurich/Code/lrmef-evcontrol/GridModel/simple_dispatch.py:463: PerformanceWarning: DataFrame is highly fragmented.  This is usually the result of calling `frame.insert` many times, which has poor performance.  Consider joining all columns at once using pd.concat(axis=1) instead. To get a de-fragmented frame, use `newframe = frame.copy()`\n",
      "  df_leftovers[e + str(t)] = df_leftovers[e]\n",
      "/Users/spowell/Library/CloudStorage/OneDrive-ETHZurich/Code/lrmef-evcontrol/GridModel/simple_dispatch.py:463: PerformanceWarning: DataFrame is highly fragmented.  This is usually the result of calling `frame.insert` many times, which has poor performance.  Consider joining all columns at once using pd.concat(axis=1) instead. To get a de-fragmented frame, use `newframe = frame.copy()`\n",
      "  df_leftovers[e + str(t)] = df_leftovers[e]\n",
      "/Users/spowell/Library/CloudStorage/OneDrive-ETHZurich/Code/lrmef-evcontrol/GridModel/simple_dispatch.py:463: PerformanceWarning: DataFrame is highly fragmented.  This is usually the result of calling `frame.insert` many times, which has poor performance.  Consider joining all columns at once using pd.concat(axis=1) instead. To get a de-fragmented frame, use `newframe = frame.copy()`\n",
      "  df_leftovers[e + str(t)] = df_leftovers[e]\n",
      "/Users/spowell/Library/CloudStorage/OneDrive-ETHZurich/Code/lrmef-evcontrol/GridModel/simple_dispatch.py:463: PerformanceWarning: DataFrame is highly fragmented.  This is usually the result of calling `frame.insert` many times, which has poor performance.  Consider joining all columns at once using pd.concat(axis=1) instead. To get a de-fragmented frame, use `newframe = frame.copy()`\n",
      "  df_leftovers[e + str(t)] = df_leftovers[e]\n",
      "/Users/spowell/Library/CloudStorage/OneDrive-ETHZurich/Code/lrmef-evcontrol/GridModel/simple_dispatch.py:463: PerformanceWarning: DataFrame is highly fragmented.  This is usually the result of calling `frame.insert` many times, which has poor performance.  Consider joining all columns at once using pd.concat(axis=1) instead. To get a de-fragmented frame, use `newframe = frame.copy()`\n",
      "  df_leftovers[e + str(t)] = df_leftovers[e]\n",
      "/Users/spowell/Library/CloudStorage/OneDrive-ETHZurich/Code/lrmef-evcontrol/GridModel/simple_dispatch.py:463: PerformanceWarning: DataFrame is highly fragmented.  This is usually the result of calling `frame.insert` many times, which has poor performance.  Consider joining all columns at once using pd.concat(axis=1) instead. To get a de-fragmented frame, use `newframe = frame.copy()`\n",
      "  df_leftovers[e + str(t)] = df_leftovers[e]\n",
      "/Users/spowell/Library/CloudStorage/OneDrive-ETHZurich/Code/lrmef-evcontrol/GridModel/simple_dispatch.py:463: PerformanceWarning: DataFrame is highly fragmented.  This is usually the result of calling `frame.insert` many times, which has poor performance.  Consider joining all columns at once using pd.concat(axis=1) instead. To get a de-fragmented frame, use `newframe = frame.copy()`\n",
      "  df_leftovers[e + str(t)] = df_leftovers[e]\n",
      "/Users/spowell/Library/CloudStorage/OneDrive-ETHZurich/Code/lrmef-evcontrol/GridModel/simple_dispatch.py:463: PerformanceWarning: DataFrame is highly fragmented.  This is usually the result of calling `frame.insert` many times, which has poor performance.  Consider joining all columns at once using pd.concat(axis=1) instead. To get a de-fragmented frame, use `newframe = frame.copy()`\n",
      "  df_leftovers[e + str(t)] = df_leftovers[e]\n",
      "/Users/spowell/Library/CloudStorage/OneDrive-ETHZurich/Code/lrmef-evcontrol/GridModel/simple_dispatch.py:463: PerformanceWarning: DataFrame is highly fragmented.  This is usually the result of calling `frame.insert` many times, which has poor performance.  Consider joining all columns at once using pd.concat(axis=1) instead. To get a de-fragmented frame, use `newframe = frame.copy()`\n",
      "  df_leftovers[e + str(t)] = df_leftovers[e]\n",
      "/Users/spowell/Library/CloudStorage/OneDrive-ETHZurich/Code/lrmef-evcontrol/GridModel/simple_dispatch.py:463: PerformanceWarning: DataFrame is highly fragmented.  This is usually the result of calling `frame.insert` many times, which has poor performance.  Consider joining all columns at once using pd.concat(axis=1) instead. To get a de-fragmented frame, use `newframe = frame.copy()`\n",
      "  df_leftovers[e + str(t)] = df_leftovers[e]\n",
      "/Users/spowell/Library/CloudStorage/OneDrive-ETHZurich/Code/lrmef-evcontrol/GridModel/simple_dispatch.py:463: PerformanceWarning: DataFrame is highly fragmented.  This is usually the result of calling `frame.insert` many times, which has poor performance.  Consider joining all columns at once using pd.concat(axis=1) instead. To get a de-fragmented frame, use `newframe = frame.copy()`\n",
      "  df_leftovers[e + str(t)] = df_leftovers[e]\n",
      "/Users/spowell/Library/CloudStorage/OneDrive-ETHZurich/Code/lrmef-evcontrol/GridModel/simple_dispatch.py:463: PerformanceWarning: DataFrame is highly fragmented.  This is usually the result of calling `frame.insert` many times, which has poor performance.  Consider joining all columns at once using pd.concat(axis=1) instead. To get a de-fragmented frame, use `newframe = frame.copy()`\n",
      "  df_leftovers[e + str(t)] = df_leftovers[e]\n",
      "/Users/spowell/Library/CloudStorage/OneDrive-ETHZurich/Code/lrmef-evcontrol/GridModel/simple_dispatch.py:463: PerformanceWarning: DataFrame is highly fragmented.  This is usually the result of calling `frame.insert` many times, which has poor performance.  Consider joining all columns at once using pd.concat(axis=1) instead. To get a de-fragmented frame, use `newframe = frame.copy()`\n",
      "  df_leftovers[e + str(t)] = df_leftovers[e]\n",
      "/Users/spowell/Library/CloudStorage/OneDrive-ETHZurich/Code/lrmef-evcontrol/GridModel/simple_dispatch.py:463: PerformanceWarning: DataFrame is highly fragmented.  This is usually the result of calling `frame.insert` many times, which has poor performance.  Consider joining all columns at once using pd.concat(axis=1) instead. To get a de-fragmented frame, use `newframe = frame.copy()`\n",
      "  df_leftovers[e + str(t)] = df_leftovers[e]\n",
      "/Users/spowell/Library/CloudStorage/OneDrive-ETHZurich/Code/lrmef-evcontrol/GridModel/simple_dispatch.py:463: PerformanceWarning: DataFrame is highly fragmented.  This is usually the result of calling `frame.insert` many times, which has poor performance.  Consider joining all columns at once using pd.concat(axis=1) instead. To get a de-fragmented frame, use `newframe = frame.copy()`\n",
      "  df_leftovers[e + str(t)] = df_leftovers[e]\n",
      "/Users/spowell/Library/CloudStorage/OneDrive-ETHZurich/Code/lrmef-evcontrol/GridModel/simple_dispatch.py:463: PerformanceWarning: DataFrame is highly fragmented.  This is usually the result of calling `frame.insert` many times, which has poor performance.  Consider joining all columns at once using pd.concat(axis=1) instead. To get a de-fragmented frame, use `newframe = frame.copy()`\n",
      "  df_leftovers[e + str(t)] = df_leftovers[e]\n",
      "/Users/spowell/Library/CloudStorage/OneDrive-ETHZurich/Code/lrmef-evcontrol/GridModel/simple_dispatch.py:463: PerformanceWarning: DataFrame is highly fragmented.  This is usually the result of calling `frame.insert` many times, which has poor performance.  Consider joining all columns at once using pd.concat(axis=1) instead. To get a de-fragmented frame, use `newframe = frame.copy()`\n",
      "  df_leftovers[e + str(t)] = df_leftovers[e]\n",
      "/Users/spowell/Library/CloudStorage/OneDrive-ETHZurich/Code/lrmef-evcontrol/GridModel/simple_dispatch.py:463: PerformanceWarning: DataFrame is highly fragmented.  This is usually the result of calling `frame.insert` many times, which has poor performance.  Consider joining all columns at once using pd.concat(axis=1) instead. To get a de-fragmented frame, use `newframe = frame.copy()`\n",
      "  df_leftovers[e + str(t)] = df_leftovers[e]\n",
      "/Users/spowell/Library/CloudStorage/OneDrive-ETHZurich/Code/lrmef-evcontrol/GridModel/simple_dispatch.py:463: PerformanceWarning: DataFrame is highly fragmented.  This is usually the result of calling `frame.insert` many times, which has poor performance.  Consider joining all columns at once using pd.concat(axis=1) instead. To get a de-fragmented frame, use `newframe = frame.copy()`\n",
      "  df_leftovers[e + str(t)] = df_leftovers[e]\n",
      "/Users/spowell/Library/CloudStorage/OneDrive-ETHZurich/Code/lrmef-evcontrol/GridModel/simple_dispatch.py:463: PerformanceWarning: DataFrame is highly fragmented.  This is usually the result of calling `frame.insert` many times, which has poor performance.  Consider joining all columns at once using pd.concat(axis=1) instead. To get a de-fragmented frame, use `newframe = frame.copy()`\n",
      "  df_leftovers[e + str(t)] = df_leftovers[e]\n",
      "/Users/spowell/Library/CloudStorage/OneDrive-ETHZurich/Code/lrmef-evcontrol/GridModel/simple_dispatch.py:463: PerformanceWarning: DataFrame is highly fragmented.  This is usually the result of calling `frame.insert` many times, which has poor performance.  Consider joining all columns at once using pd.concat(axis=1) instead. To get a de-fragmented frame, use `newframe = frame.copy()`\n",
      "  df_leftovers[e + str(t)] = df_leftovers[e]\n",
      "/Users/spowell/Library/CloudStorage/OneDrive-ETHZurich/Code/lrmef-evcontrol/GridModel/simple_dispatch.py:463: PerformanceWarning: DataFrame is highly fragmented.  This is usually the result of calling `frame.insert` many times, which has poor performance.  Consider joining all columns at once using pd.concat(axis=1) instead. To get a de-fragmented frame, use `newframe = frame.copy()`\n",
      "  df_leftovers[e + str(t)] = df_leftovers[e]\n",
      "/Users/spowell/Library/CloudStorage/OneDrive-ETHZurich/Code/lrmef-evcontrol/GridModel/simple_dispatch.py:463: PerformanceWarning: DataFrame is highly fragmented.  This is usually the result of calling `frame.insert` many times, which has poor performance.  Consider joining all columns at once using pd.concat(axis=1) instead. To get a de-fragmented frame, use `newframe = frame.copy()`\n",
      "  df_leftovers[e + str(t)] = df_leftovers[e]\n",
      "/Users/spowell/Library/CloudStorage/OneDrive-ETHZurich/Code/lrmef-evcontrol/GridModel/simple_dispatch.py:463: PerformanceWarning: DataFrame is highly fragmented.  This is usually the result of calling `frame.insert` many times, which has poor performance.  Consider joining all columns at once using pd.concat(axis=1) instead. To get a de-fragmented frame, use `newframe = frame.copy()`\n",
      "  df_leftovers[e + str(t)] = df_leftovers[e]\n",
      "/Users/spowell/Library/CloudStorage/OneDrive-ETHZurich/Code/lrmef-evcontrol/GridModel/simple_dispatch.py:463: PerformanceWarning: DataFrame is highly fragmented.  This is usually the result of calling `frame.insert` many times, which has poor performance.  Consider joining all columns at once using pd.concat(axis=1) instead. To get a de-fragmented frame, use `newframe = frame.copy()`\n",
      "  df_leftovers[e + str(t)] = df_leftovers[e]\n",
      "/Users/spowell/Library/CloudStorage/OneDrive-ETHZurich/Code/lrmef-evcontrol/GridModel/simple_dispatch.py:463: PerformanceWarning: DataFrame is highly fragmented.  This is usually the result of calling `frame.insert` many times, which has poor performance.  Consider joining all columns at once using pd.concat(axis=1) instead. To get a de-fragmented frame, use `newframe = frame.copy()`\n",
      "  df_leftovers[e + str(t)] = df_leftovers[e]\n",
      "/Users/spowell/Library/CloudStorage/OneDrive-ETHZurich/Code/lrmef-evcontrol/GridModel/simple_dispatch.py:463: PerformanceWarning: DataFrame is highly fragmented.  This is usually the result of calling `frame.insert` many times, which has poor performance.  Consider joining all columns at once using pd.concat(axis=1) instead. To get a de-fragmented frame, use `newframe = frame.copy()`\n",
      "  df_leftovers[e + str(t)] = df_leftovers[e]\n",
      "/Users/spowell/Library/CloudStorage/OneDrive-ETHZurich/Code/lrmef-evcontrol/GridModel/simple_dispatch.py:463: PerformanceWarning: DataFrame is highly fragmented.  This is usually the result of calling `frame.insert` many times, which has poor performance.  Consider joining all columns at once using pd.concat(axis=1) instead. To get a de-fragmented frame, use `newframe = frame.copy()`\n",
      "  df_leftovers[e + str(t)] = df_leftovers[e]\n",
      "/Users/spowell/Library/CloudStorage/OneDrive-ETHZurich/Code/lrmef-evcontrol/GridModel/simple_dispatch.py:463: PerformanceWarning: DataFrame is highly fragmented.  This is usually the result of calling `frame.insert` many times, which has poor performance.  Consider joining all columns at once using pd.concat(axis=1) instead. To get a de-fragmented frame, use `newframe = frame.copy()`\n",
      "  df_leftovers[e + str(t)] = df_leftovers[e]\n",
      "/Users/spowell/Library/CloudStorage/OneDrive-ETHZurich/Code/lrmef-evcontrol/GridModel/simple_dispatch.py:463: PerformanceWarning: DataFrame is highly fragmented.  This is usually the result of calling `frame.insert` many times, which has poor performance.  Consider joining all columns at once using pd.concat(axis=1) instead. To get a de-fragmented frame, use `newframe = frame.copy()`\n",
      "  df_leftovers[e + str(t)] = df_leftovers[e]\n",
      "/Users/spowell/Library/CloudStorage/OneDrive-ETHZurich/Code/lrmef-evcontrol/GridModel/simple_dispatch.py:463: PerformanceWarning: DataFrame is highly fragmented.  This is usually the result of calling `frame.insert` many times, which has poor performance.  Consider joining all columns at once using pd.concat(axis=1) instead. To get a de-fragmented frame, use `newframe = frame.copy()`\n",
      "  df_leftovers[e + str(t)] = df_leftovers[e]\n",
      "/Users/spowell/Library/CloudStorage/OneDrive-ETHZurich/Code/lrmef-evcontrol/GridModel/simple_dispatch.py:463: PerformanceWarning: DataFrame is highly fragmented.  This is usually the result of calling `frame.insert` many times, which has poor performance.  Consider joining all columns at once using pd.concat(axis=1) instead. To get a de-fragmented frame, use `newframe = frame.copy()`\n",
      "  df_leftovers[e + str(t)] = df_leftovers[e]\n",
      "/Users/spowell/Library/CloudStorage/OneDrive-ETHZurich/Code/lrmef-evcontrol/GridModel/simple_dispatch.py:463: PerformanceWarning: DataFrame is highly fragmented.  This is usually the result of calling `frame.insert` many times, which has poor performance.  Consider joining all columns at once using pd.concat(axis=1) instead. To get a de-fragmented frame, use `newframe = frame.copy()`\n",
      "  df_leftovers[e + str(t)] = df_leftovers[e]\n",
      "/Users/spowell/Library/CloudStorage/OneDrive-ETHZurich/Code/lrmef-evcontrol/GridModel/simple_dispatch.py:463: PerformanceWarning: DataFrame is highly fragmented.  This is usually the result of calling `frame.insert` many times, which has poor performance.  Consider joining all columns at once using pd.concat(axis=1) instead. To get a de-fragmented frame, use `newframe = frame.copy()`\n",
      "  df_leftovers[e + str(t)] = df_leftovers[e]\n",
      "/Users/spowell/Library/CloudStorage/OneDrive-ETHZurich/Code/lrmef-evcontrol/GridModel/simple_dispatch.py:463: PerformanceWarning: DataFrame is highly fragmented.  This is usually the result of calling `frame.insert` many times, which has poor performance.  Consider joining all columns at once using pd.concat(axis=1) instead. To get a de-fragmented frame, use `newframe = frame.copy()`\n",
      "  df_leftovers[e + str(t)] = df_leftovers[e]\n",
      "/Users/spowell/Library/CloudStorage/OneDrive-ETHZurich/Code/lrmef-evcontrol/GridModel/simple_dispatch.py:463: PerformanceWarning: DataFrame is highly fragmented.  This is usually the result of calling `frame.insert` many times, which has poor performance.  Consider joining all columns at once using pd.concat(axis=1) instead. To get a de-fragmented frame, use `newframe = frame.copy()`\n",
      "  df_leftovers[e + str(t)] = df_leftovers[e]\n",
      "/Users/spowell/Library/CloudStorage/OneDrive-ETHZurich/Code/lrmef-evcontrol/GridModel/simple_dispatch.py:463: PerformanceWarning: DataFrame is highly fragmented.  This is usually the result of calling `frame.insert` many times, which has poor performance.  Consider joining all columns at once using pd.concat(axis=1) instead. To get a de-fragmented frame, use `newframe = frame.copy()`\n",
      "  df_leftovers[e + str(t)] = df_leftovers[e]\n",
      "/Users/spowell/Library/CloudStorage/OneDrive-ETHZurich/Code/lrmef-evcontrol/GridModel/simple_dispatch.py:463: PerformanceWarning: DataFrame is highly fragmented.  This is usually the result of calling `frame.insert` many times, which has poor performance.  Consider joining all columns at once using pd.concat(axis=1) instead. To get a de-fragmented frame, use `newframe = frame.copy()`\n",
      "  df_leftovers[e + str(t)] = df_leftovers[e]\n",
      "/Users/spowell/Library/CloudStorage/OneDrive-ETHZurich/Code/lrmef-evcontrol/GridModel/simple_dispatch.py:463: PerformanceWarning: DataFrame is highly fragmented.  This is usually the result of calling `frame.insert` many times, which has poor performance.  Consider joining all columns at once using pd.concat(axis=1) instead. To get a de-fragmented frame, use `newframe = frame.copy()`\n",
      "  df_leftovers[e + str(t)] = df_leftovers[e]\n",
      "/Users/spowell/Library/CloudStorage/OneDrive-ETHZurich/Code/lrmef-evcontrol/GridModel/simple_dispatch.py:463: PerformanceWarning: DataFrame is highly fragmented.  This is usually the result of calling `frame.insert` many times, which has poor performance.  Consider joining all columns at once using pd.concat(axis=1) instead. To get a de-fragmented frame, use `newframe = frame.copy()`\n",
      "  df_leftovers[e + str(t)] = df_leftovers[e]\n",
      "/Users/spowell/Library/CloudStorage/OneDrive-ETHZurich/Code/lrmef-evcontrol/GridModel/simple_dispatch.py:463: PerformanceWarning: DataFrame is highly fragmented.  This is usually the result of calling `frame.insert` many times, which has poor performance.  Consider joining all columns at once using pd.concat(axis=1) instead. To get a de-fragmented frame, use `newframe = frame.copy()`\n",
      "  df_leftovers[e + str(t)] = df_leftovers[e]\n",
      "/Users/spowell/Library/CloudStorage/OneDrive-ETHZurich/Code/lrmef-evcontrol/GridModel/simple_dispatch.py:463: PerformanceWarning: DataFrame is highly fragmented.  This is usually the result of calling `frame.insert` many times, which has poor performance.  Consider joining all columns at once using pd.concat(axis=1) instead. To get a de-fragmented frame, use `newframe = frame.copy()`\n",
      "  df_leftovers[e + str(t)] = df_leftovers[e]\n",
      "/Users/spowell/Library/CloudStorage/OneDrive-ETHZurich/Code/lrmef-evcontrol/GridModel/simple_dispatch.py:463: PerformanceWarning: DataFrame is highly fragmented.  This is usually the result of calling `frame.insert` many times, which has poor performance.  Consider joining all columns at once using pd.concat(axis=1) instead. To get a de-fragmented frame, use `newframe = frame.copy()`\n",
      "  df_leftovers[e + str(t)] = df_leftovers[e]\n",
      "/Users/spowell/Library/CloudStorage/OneDrive-ETHZurich/Code/lrmef-evcontrol/GridModel/simple_dispatch.py:463: PerformanceWarning: DataFrame is highly fragmented.  This is usually the result of calling `frame.insert` many times, which has poor performance.  Consider joining all columns at once using pd.concat(axis=1) instead. To get a de-fragmented frame, use `newframe = frame.copy()`\n",
      "  df_leftovers[e + str(t)] = df_leftovers[e]\n",
      "/Users/spowell/Library/CloudStorage/OneDrive-ETHZurich/Code/lrmef-evcontrol/GridModel/simple_dispatch.py:463: PerformanceWarning: DataFrame is highly fragmented.  This is usually the result of calling `frame.insert` many times, which has poor performance.  Consider joining all columns at once using pd.concat(axis=1) instead. To get a de-fragmented frame, use `newframe = frame.copy()`\n",
      "  df_leftovers[e + str(t)] = df_leftovers[e]\n",
      "/Users/spowell/Library/CloudStorage/OneDrive-ETHZurich/Code/lrmef-evcontrol/GridModel/simple_dispatch.py:463: PerformanceWarning: DataFrame is highly fragmented.  This is usually the result of calling `frame.insert` many times, which has poor performance.  Consider joining all columns at once using pd.concat(axis=1) instead. To get a de-fragmented frame, use `newframe = frame.copy()`\n",
      "  df_leftovers[e + str(t)] = df_leftovers[e]\n",
      "/Users/spowell/Library/CloudStorage/OneDrive-ETHZurich/Code/lrmef-evcontrol/GridModel/simple_dispatch.py:463: PerformanceWarning: DataFrame is highly fragmented.  This is usually the result of calling `frame.insert` many times, which has poor performance.  Consider joining all columns at once using pd.concat(axis=1) instead. To get a de-fragmented frame, use `newframe = frame.copy()`\n",
      "  df_leftovers[e + str(t)] = df_leftovers[e]\n",
      "/Users/spowell/Library/CloudStorage/OneDrive-ETHZurich/Code/lrmef-evcontrol/GridModel/simple_dispatch.py:463: PerformanceWarning: DataFrame is highly fragmented.  This is usually the result of calling `frame.insert` many times, which has poor performance.  Consider joining all columns at once using pd.concat(axis=1) instead. To get a de-fragmented frame, use `newframe = frame.copy()`\n",
      "  df_leftovers[e + str(t)] = df_leftovers[e]\n",
      "/Users/spowell/Library/CloudStorage/OneDrive-ETHZurich/Code/lrmef-evcontrol/GridModel/simple_dispatch.py:463: PerformanceWarning: DataFrame is highly fragmented.  This is usually the result of calling `frame.insert` many times, which has poor performance.  Consider joining all columns at once using pd.concat(axis=1) instead. To get a de-fragmented frame, use `newframe = frame.copy()`\n",
      "  df_leftovers[e + str(t)] = df_leftovers[e]\n",
      "/Users/spowell/Library/CloudStorage/OneDrive-ETHZurich/Code/lrmef-evcontrol/GridModel/simple_dispatch.py:463: PerformanceWarning: DataFrame is highly fragmented.  This is usually the result of calling `frame.insert` many times, which has poor performance.  Consider joining all columns at once using pd.concat(axis=1) instead. To get a de-fragmented frame, use `newframe = frame.copy()`\n",
      "  df_leftovers[e + str(t)] = df_leftovers[e]\n",
      "/Users/spowell/Library/CloudStorage/OneDrive-ETHZurich/Code/lrmef-evcontrol/GridModel/simple_dispatch.py:463: PerformanceWarning: DataFrame is highly fragmented.  This is usually the result of calling `frame.insert` many times, which has poor performance.  Consider joining all columns at once using pd.concat(axis=1) instead. To get a de-fragmented frame, use `newframe = frame.copy()`\n",
      "  df_leftovers[e + str(t)] = df_leftovers[e]\n",
      "/Users/spowell/Library/CloudStorage/OneDrive-ETHZurich/Code/lrmef-evcontrol/GridModel/simple_dispatch.py:463: PerformanceWarning: DataFrame is highly fragmented.  This is usually the result of calling `frame.insert` many times, which has poor performance.  Consider joining all columns at once using pd.concat(axis=1) instead. To get a de-fragmented frame, use `newframe = frame.copy()`\n",
      "  df_leftovers[e + str(t)] = df_leftovers[e]\n",
      "/Users/spowell/Library/CloudStorage/OneDrive-ETHZurich/Code/lrmef-evcontrol/GridModel/simple_dispatch.py:463: PerformanceWarning: DataFrame is highly fragmented.  This is usually the result of calling `frame.insert` many times, which has poor performance.  Consider joining all columns at once using pd.concat(axis=1) instead. To get a de-fragmented frame, use `newframe = frame.copy()`\n",
      "  df_leftovers[e + str(t)] = df_leftovers[e]\n",
      "/Users/spowell/Library/CloudStorage/OneDrive-ETHZurich/Code/lrmef-evcontrol/GridModel/simple_dispatch.py:463: PerformanceWarning: DataFrame is highly fragmented.  This is usually the result of calling `frame.insert` many times, which has poor performance.  Consider joining all columns at once using pd.concat(axis=1) instead. To get a de-fragmented frame, use `newframe = frame.copy()`\n",
      "  df_leftovers[e + str(t)] = df_leftovers[e]\n",
      "/Users/spowell/Library/CloudStorage/OneDrive-ETHZurich/Code/lrmef-evcontrol/GridModel/simple_dispatch.py:463: PerformanceWarning: DataFrame is highly fragmented.  This is usually the result of calling `frame.insert` many times, which has poor performance.  Consider joining all columns at once using pd.concat(axis=1) instead. To get a de-fragmented frame, use `newframe = frame.copy()`\n",
      "  df_leftovers[e + str(t)] = df_leftovers[e]\n",
      "/Users/spowell/Library/CloudStorage/OneDrive-ETHZurich/Code/lrmef-evcontrol/GridModel/simple_dispatch.py:463: PerformanceWarning: DataFrame is highly fragmented.  This is usually the result of calling `frame.insert` many times, which has poor performance.  Consider joining all columns at once using pd.concat(axis=1) instead. To get a de-fragmented frame, use `newframe = frame.copy()`\n",
      "  df_leftovers[e + str(t)] = df_leftovers[e]\n",
      "/Users/spowell/Library/CloudStorage/OneDrive-ETHZurich/Code/lrmef-evcontrol/GridModel/simple_dispatch.py:463: PerformanceWarning: DataFrame is highly fragmented.  This is usually the result of calling `frame.insert` many times, which has poor performance.  Consider joining all columns at once using pd.concat(axis=1) instead. To get a de-fragmented frame, use `newframe = frame.copy()`\n",
      "  df_leftovers[e + str(t)] = df_leftovers[e]\n",
      "/Users/spowell/Library/CloudStorage/OneDrive-ETHZurich/Code/lrmef-evcontrol/GridModel/simple_dispatch.py:463: PerformanceWarning: DataFrame is highly fragmented.  This is usually the result of calling `frame.insert` many times, which has poor performance.  Consider joining all columns at once using pd.concat(axis=1) instead. To get a de-fragmented frame, use `newframe = frame.copy()`\n",
      "  df_leftovers[e + str(t)] = df_leftovers[e]\n",
      "/Users/spowell/Library/CloudStorage/OneDrive-ETHZurich/Code/lrmef-evcontrol/GridModel/simple_dispatch.py:463: PerformanceWarning: DataFrame is highly fragmented.  This is usually the result of calling `frame.insert` many times, which has poor performance.  Consider joining all columns at once using pd.concat(axis=1) instead. To get a de-fragmented frame, use `newframe = frame.copy()`\n",
      "  df_leftovers[e + str(t)] = df_leftovers[e]\n",
      "/Users/spowell/Library/CloudStorage/OneDrive-ETHZurich/Code/lrmef-evcontrol/GridModel/simple_dispatch.py:463: PerformanceWarning: DataFrame is highly fragmented.  This is usually the result of calling `frame.insert` many times, which has poor performance.  Consider joining all columns at once using pd.concat(axis=1) instead. To get a de-fragmented frame, use `newframe = frame.copy()`\n",
      "  df_leftovers[e + str(t)] = df_leftovers[e]\n",
      "/Users/spowell/Library/CloudStorage/OneDrive-ETHZurich/Code/lrmef-evcontrol/GridModel/simple_dispatch.py:463: PerformanceWarning: DataFrame is highly fragmented.  This is usually the result of calling `frame.insert` many times, which has poor performance.  Consider joining all columns at once using pd.concat(axis=1) instead. To get a de-fragmented frame, use `newframe = frame.copy()`\n",
      "  df_leftovers[e + str(t)] = df_leftovers[e]\n",
      "/Users/spowell/Library/CloudStorage/OneDrive-ETHZurich/Code/lrmef-evcontrol/GridModel/simple_dispatch.py:463: PerformanceWarning: DataFrame is highly fragmented.  This is usually the result of calling `frame.insert` many times, which has poor performance.  Consider joining all columns at once using pd.concat(axis=1) instead. To get a de-fragmented frame, use `newframe = frame.copy()`\n",
      "  df_leftovers[e + str(t)] = df_leftovers[e]\n",
      "/Users/spowell/Library/CloudStorage/OneDrive-ETHZurich/Code/lrmef-evcontrol/GridModel/simple_dispatch.py:463: PerformanceWarning: DataFrame is highly fragmented.  This is usually the result of calling `frame.insert` many times, which has poor performance.  Consider joining all columns at once using pd.concat(axis=1) instead. To get a de-fragmented frame, use `newframe = frame.copy()`\n",
      "  df_leftovers[e + str(t)] = df_leftovers[e]\n",
      "/Users/spowell/Library/CloudStorage/OneDrive-ETHZurich/Code/lrmef-evcontrol/GridModel/simple_dispatch.py:463: PerformanceWarning: DataFrame is highly fragmented.  This is usually the result of calling `frame.insert` many times, which has poor performance.  Consider joining all columns at once using pd.concat(axis=1) instead. To get a de-fragmented frame, use `newframe = frame.copy()`\n",
      "  df_leftovers[e + str(t)] = df_leftovers[e]\n",
      "/Users/spowell/Library/CloudStorage/OneDrive-ETHZurich/Code/lrmef-evcontrol/GridModel/simple_dispatch.py:463: PerformanceWarning: DataFrame is highly fragmented.  This is usually the result of calling `frame.insert` many times, which has poor performance.  Consider joining all columns at once using pd.concat(axis=1) instead. To get a de-fragmented frame, use `newframe = frame.copy()`\n",
      "  df_leftovers[e + str(t)] = df_leftovers[e]\n",
      "/Users/spowell/Library/CloudStorage/OneDrive-ETHZurich/Code/lrmef-evcontrol/GridModel/simple_dispatch.py:463: PerformanceWarning: DataFrame is highly fragmented.  This is usually the result of calling `frame.insert` many times, which has poor performance.  Consider joining all columns at once using pd.concat(axis=1) instead. To get a de-fragmented frame, use `newframe = frame.copy()`\n",
      "  df_leftovers[e + str(t)] = df_leftovers[e]\n",
      "/Users/spowell/Library/CloudStorage/OneDrive-ETHZurich/Code/lrmef-evcontrol/GridModel/simple_dispatch.py:463: PerformanceWarning: DataFrame is highly fragmented.  This is usually the result of calling `frame.insert` many times, which has poor performance.  Consider joining all columns at once using pd.concat(axis=1) instead. To get a de-fragmented frame, use `newframe = frame.copy()`\n",
      "  df_leftovers[e + str(t)] = df_leftovers[e]\n",
      "/Users/spowell/Library/CloudStorage/OneDrive-ETHZurich/Code/lrmef-evcontrol/GridModel/simple_dispatch.py:463: PerformanceWarning: DataFrame is highly fragmented.  This is usually the result of calling `frame.insert` many times, which has poor performance.  Consider joining all columns at once using pd.concat(axis=1) instead. To get a de-fragmented frame, use `newframe = frame.copy()`\n",
      "  df_leftovers[e + str(t)] = df_leftovers[e]\n",
      "/Users/spowell/Library/CloudStorage/OneDrive-ETHZurich/Code/lrmef-evcontrol/GridModel/simple_dispatch.py:463: PerformanceWarning: DataFrame is highly fragmented.  This is usually the result of calling `frame.insert` many times, which has poor performance.  Consider joining all columns at once using pd.concat(axis=1) instead. To get a de-fragmented frame, use `newframe = frame.copy()`\n",
      "  df_leftovers[e + str(t)] = df_leftovers[e]\n",
      "/Users/spowell/Library/CloudStorage/OneDrive-ETHZurich/Code/lrmef-evcontrol/GridModel/simple_dispatch.py:463: PerformanceWarning: DataFrame is highly fragmented.  This is usually the result of calling `frame.insert` many times, which has poor performance.  Consider joining all columns at once using pd.concat(axis=1) instead. To get a de-fragmented frame, use `newframe = frame.copy()`\n",
      "  df_leftovers[e + str(t)] = df_leftovers[e]\n",
      "/Users/spowell/Library/CloudStorage/OneDrive-ETHZurich/Code/lrmef-evcontrol/GridModel/simple_dispatch.py:463: PerformanceWarning: DataFrame is highly fragmented.  This is usually the result of calling `frame.insert` many times, which has poor performance.  Consider joining all columns at once using pd.concat(axis=1) instead. To get a de-fragmented frame, use `newframe = frame.copy()`\n",
      "  df_leftovers[e + str(t)] = df_leftovers[e]\n",
      "/Users/spowell/Library/CloudStorage/OneDrive-ETHZurich/Code/lrmef-evcontrol/GridModel/simple_dispatch.py:463: PerformanceWarning: DataFrame is highly fragmented.  This is usually the result of calling `frame.insert` many times, which has poor performance.  Consider joining all columns at once using pd.concat(axis=1) instead. To get a de-fragmented frame, use `newframe = frame.copy()`\n",
      "  df_leftovers[e + str(t)] = df_leftovers[e]\n",
      "/Users/spowell/Library/CloudStorage/OneDrive-ETHZurich/Code/lrmef-evcontrol/GridModel/simple_dispatch.py:463: PerformanceWarning: DataFrame is highly fragmented.  This is usually the result of calling `frame.insert` many times, which has poor performance.  Consider joining all columns at once using pd.concat(axis=1) instead. To get a de-fragmented frame, use `newframe = frame.copy()`\n",
      "  df_leftovers[e + str(t)] = df_leftovers[e]\n",
      "/Users/spowell/Library/CloudStorage/OneDrive-ETHZurich/Code/lrmef-evcontrol/GridModel/simple_dispatch.py:463: PerformanceWarning: DataFrame is highly fragmented.  This is usually the result of calling `frame.insert` many times, which has poor performance.  Consider joining all columns at once using pd.concat(axis=1) instead. To get a de-fragmented frame, use `newframe = frame.copy()`\n",
      "  df_leftovers[e + str(t)] = df_leftovers[e]\n",
      "/Users/spowell/Library/CloudStorage/OneDrive-ETHZurich/Code/lrmef-evcontrol/GridModel/simple_dispatch.py:463: PerformanceWarning: DataFrame is highly fragmented.  This is usually the result of calling `frame.insert` many times, which has poor performance.  Consider joining all columns at once using pd.concat(axis=1) instead. To get a de-fragmented frame, use `newframe = frame.copy()`\n",
      "  df_leftovers[e + str(t)] = df_leftovers[e]\n",
      "/Users/spowell/Library/CloudStorage/OneDrive-ETHZurich/Code/lrmef-evcontrol/GridModel/simple_dispatch.py:463: PerformanceWarning: DataFrame is highly fragmented.  This is usually the result of calling `frame.insert` many times, which has poor performance.  Consider joining all columns at once using pd.concat(axis=1) instead. To get a de-fragmented frame, use `newframe = frame.copy()`\n",
      "  df_leftovers[e + str(t)] = df_leftovers[e]\n",
      "/Users/spowell/Library/CloudStorage/OneDrive-ETHZurich/Code/lrmef-evcontrol/GridModel/simple_dispatch.py:463: PerformanceWarning: DataFrame is highly fragmented.  This is usually the result of calling `frame.insert` many times, which has poor performance.  Consider joining all columns at once using pd.concat(axis=1) instead. To get a de-fragmented frame, use `newframe = frame.copy()`\n",
      "  df_leftovers[e + str(t)] = df_leftovers[e]\n",
      "/Users/spowell/Library/CloudStorage/OneDrive-ETHZurich/Code/lrmef-evcontrol/GridModel/simple_dispatch.py:463: PerformanceWarning: DataFrame is highly fragmented.  This is usually the result of calling `frame.insert` many times, which has poor performance.  Consider joining all columns at once using pd.concat(axis=1) instead. To get a de-fragmented frame, use `newframe = frame.copy()`\n",
      "  df_leftovers[e + str(t)] = df_leftovers[e]\n",
      "/Users/spowell/Library/CloudStorage/OneDrive-ETHZurich/Code/lrmef-evcontrol/GridModel/simple_dispatch.py:463: PerformanceWarning: DataFrame is highly fragmented.  This is usually the result of calling `frame.insert` many times, which has poor performance.  Consider joining all columns at once using pd.concat(axis=1) instead. To get a de-fragmented frame, use `newframe = frame.copy()`\n",
      "  df_leftovers[e + str(t)] = df_leftovers[e]\n",
      "/Users/spowell/Library/CloudStorage/OneDrive-ETHZurich/Code/lrmef-evcontrol/GridModel/simple_dispatch.py:463: PerformanceWarning: DataFrame is highly fragmented.  This is usually the result of calling `frame.insert` many times, which has poor performance.  Consider joining all columns at once using pd.concat(axis=1) instead. To get a de-fragmented frame, use `newframe = frame.copy()`\n",
      "  df_leftovers[e + str(t)] = df_leftovers[e]\n",
      "/Users/spowell/Library/CloudStorage/OneDrive-ETHZurich/Code/lrmef-evcontrol/GridModel/simple_dispatch.py:463: PerformanceWarning: DataFrame is highly fragmented.  This is usually the result of calling `frame.insert` many times, which has poor performance.  Consider joining all columns at once using pd.concat(axis=1) instead. To get a de-fragmented frame, use `newframe = frame.copy()`\n",
      "  df_leftovers[e + str(t)] = df_leftovers[e]\n",
      "/Users/spowell/Library/CloudStorage/OneDrive-ETHZurich/Code/lrmef-evcontrol/GridModel/simple_dispatch.py:463: PerformanceWarning: DataFrame is highly fragmented.  This is usually the result of calling `frame.insert` many times, which has poor performance.  Consider joining all columns at once using pd.concat(axis=1) instead. To get a de-fragmented frame, use `newframe = frame.copy()`\n",
      "  df_leftovers[e + str(t)] = df_leftovers[e]\n",
      "/Users/spowell/Library/CloudStorage/OneDrive-ETHZurich/Code/lrmef-evcontrol/GridModel/simple_dispatch.py:463: PerformanceWarning: DataFrame is highly fragmented.  This is usually the result of calling `frame.insert` many times, which has poor performance.  Consider joining all columns at once using pd.concat(axis=1) instead. To get a de-fragmented frame, use `newframe = frame.copy()`\n",
      "  df_leftovers[e + str(t)] = df_leftovers[e]\n",
      "/Users/spowell/Library/CloudStorage/OneDrive-ETHZurich/Code/lrmef-evcontrol/GridModel/simple_dispatch.py:463: PerformanceWarning: DataFrame is highly fragmented.  This is usually the result of calling `frame.insert` many times, which has poor performance.  Consider joining all columns at once using pd.concat(axis=1) instead. To get a de-fragmented frame, use `newframe = frame.copy()`\n",
      "  df_leftovers[e + str(t)] = df_leftovers[e]\n",
      "/Users/spowell/Library/CloudStorage/OneDrive-ETHZurich/Code/lrmef-evcontrol/GridModel/simple_dispatch.py:463: PerformanceWarning: DataFrame is highly fragmented.  This is usually the result of calling `frame.insert` many times, which has poor performance.  Consider joining all columns at once using pd.concat(axis=1) instead. To get a de-fragmented frame, use `newframe = frame.copy()`\n",
      "  df_leftovers[e + str(t)] = df_leftovers[e]\n",
      "/Users/spowell/Library/CloudStorage/OneDrive-ETHZurich/Code/lrmef-evcontrol/GridModel/simple_dispatch.py:463: PerformanceWarning: DataFrame is highly fragmented.  This is usually the result of calling `frame.insert` many times, which has poor performance.  Consider joining all columns at once using pd.concat(axis=1) instead. To get a de-fragmented frame, use `newframe = frame.copy()`\n",
      "  df_leftovers[e + str(t)] = df_leftovers[e]\n",
      "/Users/spowell/Library/CloudStorage/OneDrive-ETHZurich/Code/lrmef-evcontrol/GridModel/simple_dispatch.py:463: PerformanceWarning: DataFrame is highly fragmented.  This is usually the result of calling `frame.insert` many times, which has poor performance.  Consider joining all columns at once using pd.concat(axis=1) instead. To get a de-fragmented frame, use `newframe = frame.copy()`\n",
      "  df_leftovers[e + str(t)] = df_leftovers[e]\n",
      "/Users/spowell/Library/CloudStorage/OneDrive-ETHZurich/Code/lrmef-evcontrol/GridModel/simple_dispatch.py:463: PerformanceWarning: DataFrame is highly fragmented.  This is usually the result of calling `frame.insert` many times, which has poor performance.  Consider joining all columns at once using pd.concat(axis=1) instead. To get a de-fragmented frame, use `newframe = frame.copy()`\n",
      "  df_leftovers[e + str(t)] = df_leftovers[e]\n",
      "/Users/spowell/Library/CloudStorage/OneDrive-ETHZurich/Code/lrmef-evcontrol/GridModel/simple_dispatch.py:463: PerformanceWarning: DataFrame is highly fragmented.  This is usually the result of calling `frame.insert` many times, which has poor performance.  Consider joining all columns at once using pd.concat(axis=1) instead. To get a de-fragmented frame, use `newframe = frame.copy()`\n",
      "  df_leftovers[e + str(t)] = df_leftovers[e]\n",
      "/Users/spowell/Library/CloudStorage/OneDrive-ETHZurich/Code/lrmef-evcontrol/GridModel/simple_dispatch.py:463: PerformanceWarning: DataFrame is highly fragmented.  This is usually the result of calling `frame.insert` many times, which has poor performance.  Consider joining all columns at once using pd.concat(axis=1) instead. To get a de-fragmented frame, use `newframe = frame.copy()`\n",
      "  df_leftovers[e + str(t)] = df_leftovers[e]\n",
      "/Users/spowell/Library/CloudStorage/OneDrive-ETHZurich/Code/lrmef-evcontrol/GridModel/simple_dispatch.py:463: PerformanceWarning: DataFrame is highly fragmented.  This is usually the result of calling `frame.insert` many times, which has poor performance.  Consider joining all columns at once using pd.concat(axis=1) instead. To get a de-fragmented frame, use `newframe = frame.copy()`\n",
      "  df_leftovers[e + str(t)] = df_leftovers[e]\n",
      "/Users/spowell/Library/CloudStorage/OneDrive-ETHZurich/Code/lrmef-evcontrol/GridModel/simple_dispatch.py:463: PerformanceWarning: DataFrame is highly fragmented.  This is usually the result of calling `frame.insert` many times, which has poor performance.  Consider joining all columns at once using pd.concat(axis=1) instead. To get a de-fragmented frame, use `newframe = frame.copy()`\n",
      "  df_leftovers[e + str(t)] = df_leftovers[e]\n",
      "/Users/spowell/Library/CloudStorage/OneDrive-ETHZurich/Code/lrmef-evcontrol/GridModel/simple_dispatch.py:463: PerformanceWarning: DataFrame is highly fragmented.  This is usually the result of calling `frame.insert` many times, which has poor performance.  Consider joining all columns at once using pd.concat(axis=1) instead. To get a de-fragmented frame, use `newframe = frame.copy()`\n",
      "  df_leftovers[e + str(t)] = df_leftovers[e]\n",
      "/Users/spowell/Library/CloudStorage/OneDrive-ETHZurich/Code/lrmef-evcontrol/GridModel/simple_dispatch.py:463: PerformanceWarning: DataFrame is highly fragmented.  This is usually the result of calling `frame.insert` many times, which has poor performance.  Consider joining all columns at once using pd.concat(axis=1) instead. To get a de-fragmented frame, use `newframe = frame.copy()`\n",
      "  df_leftovers[e + str(t)] = df_leftovers[e]\n",
      "/Users/spowell/Library/CloudStorage/OneDrive-ETHZurich/Code/lrmef-evcontrol/GridModel/simple_dispatch.py:463: PerformanceWarning: DataFrame is highly fragmented.  This is usually the result of calling `frame.insert` many times, which has poor performance.  Consider joining all columns at once using pd.concat(axis=1) instead. To get a de-fragmented frame, use `newframe = frame.copy()`\n",
      "  df_leftovers[e + str(t)] = df_leftovers[e]\n",
      "/Users/spowell/Library/CloudStorage/OneDrive-ETHZurich/Code/lrmef-evcontrol/GridModel/simple_dispatch.py:463: PerformanceWarning: DataFrame is highly fragmented.  This is usually the result of calling `frame.insert` many times, which has poor performance.  Consider joining all columns at once using pd.concat(axis=1) instead. To get a de-fragmented frame, use `newframe = frame.copy()`\n",
      "  df_leftovers[e + str(t)] = df_leftovers[e]\n",
      "/Users/spowell/Library/CloudStorage/OneDrive-ETHZurich/Code/lrmef-evcontrol/GridModel/simple_dispatch.py:463: PerformanceWarning: DataFrame is highly fragmented.  This is usually the result of calling `frame.insert` many times, which has poor performance.  Consider joining all columns at once using pd.concat(axis=1) instead. To get a de-fragmented frame, use `newframe = frame.copy()`\n",
      "  df_leftovers[e + str(t)] = df_leftovers[e]\n",
      "/Users/spowell/Library/CloudStorage/OneDrive-ETHZurich/Code/lrmef-evcontrol/GridModel/simple_dispatch.py:463: PerformanceWarning: DataFrame is highly fragmented.  This is usually the result of calling `frame.insert` many times, which has poor performance.  Consider joining all columns at once using pd.concat(axis=1) instead. To get a de-fragmented frame, use `newframe = frame.copy()`\n",
      "  df_leftovers[e + str(t)] = df_leftovers[e]\n",
      "/Users/spowell/Library/CloudStorage/OneDrive-ETHZurich/Code/lrmef-evcontrol/GridModel/simple_dispatch.py:463: PerformanceWarning: DataFrame is highly fragmented.  This is usually the result of calling `frame.insert` many times, which has poor performance.  Consider joining all columns at once using pd.concat(axis=1) instead. To get a de-fragmented frame, use `newframe = frame.copy()`\n",
      "  df_leftovers[e + str(t)] = df_leftovers[e]\n",
      "/Users/spowell/Library/CloudStorage/OneDrive-ETHZurich/Code/lrmef-evcontrol/GridModel/simple_dispatch.py:463: PerformanceWarning: DataFrame is highly fragmented.  This is usually the result of calling `frame.insert` many times, which has poor performance.  Consider joining all columns at once using pd.concat(axis=1) instead. To get a de-fragmented frame, use `newframe = frame.copy()`\n",
      "  df_leftovers[e + str(t)] = df_leftovers[e]\n",
      "/Users/spowell/Library/CloudStorage/OneDrive-ETHZurich/Code/lrmef-evcontrol/GridModel/simple_dispatch.py:463: PerformanceWarning: DataFrame is highly fragmented.  This is usually the result of calling `frame.insert` many times, which has poor performance.  Consider joining all columns at once using pd.concat(axis=1) instead. To get a de-fragmented frame, use `newframe = frame.copy()`\n",
      "  df_leftovers[e + str(t)] = df_leftovers[e]\n",
      "/Users/spowell/Library/CloudStorage/OneDrive-ETHZurich/Code/lrmef-evcontrol/GridModel/simple_dispatch.py:463: PerformanceWarning: DataFrame is highly fragmented.  This is usually the result of calling `frame.insert` many times, which has poor performance.  Consider joining all columns at once using pd.concat(axis=1) instead. To get a de-fragmented frame, use `newframe = frame.copy()`\n",
      "  df_leftovers[e + str(t)] = df_leftovers[e]\n",
      "/Users/spowell/Library/CloudStorage/OneDrive-ETHZurich/Code/lrmef-evcontrol/GridModel/simple_dispatch.py:463: PerformanceWarning: DataFrame is highly fragmented.  This is usually the result of calling `frame.insert` many times, which has poor performance.  Consider joining all columns at once using pd.concat(axis=1) instead. To get a de-fragmented frame, use `newframe = frame.copy()`\n",
      "  df_leftovers[e + str(t)] = df_leftovers[e]\n",
      "/Users/spowell/Library/CloudStorage/OneDrive-ETHZurich/Code/lrmef-evcontrol/GridModel/simple_dispatch.py:463: PerformanceWarning: DataFrame is highly fragmented.  This is usually the result of calling `frame.insert` many times, which has poor performance.  Consider joining all columns at once using pd.concat(axis=1) instead. To get a de-fragmented frame, use `newframe = frame.copy()`\n",
      "  df_leftovers[e + str(t)] = df_leftovers[e]\n",
      "/Users/spowell/Library/CloudStorage/OneDrive-ETHZurich/Code/lrmef-evcontrol/GridModel/simple_dispatch.py:463: PerformanceWarning: DataFrame is highly fragmented.  This is usually the result of calling `frame.insert` many times, which has poor performance.  Consider joining all columns at once using pd.concat(axis=1) instead. To get a de-fragmented frame, use `newframe = frame.copy()`\n",
      "  df_leftovers[e + str(t)] = df_leftovers[e]\n",
      "/Users/spowell/Library/CloudStorage/OneDrive-ETHZurich/Code/lrmef-evcontrol/GridModel/simple_dispatch.py:463: PerformanceWarning: DataFrame is highly fragmented.  This is usually the result of calling `frame.insert` many times, which has poor performance.  Consider joining all columns at once using pd.concat(axis=1) instead. To get a de-fragmented frame, use `newframe = frame.copy()`\n",
      "  df_leftovers[e + str(t)] = df_leftovers[e]\n",
      "/Users/spowell/Library/CloudStorage/OneDrive-ETHZurich/Code/lrmef-evcontrol/GridModel/simple_dispatch.py:463: PerformanceWarning: DataFrame is highly fragmented.  This is usually the result of calling `frame.insert` many times, which has poor performance.  Consider joining all columns at once using pd.concat(axis=1) instead. To get a de-fragmented frame, use `newframe = frame.copy()`\n",
      "  df_leftovers[e + str(t)] = df_leftovers[e]\n",
      "/Users/spowell/Library/CloudStorage/OneDrive-ETHZurich/Code/lrmef-evcontrol/GridModel/simple_dispatch.py:463: PerformanceWarning: DataFrame is highly fragmented.  This is usually the result of calling `frame.insert` many times, which has poor performance.  Consider joining all columns at once using pd.concat(axis=1) instead. To get a de-fragmented frame, use `newframe = frame.copy()`\n",
      "  df_leftovers[e + str(t)] = df_leftovers[e]\n",
      "/Users/spowell/Library/CloudStorage/OneDrive-ETHZurich/Code/lrmef-evcontrol/GridModel/simple_dispatch.py:463: PerformanceWarning: DataFrame is highly fragmented.  This is usually the result of calling `frame.insert` many times, which has poor performance.  Consider joining all columns at once using pd.concat(axis=1) instead. To get a de-fragmented frame, use `newframe = frame.copy()`\n",
      "  df_leftovers[e + str(t)] = df_leftovers[e]\n",
      "/Users/spowell/Library/CloudStorage/OneDrive-ETHZurich/Code/lrmef-evcontrol/GridModel/simple_dispatch.py:463: PerformanceWarning: DataFrame is highly fragmented.  This is usually the result of calling `frame.insert` many times, which has poor performance.  Consider joining all columns at once using pd.concat(axis=1) instead. To get a de-fragmented frame, use `newframe = frame.copy()`\n",
      "  df_leftovers[e + str(t)] = df_leftovers[e]\n",
      "/Users/spowell/Library/CloudStorage/OneDrive-ETHZurich/Code/lrmef-evcontrol/GridModel/simple_dispatch.py:463: PerformanceWarning: DataFrame is highly fragmented.  This is usually the result of calling `frame.insert` many times, which has poor performance.  Consider joining all columns at once using pd.concat(axis=1) instead. To get a de-fragmented frame, use `newframe = frame.copy()`\n",
      "  df_leftovers[e + str(t)] = df_leftovers[e]\n",
      "/Users/spowell/Library/CloudStorage/OneDrive-ETHZurich/Code/lrmef-evcontrol/GridModel/simple_dispatch.py:463: PerformanceWarning: DataFrame is highly fragmented.  This is usually the result of calling `frame.insert` many times, which has poor performance.  Consider joining all columns at once using pd.concat(axis=1) instead. To get a de-fragmented frame, use `newframe = frame.copy()`\n",
      "  df_leftovers[e + str(t)] = df_leftovers[e]\n",
      "/Users/spowell/Library/CloudStorage/OneDrive-ETHZurich/Code/lrmef-evcontrol/GridModel/simple_dispatch.py:461: PerformanceWarning: DataFrame is highly fragmented.  This is usually the result of calling `frame.insert` many times, which has poor performance.  Consider joining all columns at once using pd.concat(axis=1) instead. To get a de-fragmented frame, use `newframe = frame.copy()`\n",
      "  df_leftovers[e + str(t)] = df_leftovers[e].quantile(0.99)\n",
      "/Users/spowell/Library/CloudStorage/OneDrive-ETHZurich/Code/lrmef-evcontrol/GridModel/simple_dispatch.py:461: PerformanceWarning: DataFrame is highly fragmented.  This is usually the result of calling `frame.insert` many times, which has poor performance.  Consider joining all columns at once using pd.concat(axis=1) instead. To get a de-fragmented frame, use `newframe = frame.copy()`\n",
      "  df_leftovers[e + str(t)] = df_leftovers[e].quantile(0.99)\n",
      "/Users/spowell/Library/CloudStorage/OneDrive-ETHZurich/Code/lrmef-evcontrol/GridModel/simple_dispatch.py:461: PerformanceWarning: DataFrame is highly fragmented.  This is usually the result of calling `frame.insert` many times, which has poor performance.  Consider joining all columns at once using pd.concat(axis=1) instead. To get a de-fragmented frame, use `newframe = frame.copy()`\n",
      "  df_leftovers[e + str(t)] = df_leftovers[e].quantile(0.99)\n",
      "/Users/spowell/Library/CloudStorage/OneDrive-ETHZurich/Code/lrmef-evcontrol/GridModel/simple_dispatch.py:461: PerformanceWarning: DataFrame is highly fragmented.  This is usually the result of calling `frame.insert` many times, which has poor performance.  Consider joining all columns at once using pd.concat(axis=1) instead. To get a de-fragmented frame, use `newframe = frame.copy()`\n",
      "  df_leftovers[e + str(t)] = df_leftovers[e].quantile(0.99)\n",
      "/Users/spowell/Library/CloudStorage/OneDrive-ETHZurich/Code/lrmef-evcontrol/GridModel/simple_dispatch.py:461: PerformanceWarning: DataFrame is highly fragmented.  This is usually the result of calling `frame.insert` many times, which has poor performance.  Consider joining all columns at once using pd.concat(axis=1) instead. To get a de-fragmented frame, use `newframe = frame.copy()`\n",
      "  df_leftovers[e + str(t)] = df_leftovers[e].quantile(0.99)\n",
      "/Users/spowell/Library/CloudStorage/OneDrive-ETHZurich/Code/lrmef-evcontrol/GridModel/simple_dispatch.py:461: PerformanceWarning: DataFrame is highly fragmented.  This is usually the result of calling `frame.insert` many times, which has poor performance.  Consider joining all columns at once using pd.concat(axis=1) instead. To get a de-fragmented frame, use `newframe = frame.copy()`\n",
      "  df_leftovers[e + str(t)] = df_leftovers[e].quantile(0.99)\n",
      "/Users/spowell/Library/CloudStorage/OneDrive-ETHZurich/Code/lrmef-evcontrol/GridModel/simple_dispatch.py:461: PerformanceWarning: DataFrame is highly fragmented.  This is usually the result of calling `frame.insert` many times, which has poor performance.  Consider joining all columns at once using pd.concat(axis=1) instead. To get a de-fragmented frame, use `newframe = frame.copy()`\n",
      "  df_leftovers[e + str(t)] = df_leftovers[e].quantile(0.99)\n",
      "/Users/spowell/Library/CloudStorage/OneDrive-ETHZurich/Code/lrmef-evcontrol/GridModel/simple_dispatch.py:461: PerformanceWarning: DataFrame is highly fragmented.  This is usually the result of calling `frame.insert` many times, which has poor performance.  Consider joining all columns at once using pd.concat(axis=1) instead. To get a de-fragmented frame, use `newframe = frame.copy()`\n",
      "  df_leftovers[e + str(t)] = df_leftovers[e].quantile(0.99)\n",
      "/Users/spowell/Library/CloudStorage/OneDrive-ETHZurich/Code/lrmef-evcontrol/GridModel/simple_dispatch.py:461: PerformanceWarning: DataFrame is highly fragmented.  This is usually the result of calling `frame.insert` many times, which has poor performance.  Consider joining all columns at once using pd.concat(axis=1) instead. To get a de-fragmented frame, use `newframe = frame.copy()`\n",
      "  df_leftovers[e + str(t)] = df_leftovers[e].quantile(0.99)\n",
      "/Users/spowell/Library/CloudStorage/OneDrive-ETHZurich/Code/lrmef-evcontrol/GridModel/simple_dispatch.py:461: PerformanceWarning: DataFrame is highly fragmented.  This is usually the result of calling `frame.insert` many times, which has poor performance.  Consider joining all columns at once using pd.concat(axis=1) instead. To get a de-fragmented frame, use `newframe = frame.copy()`\n",
      "  df_leftovers[e + str(t)] = df_leftovers[e].quantile(0.99)\n",
      "/Users/spowell/Library/CloudStorage/OneDrive-ETHZurich/Code/lrmef-evcontrol/GridModel/simple_dispatch.py:461: PerformanceWarning: DataFrame is highly fragmented.  This is usually the result of calling `frame.insert` many times, which has poor performance.  Consider joining all columns at once using pd.concat(axis=1) instead. To get a de-fragmented frame, use `newframe = frame.copy()`\n",
      "  df_leftovers[e + str(t)] = df_leftovers[e].quantile(0.99)\n",
      "/Users/spowell/Library/CloudStorage/OneDrive-ETHZurich/Code/lrmef-evcontrol/GridModel/simple_dispatch.py:461: PerformanceWarning: DataFrame is highly fragmented.  This is usually the result of calling `frame.insert` many times, which has poor performance.  Consider joining all columns at once using pd.concat(axis=1) instead. To get a de-fragmented frame, use `newframe = frame.copy()`\n",
      "  df_leftovers[e + str(t)] = df_leftovers[e].quantile(0.99)\n",
      "/Users/spowell/Library/CloudStorage/OneDrive-ETHZurich/Code/lrmef-evcontrol/GridModel/simple_dispatch.py:461: PerformanceWarning: DataFrame is highly fragmented.  This is usually the result of calling `frame.insert` many times, which has poor performance.  Consider joining all columns at once using pd.concat(axis=1) instead. To get a de-fragmented frame, use `newframe = frame.copy()`\n",
      "  df_leftovers[e + str(t)] = df_leftovers[e].quantile(0.99)\n",
      "/Users/spowell/Library/CloudStorage/OneDrive-ETHZurich/Code/lrmef-evcontrol/GridModel/simple_dispatch.py:461: PerformanceWarning: DataFrame is highly fragmented.  This is usually the result of calling `frame.insert` many times, which has poor performance.  Consider joining all columns at once using pd.concat(axis=1) instead. To get a de-fragmented frame, use `newframe = frame.copy()`\n",
      "  df_leftovers[e + str(t)] = df_leftovers[e].quantile(0.99)\n",
      "/Users/spowell/Library/CloudStorage/OneDrive-ETHZurich/Code/lrmef-evcontrol/GridModel/simple_dispatch.py:461: PerformanceWarning: DataFrame is highly fragmented.  This is usually the result of calling `frame.insert` many times, which has poor performance.  Consider joining all columns at once using pd.concat(axis=1) instead. To get a de-fragmented frame, use `newframe = frame.copy()`\n",
      "  df_leftovers[e + str(t)] = df_leftovers[e].quantile(0.99)\n",
      "/Users/spowell/Library/CloudStorage/OneDrive-ETHZurich/Code/lrmef-evcontrol/GridModel/simple_dispatch.py:461: PerformanceWarning: DataFrame is highly fragmented.  This is usually the result of calling `frame.insert` many times, which has poor performance.  Consider joining all columns at once using pd.concat(axis=1) instead. To get a de-fragmented frame, use `newframe = frame.copy()`\n",
      "  df_leftovers[e + str(t)] = df_leftovers[e].quantile(0.99)\n",
      "/Users/spowell/Library/CloudStorage/OneDrive-ETHZurich/Code/lrmef-evcontrol/GridModel/simple_dispatch.py:461: PerformanceWarning: DataFrame is highly fragmented.  This is usually the result of calling `frame.insert` many times, which has poor performance.  Consider joining all columns at once using pd.concat(axis=1) instead. To get a de-fragmented frame, use `newframe = frame.copy()`\n",
      "  df_leftovers[e + str(t)] = df_leftovers[e].quantile(0.99)\n",
      "/Users/spowell/Library/CloudStorage/OneDrive-ETHZurich/Code/lrmef-evcontrol/GridModel/simple_dispatch.py:461: PerformanceWarning: DataFrame is highly fragmented.  This is usually the result of calling `frame.insert` many times, which has poor performance.  Consider joining all columns at once using pd.concat(axis=1) instead. To get a de-fragmented frame, use `newframe = frame.copy()`\n",
      "  df_leftovers[e + str(t)] = df_leftovers[e].quantile(0.99)\n",
      "/Users/spowell/Library/CloudStorage/OneDrive-ETHZurich/Code/lrmef-evcontrol/GridModel/simple_dispatch.py:461: PerformanceWarning: DataFrame is highly fragmented.  This is usually the result of calling `frame.insert` many times, which has poor performance.  Consider joining all columns at once using pd.concat(axis=1) instead. To get a de-fragmented frame, use `newframe = frame.copy()`\n",
      "  df_leftovers[e + str(t)] = df_leftovers[e].quantile(0.99)\n",
      "/Users/spowell/Library/CloudStorage/OneDrive-ETHZurich/Code/lrmef-evcontrol/GridModel/simple_dispatch.py:461: PerformanceWarning: DataFrame is highly fragmented.  This is usually the result of calling `frame.insert` many times, which has poor performance.  Consider joining all columns at once using pd.concat(axis=1) instead. To get a de-fragmented frame, use `newframe = frame.copy()`\n",
      "  df_leftovers[e + str(t)] = df_leftovers[e].quantile(0.99)\n",
      "/Users/spowell/Library/CloudStorage/OneDrive-ETHZurich/Code/lrmef-evcontrol/GridModel/simple_dispatch.py:461: PerformanceWarning: DataFrame is highly fragmented.  This is usually the result of calling `frame.insert` many times, which has poor performance.  Consider joining all columns at once using pd.concat(axis=1) instead. To get a de-fragmented frame, use `newframe = frame.copy()`\n",
      "  df_leftovers[e + str(t)] = df_leftovers[e].quantile(0.99)\n",
      "/Users/spowell/Library/CloudStorage/OneDrive-ETHZurich/Code/lrmef-evcontrol/GridModel/simple_dispatch.py:461: PerformanceWarning: DataFrame is highly fragmented.  This is usually the result of calling `frame.insert` many times, which has poor performance.  Consider joining all columns at once using pd.concat(axis=1) instead. To get a de-fragmented frame, use `newframe = frame.copy()`\n",
      "  df_leftovers[e + str(t)] = df_leftovers[e].quantile(0.99)\n",
      "/Users/spowell/Library/CloudStorage/OneDrive-ETHZurich/Code/lrmef-evcontrol/GridModel/simple_dispatch.py:461: PerformanceWarning: DataFrame is highly fragmented.  This is usually the result of calling `frame.insert` many times, which has poor performance.  Consider joining all columns at once using pd.concat(axis=1) instead. To get a de-fragmented frame, use `newframe = frame.copy()`\n",
      "  df_leftovers[e + str(t)] = df_leftovers[e].quantile(0.99)\n",
      "/Users/spowell/Library/CloudStorage/OneDrive-ETHZurich/Code/lrmef-evcontrol/GridModel/simple_dispatch.py:461: PerformanceWarning: DataFrame is highly fragmented.  This is usually the result of calling `frame.insert` many times, which has poor performance.  Consider joining all columns at once using pd.concat(axis=1) instead. To get a de-fragmented frame, use `newframe = frame.copy()`\n",
      "  df_leftovers[e + str(t)] = df_leftovers[e].quantile(0.99)\n",
      "/Users/spowell/Library/CloudStorage/OneDrive-ETHZurich/Code/lrmef-evcontrol/GridModel/simple_dispatch.py:461: PerformanceWarning: DataFrame is highly fragmented.  This is usually the result of calling `frame.insert` many times, which has poor performance.  Consider joining all columns at once using pd.concat(axis=1) instead. To get a de-fragmented frame, use `newframe = frame.copy()`\n",
      "  df_leftovers[e + str(t)] = df_leftovers[e].quantile(0.99)\n",
      "/Users/spowell/Library/CloudStorage/OneDrive-ETHZurich/Code/lrmef-evcontrol/GridModel/simple_dispatch.py:461: PerformanceWarning: DataFrame is highly fragmented.  This is usually the result of calling `frame.insert` many times, which has poor performance.  Consider joining all columns at once using pd.concat(axis=1) instead. To get a de-fragmented frame, use `newframe = frame.copy()`\n",
      "  df_leftovers[e + str(t)] = df_leftovers[e].quantile(0.99)\n",
      "/Users/spowell/Library/CloudStorage/OneDrive-ETHZurich/Code/lrmef-evcontrol/GridModel/simple_dispatch.py:461: PerformanceWarning: DataFrame is highly fragmented.  This is usually the result of calling `frame.insert` many times, which has poor performance.  Consider joining all columns at once using pd.concat(axis=1) instead. To get a de-fragmented frame, use `newframe = frame.copy()`\n",
      "  df_leftovers[e + str(t)] = df_leftovers[e].quantile(0.99)\n",
      "/Users/spowell/Library/CloudStorage/OneDrive-ETHZurich/Code/lrmef-evcontrol/GridModel/simple_dispatch.py:461: PerformanceWarning: DataFrame is highly fragmented.  This is usually the result of calling `frame.insert` many times, which has poor performance.  Consider joining all columns at once using pd.concat(axis=1) instead. To get a de-fragmented frame, use `newframe = frame.copy()`\n",
      "  df_leftovers[e + str(t)] = df_leftovers[e].quantile(0.99)\n",
      "/Users/spowell/Library/CloudStorage/OneDrive-ETHZurich/Code/lrmef-evcontrol/GridModel/simple_dispatch.py:461: PerformanceWarning: DataFrame is highly fragmented.  This is usually the result of calling `frame.insert` many times, which has poor performance.  Consider joining all columns at once using pd.concat(axis=1) instead. To get a de-fragmented frame, use `newframe = frame.copy()`\n",
      "  df_leftovers[e + str(t)] = df_leftovers[e].quantile(0.99)\n",
      "/Users/spowell/Library/CloudStorage/OneDrive-ETHZurich/Code/lrmef-evcontrol/GridModel/simple_dispatch.py:461: PerformanceWarning: DataFrame is highly fragmented.  This is usually the result of calling `frame.insert` many times, which has poor performance.  Consider joining all columns at once using pd.concat(axis=1) instead. To get a de-fragmented frame, use `newframe = frame.copy()`\n",
      "  df_leftovers[e + str(t)] = df_leftovers[e].quantile(0.99)\n",
      "/Users/spowell/Library/CloudStorage/OneDrive-ETHZurich/Code/lrmef-evcontrol/GridModel/simple_dispatch.py:461: PerformanceWarning: DataFrame is highly fragmented.  This is usually the result of calling `frame.insert` many times, which has poor performance.  Consider joining all columns at once using pd.concat(axis=1) instead. To get a de-fragmented frame, use `newframe = frame.copy()`\n",
      "  df_leftovers[e + str(t)] = df_leftovers[e].quantile(0.99)\n",
      "/Users/spowell/Library/CloudStorage/OneDrive-ETHZurich/Code/lrmef-evcontrol/GridModel/simple_dispatch.py:461: PerformanceWarning: DataFrame is highly fragmented.  This is usually the result of calling `frame.insert` many times, which has poor performance.  Consider joining all columns at once using pd.concat(axis=1) instead. To get a de-fragmented frame, use `newframe = frame.copy()`\n",
      "  df_leftovers[e + str(t)] = df_leftovers[e].quantile(0.99)\n",
      "/Users/spowell/Library/CloudStorage/OneDrive-ETHZurich/Code/lrmef-evcontrol/GridModel/simple_dispatch.py:461: PerformanceWarning: DataFrame is highly fragmented.  This is usually the result of calling `frame.insert` many times, which has poor performance.  Consider joining all columns at once using pd.concat(axis=1) instead. To get a de-fragmented frame, use `newframe = frame.copy()`\n",
      "  df_leftovers[e + str(t)] = df_leftovers[e].quantile(0.99)\n",
      "/Users/spowell/Library/CloudStorage/OneDrive-ETHZurich/Code/lrmef-evcontrol/GridModel/simple_dispatch.py:461: PerformanceWarning: DataFrame is highly fragmented.  This is usually the result of calling `frame.insert` many times, which has poor performance.  Consider joining all columns at once using pd.concat(axis=1) instead. To get a de-fragmented frame, use `newframe = frame.copy()`\n",
      "  df_leftovers[e + str(t)] = df_leftovers[e].quantile(0.99)\n",
      "/Users/spowell/Library/CloudStorage/OneDrive-ETHZurich/Code/lrmef-evcontrol/GridModel/simple_dispatch.py:461: PerformanceWarning: DataFrame is highly fragmented.  This is usually the result of calling `frame.insert` many times, which has poor performance.  Consider joining all columns at once using pd.concat(axis=1) instead. To get a de-fragmented frame, use `newframe = frame.copy()`\n",
      "  df_leftovers[e + str(t)] = df_leftovers[e].quantile(0.99)\n",
      "/Users/spowell/Library/CloudStorage/OneDrive-ETHZurich/Code/lrmef-evcontrol/GridModel/simple_dispatch.py:461: PerformanceWarning: DataFrame is highly fragmented.  This is usually the result of calling `frame.insert` many times, which has poor performance.  Consider joining all columns at once using pd.concat(axis=1) instead. To get a de-fragmented frame, use `newframe = frame.copy()`\n",
      "  df_leftovers[e + str(t)] = df_leftovers[e].quantile(0.99)\n",
      "/Users/spowell/Library/CloudStorage/OneDrive-ETHZurich/Code/lrmef-evcontrol/GridModel/simple_dispatch.py:461: PerformanceWarning: DataFrame is highly fragmented.  This is usually the result of calling `frame.insert` many times, which has poor performance.  Consider joining all columns at once using pd.concat(axis=1) instead. To get a de-fragmented frame, use `newframe = frame.copy()`\n",
      "  df_leftovers[e + str(t)] = df_leftovers[e].quantile(0.99)\n",
      "/Users/spowell/Library/CloudStorage/OneDrive-ETHZurich/Code/lrmef-evcontrol/GridModel/simple_dispatch.py:461: PerformanceWarning: DataFrame is highly fragmented.  This is usually the result of calling `frame.insert` many times, which has poor performance.  Consider joining all columns at once using pd.concat(axis=1) instead. To get a de-fragmented frame, use `newframe = frame.copy()`\n",
      "  df_leftovers[e + str(t)] = df_leftovers[e].quantile(0.99)\n",
      "/Users/spowell/Library/CloudStorage/OneDrive-ETHZurich/Code/lrmef-evcontrol/GridModel/simple_dispatch.py:461: PerformanceWarning: DataFrame is highly fragmented.  This is usually the result of calling `frame.insert` many times, which has poor performance.  Consider joining all columns at once using pd.concat(axis=1) instead. To get a de-fragmented frame, use `newframe = frame.copy()`\n",
      "  df_leftovers[e + str(t)] = df_leftovers[e].quantile(0.99)\n",
      "/Users/spowell/Library/CloudStorage/OneDrive-ETHZurich/Code/lrmef-evcontrol/GridModel/simple_dispatch.py:461: PerformanceWarning: DataFrame is highly fragmented.  This is usually the result of calling `frame.insert` many times, which has poor performance.  Consider joining all columns at once using pd.concat(axis=1) instead. To get a de-fragmented frame, use `newframe = frame.copy()`\n",
      "  df_leftovers[e + str(t)] = df_leftovers[e].quantile(0.99)\n",
      "/Users/spowell/Library/CloudStorage/OneDrive-ETHZurich/Code/lrmef-evcontrol/GridModel/simple_dispatch.py:461: PerformanceWarning: DataFrame is highly fragmented.  This is usually the result of calling `frame.insert` many times, which has poor performance.  Consider joining all columns at once using pd.concat(axis=1) instead. To get a de-fragmented frame, use `newframe = frame.copy()`\n",
      "  df_leftovers[e + str(t)] = df_leftovers[e].quantile(0.99)\n",
      "/Users/spowell/Library/CloudStorage/OneDrive-ETHZurich/Code/lrmef-evcontrol/GridModel/simple_dispatch.py:461: PerformanceWarning: DataFrame is highly fragmented.  This is usually the result of calling `frame.insert` many times, which has poor performance.  Consider joining all columns at once using pd.concat(axis=1) instead. To get a de-fragmented frame, use `newframe = frame.copy()`\n",
      "  df_leftovers[e + str(t)] = df_leftovers[e].quantile(0.99)\n",
      "/Users/spowell/Library/CloudStorage/OneDrive-ETHZurich/Code/lrmef-evcontrol/GridModel/simple_dispatch.py:461: PerformanceWarning: DataFrame is highly fragmented.  This is usually the result of calling `frame.insert` many times, which has poor performance.  Consider joining all columns at once using pd.concat(axis=1) instead. To get a de-fragmented frame, use `newframe = frame.copy()`\n",
      "  df_leftovers[e + str(t)] = df_leftovers[e].quantile(0.99)\n",
      "/Users/spowell/Library/CloudStorage/OneDrive-ETHZurich/Code/lrmef-evcontrol/GridModel/simple_dispatch.py:461: PerformanceWarning: DataFrame is highly fragmented.  This is usually the result of calling `frame.insert` many times, which has poor performance.  Consider joining all columns at once using pd.concat(axis=1) instead. To get a de-fragmented frame, use `newframe = frame.copy()`\n",
      "  df_leftovers[e + str(t)] = df_leftovers[e].quantile(0.99)\n",
      "/Users/spowell/Library/CloudStorage/OneDrive-ETHZurich/Code/lrmef-evcontrol/GridModel/simple_dispatch.py:461: PerformanceWarning: DataFrame is highly fragmented.  This is usually the result of calling `frame.insert` many times, which has poor performance.  Consider joining all columns at once using pd.concat(axis=1) instead. To get a de-fragmented frame, use `newframe = frame.copy()`\n",
      "  df_leftovers[e + str(t)] = df_leftovers[e].quantile(0.99)\n",
      "/Users/spowell/Library/CloudStorage/OneDrive-ETHZurich/Code/lrmef-evcontrol/GridModel/simple_dispatch.py:461: PerformanceWarning: DataFrame is highly fragmented.  This is usually the result of calling `frame.insert` many times, which has poor performance.  Consider joining all columns at once using pd.concat(axis=1) instead. To get a de-fragmented frame, use `newframe = frame.copy()`\n",
      "  df_leftovers[e + str(t)] = df_leftovers[e].quantile(0.99)\n",
      "/Users/spowell/Library/CloudStorage/OneDrive-ETHZurich/Code/lrmef-evcontrol/GridModel/simple_dispatch.py:461: PerformanceWarning: DataFrame is highly fragmented.  This is usually the result of calling `frame.insert` many times, which has poor performance.  Consider joining all columns at once using pd.concat(axis=1) instead. To get a de-fragmented frame, use `newframe = frame.copy()`\n",
      "  df_leftovers[e + str(t)] = df_leftovers[e].quantile(0.99)\n",
      "/Users/spowell/Library/CloudStorage/OneDrive-ETHZurich/Code/lrmef-evcontrol/GridModel/simple_dispatch.py:461: PerformanceWarning: DataFrame is highly fragmented.  This is usually the result of calling `frame.insert` many times, which has poor performance.  Consider joining all columns at once using pd.concat(axis=1) instead. To get a de-fragmented frame, use `newframe = frame.copy()`\n",
      "  df_leftovers[e + str(t)] = df_leftovers[e].quantile(0.99)\n",
      "/Users/spowell/Library/CloudStorage/OneDrive-ETHZurich/Code/lrmef-evcontrol/GridModel/simple_dispatch.py:461: PerformanceWarning: DataFrame is highly fragmented.  This is usually the result of calling `frame.insert` many times, which has poor performance.  Consider joining all columns at once using pd.concat(axis=1) instead. To get a de-fragmented frame, use `newframe = frame.copy()`\n",
      "  df_leftovers[e + str(t)] = df_leftovers[e].quantile(0.99)\n",
      "/Users/spowell/Library/CloudStorage/OneDrive-ETHZurich/Code/lrmef-evcontrol/GridModel/simple_dispatch.py:461: PerformanceWarning: DataFrame is highly fragmented.  This is usually the result of calling `frame.insert` many times, which has poor performance.  Consider joining all columns at once using pd.concat(axis=1) instead. To get a de-fragmented frame, use `newframe = frame.copy()`\n",
      "  df_leftovers[e + str(t)] = df_leftovers[e].quantile(0.99)\n",
      "/Users/spowell/Library/CloudStorage/OneDrive-ETHZurich/Code/lrmef-evcontrol/GridModel/simple_dispatch.py:461: PerformanceWarning: DataFrame is highly fragmented.  This is usually the result of calling `frame.insert` many times, which has poor performance.  Consider joining all columns at once using pd.concat(axis=1) instead. To get a de-fragmented frame, use `newframe = frame.copy()`\n",
      "  df_leftovers[e + str(t)] = df_leftovers[e].quantile(0.99)\n",
      "/Users/spowell/Library/CloudStorage/OneDrive-ETHZurich/Code/lrmef-evcontrol/GridModel/simple_dispatch.py:461: PerformanceWarning: DataFrame is highly fragmented.  This is usually the result of calling `frame.insert` many times, which has poor performance.  Consider joining all columns at once using pd.concat(axis=1) instead. To get a de-fragmented frame, use `newframe = frame.copy()`\n",
      "  df_leftovers[e + str(t)] = df_leftovers[e].quantile(0.99)\n"
     ]
    },
    {
     "name": "stderr",
     "output_type": "stream",
     "text": [
      "/Users/spowell/Library/CloudStorage/OneDrive-ETHZurich/Code/lrmef-evcontrol/GridModel/simple_dispatch.py:766: FutureWarning: Setting an item of incompatible dtype is deprecated and will raise in a future error of pandas. Value 'coal_0' has dtype incompatible with int64, please explicitly cast to a compatible dtype first.\n",
      "  df.loc[len(df)-1,['orispl', 'orispl_unit', 'fuel', 'fuel_type', 'prime_mover', 'min_out_multiplier', 'min_out', 'is_coal']] = ['coal_0', 'coal_0', 'sub', 'coal', 'st', 0.0, 0.0, 1]\n"
     ]
    },
    {
     "name": "stdout",
     "output_type": "stream",
     "text": [
      "Calculating demand data from CEMS...\n",
      "Adding historical electricity prices...\n",
      "Creating \"demand_data\" time series...\n"
     ]
    }
   ],
   "source": [
    "tic = time.time()\n",
    "gd = generatorData(nerc_region, \n",
    "                   egrid_fname=egrid_data_xlsx, \n",
    "                   eia923_fname=eia923_schedule5_xlsx, \n",
    "                   ferc714IDs_fname=ferc714IDs_csv, \n",
    "                   ferc714_fname=ferc714_part2_schedule6_csv, \n",
    "                   cems_folder=cems_folder_path, \n",
    "                   easiur_fname=easiur_csv_path, \n",
    "                   include_easiur_damages=False, \n",
    "                   year=run_year, \n",
    "                   fuel_commodity_prices_excel_dir=fuel_commodity_prices_xlsx, \n",
    "                   hist_downtime=False, \n",
    "                   coal_min_downtime=12, \n",
    "                   cems_validation_run=False, \n",
    "                   tz_aware=True)   \n",
    "toc = time.time()\n"
   ]
  },
  {
   "cell_type": "code",
   "execution_count": 4,
   "metadata": {},
   "outputs": [
    {
     "name": "stdout",
     "output_type": "stream",
     "text": [
      "Finished in 1.27 minutes. Saving.\n"
     ]
    }
   ],
   "source": [
    "print('Finished in '+str(np.round((toc-tic)/60, 2))+' minutes. Saving.')"
   ]
  },
  {
   "cell_type": "code",
   "execution_count": 5,
   "metadata": {},
   "outputs": [],
   "source": [
    "gd_short = generatorDataShort(gd)"
   ]
  },
  {
   "cell_type": "code",
   "execution_count": 6,
   "metadata": {},
   "outputs": [
    {
     "name": "stdout",
     "output_type": "stream",
     "text": [
      "Saved.\n"
     ]
    }
   ],
   "source": [
    "pickle.dump(gd_short, open('../Data/generator_data_short_WECC_2022_local.obj', 'wb'))\n",
    "print('Saved.')"
   ]
  }
 ],
 "metadata": {
  "kernelspec": {
   "display_name": "Python 3 (ipykernel)",
   "language": "python",
   "name": "python3"
  },
  "language_info": {
   "codemirror_mode": {
    "name": "ipython",
    "version": 3
   },
   "file_extension": ".py",
   "mimetype": "text/x-python",
   "name": "python",
   "nbconvert_exporter": "python",
   "pygments_lexer": "ipython3",
   "version": "3.10.7"
  }
 },
 "nbformat": 4,
 "nbformat_minor": 2
}
