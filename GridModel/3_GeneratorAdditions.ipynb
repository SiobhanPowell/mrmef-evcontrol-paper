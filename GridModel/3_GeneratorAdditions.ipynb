{
 "cells": [
  {
   "cell_type": "code",
   "execution_count": 1,
   "metadata": {},
   "outputs": [],
   "source": [
    "import pandas as pd\n",
    "import numpy as np\n",
    "import matplotlib.pyplot as plt\n",
    "import pickle\n",
    "import scipy\n",
    "import os.path\n",
    "import pandas\n",
    "from simple_dispatch import generatorData\n",
    "from simple_dispatch import bidStack\n",
    "from simple_dispatch import dispatch\n",
    "from simple_dispatch import generatorDataShort"
   ]
  },
  {
   "cell_type": "markdown",
   "metadata": {},
   "source": [
    "# Additions\n",
    "\n",
    "New: https://www.wecc.org/Reliability/2022%20Western%20Assessment%20of%20Resource%20Adequacy.pdf (page 14 link)\n",
    "\n",
    "Old: https://www.wecc.org/Administrative/06_Brown_Retirements_October%202020.pdf"
   ]
  },
  {
   "cell_type": "code",
   "execution_count": 2,
   "metadata": {
    "scrolled": true
   },
   "outputs": [
    {
     "data": {
      "text/plain": [
       "Year  Generation Type            \n",
       "2019  Geothermal                       52.000\n",
       "2022  Biomass                          51.244\n",
       "      Geothermal                       29.000\n",
       "      Natural Gas and Other Gases     157.600\n",
       "2023  Geothermal                      439.500\n",
       "      Natural Gas and Other Gases    1022.400\n",
       "2024  Natural Gas and Other Gases    1209.030\n",
       "2025  Natural Gas and Other Gases    1334.000\n",
       "2026  Geothermal                       44.000\n",
       "      Natural Gas and Other Gases     615.000\n",
       "2028  Nuclear                         500.000\n",
       "2029  Natural Gas and Other Gases     635.800\n",
       "      Nuclear                         720.000\n",
       "2031  Geothermal                      801.000\n",
       "2032  Natural Gas and Other Gases      88.000\n",
       "2033  Other                           402.000\n",
       "Name: Nameplate Capacity, dtype: float64"
      ]
     },
     "execution_count": 2,
     "metadata": {},
     "output_type": "execute_result"
    }
   ],
   "source": [
    "df = pd.read_excel('../Data/2022 WARA Generation Resource List.xlsx', sheet_name='Resource List')\n",
    "df = df.loc[(df['Country']=='US')&(df['Status']!='Existing')&(df['Generation Type'].isin(['Natural Gas and Other Gases', 'Nuclear', 'Other', 'Biomass', 'Geothermal']))].reset_index(drop=True)\n",
    "df['Year'] = pd.to_datetime(df['Initial Operating Month-Year']).dt.year\n",
    "df.groupby(['Year', 'Generation Type'])['Nameplate Capacity'].sum()"
   ]
  },
  {
   "cell_type": "code",
   "execution_count": 3,
   "metadata": {},
   "outputs": [],
   "source": [
    "egrid_data_xlsx = '../Data/GridInputData/eGRID2019_data.xlsx'\n",
    "\n",
    "egrid_unt = pandas.read_excel(egrid_data_xlsx, 'UNT'+'19', skiprows=[0])\n",
    "egrid_unt['orispl_unit'] = egrid_unt.ORISPL.map(str) + '_' + egrid_unt.UNITID.map(str)\n",
    "\n",
    "egrid_gen = pandas.read_excel(egrid_data_xlsx, 'GEN'+'19', skiprows=[0])\n",
    "egrid_gen['orispl_unit'] = egrid_gen['ORISPL'].map(str) + '_' + egrid_gen['GENID'].map(str)\n",
    "\n",
    "egrid_plnt = pandas.read_excel(egrid_data_xlsx, 'PLNT'+'19', skiprows=[0])\n"
   ]
  },
  {
   "cell_type": "code",
   "execution_count": 4,
   "metadata": {},
   "outputs": [],
   "source": [
    "egrid_data_xlsx_new = '../Data/GridInputData/eGRID2022_data.xlsx'\n",
    "\n",
    "egrid_unt_new = pandas.read_excel(egrid_data_xlsx_new, 'UNT'+'22', skiprows=[0])\n",
    "egrid_unt_new['orispl_unit'] = egrid_unt_new.ORISPL.map(str) + '_' + egrid_unt_new.UNITID.map(str)\n",
    "\n",
    "egrid_gen_new = pandas.read_excel(egrid_data_xlsx_new, 'GEN'+'22', skiprows=[0])\n",
    "egrid_gen_new['orispl_unit'] = egrid_gen_new['ORISPL'].map(str) + '_' + egrid_gen_new['GENID'].map(str)\n",
    "\n",
    "egrid_plnt_new = pandas.read_excel(egrid_data_xlsx_new, 'PLNT'+'22', skiprows=[0])"
   ]
  },
  {
   "cell_type": "code",
   "execution_count": 5,
   "metadata": {},
   "outputs": [],
   "source": [
    "gd_short = pickle.load(open('../Data/generator_data_short_WECC_2022_local.obj', 'rb'))"
   ]
  },
  {
   "cell_type": "code",
   "execution_count": 6,
   "metadata": {},
   "outputs": [
    {
     "data": {
      "text/html": [
       "<div>\n",
       "<style scoped>\n",
       "    .dataframe tbody tr th:only-of-type {\n",
       "        vertical-align: middle;\n",
       "    }\n",
       "\n",
       "    .dataframe tbody tr th {\n",
       "        vertical-align: top;\n",
       "    }\n",
       "\n",
       "    .dataframe thead th {\n",
       "        text-align: right;\n",
       "    }\n",
       "</style>\n",
       "<table border=\"1\" class=\"dataframe\">\n",
       "  <thead>\n",
       "    <tr style=\"text-align: right;\">\n",
       "      <th></th>\n",
       "      <th>PSTATABB</th>\n",
       "      <th>PNAME</th>\n",
       "      <th>GENID</th>\n",
       "      <th>FUELG1</th>\n",
       "      <th>NAMEPCAP</th>\n",
       "      <th>PRMVR</th>\n",
       "      <th>GENYRONL</th>\n",
       "      <th>GENYRRET</th>\n",
       "      <th>orispl_unit</th>\n",
       "      <th>ORISPL</th>\n",
       "    </tr>\n",
       "  </thead>\n",
       "  <tbody>\n",
       "    <tr>\n",
       "      <th>1331</th>\n",
       "      <td>AZ</td>\n",
       "      <td>Arlington Valley Energy Facility</td>\n",
       "      <td>CTG1</td>\n",
       "      <td>NG</td>\n",
       "      <td>198.0</td>\n",
       "      <td>CT</td>\n",
       "      <td>2002.0</td>\n",
       "      <td>NaN</td>\n",
       "      <td>55282_CTG1</td>\n",
       "      <td>55282</td>\n",
       "    </tr>\n",
       "    <tr>\n",
       "      <th>1332</th>\n",
       "      <td>AZ</td>\n",
       "      <td>Arlington Valley Energy Facility</td>\n",
       "      <td>CTG2</td>\n",
       "      <td>NG</td>\n",
       "      <td>198.0</td>\n",
       "      <td>CT</td>\n",
       "      <td>2002.0</td>\n",
       "      <td>NaN</td>\n",
       "      <td>55282_CTG2</td>\n",
       "      <td>55282</td>\n",
       "    </tr>\n",
       "    <tr>\n",
       "      <th>1358</th>\n",
       "      <td>AZ</td>\n",
       "      <td>Black Mountain Generating Station</td>\n",
       "      <td>1</td>\n",
       "      <td>NG</td>\n",
       "      <td>60.5</td>\n",
       "      <td>GT</td>\n",
       "      <td>2008.0</td>\n",
       "      <td>NaN</td>\n",
       "      <td>56482_1</td>\n",
       "      <td>56482</td>\n",
       "    </tr>\n",
       "    <tr>\n",
       "      <th>1359</th>\n",
       "      <td>AZ</td>\n",
       "      <td>Black Mountain Generating Station</td>\n",
       "      <td>2</td>\n",
       "      <td>NG</td>\n",
       "      <td>60.5</td>\n",
       "      <td>GT</td>\n",
       "      <td>2008.0</td>\n",
       "      <td>NaN</td>\n",
       "      <td>56482_2</td>\n",
       "      <td>56482</td>\n",
       "    </tr>\n",
       "    <tr>\n",
       "      <th>1481</th>\n",
       "      <td>AZ</td>\n",
       "      <td>H Wilson Sundt Generating Station</td>\n",
       "      <td>4</td>\n",
       "      <td>NG</td>\n",
       "      <td>173.3</td>\n",
       "      <td>ST</td>\n",
       "      <td>1967.0</td>\n",
       "      <td>NaN</td>\n",
       "      <td>126_4</td>\n",
       "      <td>126</td>\n",
       "    </tr>\n",
       "  </tbody>\n",
       "</table>\n",
       "</div>"
      ],
      "text/plain": [
       "     PSTATABB                              PNAME GENID FUELG1  NAMEPCAP PRMVR  \\\n",
       "1331       AZ   Arlington Valley Energy Facility  CTG1     NG     198.0    CT   \n",
       "1332       AZ   Arlington Valley Energy Facility  CTG2     NG     198.0    CT   \n",
       "1358       AZ  Black Mountain Generating Station     1     NG      60.5    GT   \n",
       "1359       AZ  Black Mountain Generating Station     2     NG      60.5    GT   \n",
       "1481       AZ  H Wilson Sundt Generating Station     4     NG     173.3    ST   \n",
       "\n",
       "      GENYRONL  GENYRRET orispl_unit  ORISPL  \n",
       "1331    2002.0       NaN  55282_CTG1   55282  \n",
       "1332    2002.0       NaN  55282_CTG2   55282  \n",
       "1358    2008.0       NaN     56482_1   56482  \n",
       "1359    2008.0       NaN     56482_2   56482  \n",
       "1481    1967.0       NaN       126_4     126  "
      ]
     },
     "execution_count": 6,
     "metadata": {},
     "output_type": "execute_result"
    }
   ],
   "source": [
    "unit_drops = pd.read_csv('../Data/scheduled_retirements_2024final.csv', index_col=0)\n",
    "leaving_gens = egrid_gen[egrid_gen['orispl_unit'].isin(unit_drops['orispl_unit'].values)].loc[:, ['PSTATABB', 'PNAME', 'GENID', 'FUELG1', 'NAMEPCAP', 'GENYRRET', 'orispl_unit']].copy(deep=True)\n",
    "staying_gens = egrid_gen.loc[(egrid_gen['orispl_unit'].isin(gd_short.df['orispl_unit'].values))&(~(egrid_gen['orispl_unit'].isin(leaving_gens['orispl_unit'].values)))].loc[:, ['PSTATABB', 'PNAME', 'GENID', 'FUELG1', 'NAMEPCAP', 'PRMVR', 'GENYRONL', 'GENYRRET', 'orispl_unit', 'ORISPL']].copy(deep=True)\n",
    "staying_gens.head()"
   ]
  },
  {
   "cell_type": "code",
   "execution_count": 7,
   "metadata": {},
   "outputs": [
    {
     "data": {
      "text/plain": [
       "array(['NG', 'SUB', 'BIT', 'RC'], dtype=object)"
      ]
     },
     "execution_count": 7,
     "metadata": {},
     "output_type": "execute_result"
    }
   ],
   "source": [
    "staying_gens['FUELG1'].unique()"
   ]
  },
  {
   "cell_type": "code",
   "execution_count": 8,
   "metadata": {
    "scrolled": true
   },
   "outputs": [
    {
     "data": {
      "text/plain": [
       "array(['CT', 'GT', 'ST', 'CA', 'CS'], dtype=object)"
      ]
     },
     "execution_count": 8,
     "metadata": {},
     "output_type": "execute_result"
    }
   ],
   "source": [
    "staying_gens['PRMVR'].unique()"
   ]
  },
  {
   "cell_type": "code",
   "execution_count": 9,
   "metadata": {},
   "outputs": [],
   "source": [
    "for i in staying_gens.index:\n",
    "    ind = gd_short.df[gd_short.df['orispl_unit']==staying_gens.loc[i, 'orispl_unit']].index\n",
    "    staying_gens.loc[i, 'gd_mw'] = gd_short.df.loc[ind, 'mw'].values[0]"
   ]
  },
  {
   "cell_type": "markdown",
   "metadata": {},
   "source": [
    "### 2019 to 2022"
   ]
  },
  {
   "cell_type": "code",
   "execution_count": 10,
   "metadata": {},
   "outputs": [],
   "source": [
    "gd_short_2019 = pickle.load(open('../Data/generator_data_short_WECC_2019_local.obj', 'rb'))"
   ]
  },
  {
   "cell_type": "code",
   "execution_count": 11,
   "metadata": {},
   "outputs": [],
   "source": [
    "new_units_gd2022 = gd_short.df[~gd_short.df.orispl_unit.isin(gd_short_2019.df.orispl_unit.values)]['orispl_unit'].values"
   ]
  },
  {
   "cell_type": "code",
   "execution_count": 12,
   "metadata": {},
   "outputs": [
    {
     "data": {
      "text/plain": [
       "array(['10776_GTG', '141_7', '141_8', '2444_6', '315_CT1', '315_CT2',\n",
       "       '335_CT1', '335_CT2', '377_4', '55129_DBG4', '55129_DBG5',\n",
       "       '55207_CT7', '55207_CT8', '55372_CTG1', '55372_CTG2', '55372_CTG3',\n",
       "       '55479_1', '56298_CT005', '56298_CT006', '56319_1', '56596_1',\n",
       "       '60698_D1', '60698_D7', '7504_1'], dtype=object)"
      ]
     },
     "execution_count": 12,
     "metadata": {},
     "output_type": "execute_result"
    }
   ],
   "source": [
    "new_units_gd2022"
   ]
  },
  {
   "cell_type": "code",
   "execution_count": 14,
   "metadata": {
    "scrolled": false
   },
   "outputs": [
    {
     "data": {
      "text/html": [
       "<div>\n",
       "<style scoped>\n",
       "    .dataframe tbody tr th:only-of-type {\n",
       "        vertical-align: middle;\n",
       "    }\n",
       "\n",
       "    .dataframe tbody tr th {\n",
       "        vertical-align: top;\n",
       "    }\n",
       "\n",
       "    .dataframe thead th {\n",
       "        text-align: right;\n",
       "    }\n",
       "</style>\n",
       "<table border=\"1\" class=\"dataframe\">\n",
       "  <thead>\n",
       "    <tr style=\"text-align: right;\">\n",
       "      <th></th>\n",
       "      <th>SEQUNT22</th>\n",
       "      <th>YEAR</th>\n",
       "      <th>PSTATABB</th>\n",
       "      <th>PNAME</th>\n",
       "      <th>ORISPL</th>\n",
       "      <th>UNITID</th>\n",
       "      <th>PRMVR</th>\n",
       "      <th>UNTOPST</th>\n",
       "      <th>CAMDFLAG</th>\n",
       "      <th>PRGCODE</th>\n",
       "      <th>...</th>\n",
       "      <th>NOXANSRC</th>\n",
       "      <th>NOXOZSRC</th>\n",
       "      <th>SO2SRC</th>\n",
       "      <th>CO2SRC</th>\n",
       "      <th>HGSRC</th>\n",
       "      <th>SO2CTLDV</th>\n",
       "      <th>NOXCTLDV</th>\n",
       "      <th>HGCTLDV</th>\n",
       "      <th>UNTYRONL</th>\n",
       "      <th>orispl_unit</th>\n",
       "    </tr>\n",
       "  </thead>\n",
       "  <tbody>\n",
       "    <tr>\n",
       "      <th>1004</th>\n",
       "      <td>1005</td>\n",
       "      <td>2022</td>\n",
       "      <td>AZ</td>\n",
       "      <td>Agua Fria Generating Station</td>\n",
       "      <td>141</td>\n",
       "      <td>7</td>\n",
       "      <td>GT</td>\n",
       "      <td>OP</td>\n",
       "      <td>Yes</td>\n",
       "      <td>ARP</td>\n",
       "      <td>...</td>\n",
       "      <td>EPA/CAMD</td>\n",
       "      <td>EPA/CAMD</td>\n",
       "      <td>EPA/CAMD</td>\n",
       "      <td>EPA/CAMD</td>\n",
       "      <td>NaN</td>\n",
       "      <td>NaN</td>\n",
       "      <td>H2O,SCR</td>\n",
       "      <td>NaN</td>\n",
       "      <td>2022.0</td>\n",
       "      <td>141_7</td>\n",
       "    </tr>\n",
       "    <tr>\n",
       "      <th>1005</th>\n",
       "      <td>1006</td>\n",
       "      <td>2022</td>\n",
       "      <td>AZ</td>\n",
       "      <td>Agua Fria Generating Station</td>\n",
       "      <td>141</td>\n",
       "      <td>8</td>\n",
       "      <td>GT</td>\n",
       "      <td>OP</td>\n",
       "      <td>Yes</td>\n",
       "      <td>ARP</td>\n",
       "      <td>...</td>\n",
       "      <td>EPA/CAMD</td>\n",
       "      <td>EPA/CAMD</td>\n",
       "      <td>EPA/CAMD</td>\n",
       "      <td>EPA/CAMD</td>\n",
       "      <td>NaN</td>\n",
       "      <td>NaN</td>\n",
       "      <td>H2O,SCR</td>\n",
       "      <td>NaN</td>\n",
       "      <td>2022.0</td>\n",
       "      <td>141_8</td>\n",
       "    </tr>\n",
       "    <tr>\n",
       "      <th>1090</th>\n",
       "      <td>1091</td>\n",
       "      <td>2022</td>\n",
       "      <td>AZ</td>\n",
       "      <td>Desert Basin Generating Station</td>\n",
       "      <td>55129</td>\n",
       "      <td>DBG4</td>\n",
       "      <td>GT</td>\n",
       "      <td>OP</td>\n",
       "      <td>Yes</td>\n",
       "      <td>ARP</td>\n",
       "      <td>...</td>\n",
       "      <td>EPA/CAMD</td>\n",
       "      <td>EPA/CAMD</td>\n",
       "      <td>EPA/CAMD</td>\n",
       "      <td>EPA/CAMD</td>\n",
       "      <td>NaN</td>\n",
       "      <td>NaN</td>\n",
       "      <td>H2O,SCR</td>\n",
       "      <td>NaN</td>\n",
       "      <td>2022.0</td>\n",
       "      <td>55129_DBG4</td>\n",
       "    </tr>\n",
       "    <tr>\n",
       "      <th>1091</th>\n",
       "      <td>1092</td>\n",
       "      <td>2022</td>\n",
       "      <td>AZ</td>\n",
       "      <td>Desert Basin Generating Station</td>\n",
       "      <td>55129</td>\n",
       "      <td>DBG5</td>\n",
       "      <td>GT</td>\n",
       "      <td>OP</td>\n",
       "      <td>Yes</td>\n",
       "      <td>ARP</td>\n",
       "      <td>...</td>\n",
       "      <td>EPA/CAMD</td>\n",
       "      <td>EPA/CAMD</td>\n",
       "      <td>EPA/CAMD</td>\n",
       "      <td>EPA/CAMD</td>\n",
       "      <td>NaN</td>\n",
       "      <td>NaN</td>\n",
       "      <td>H2O,SCR</td>\n",
       "      <td>NaN</td>\n",
       "      <td>2022.0</td>\n",
       "      <td>55129_DBG5</td>\n",
       "    </tr>\n",
       "    <tr>\n",
       "      <th>1340</th>\n",
       "      <td>1341</td>\n",
       "      <td>2022</td>\n",
       "      <td>CA</td>\n",
       "      <td>AES Alamitos</td>\n",
       "      <td>315</td>\n",
       "      <td>CT1</td>\n",
       "      <td>CT</td>\n",
       "      <td>OP</td>\n",
       "      <td>Yes</td>\n",
       "      <td>ARP</td>\n",
       "      <td>...</td>\n",
       "      <td>EPA/CAMD</td>\n",
       "      <td>EPA/CAMD</td>\n",
       "      <td>EPA/CAMD</td>\n",
       "      <td>EPA/CAMD</td>\n",
       "      <td>NaN</td>\n",
       "      <td>NaN</td>\n",
       "      <td>DLNB,SCR</td>\n",
       "      <td>NaN</td>\n",
       "      <td>2019.0</td>\n",
       "      <td>315_CT1</td>\n",
       "    </tr>\n",
       "    <tr>\n",
       "      <th>1341</th>\n",
       "      <td>1342</td>\n",
       "      <td>2022</td>\n",
       "      <td>CA</td>\n",
       "      <td>AES Alamitos</td>\n",
       "      <td>315</td>\n",
       "      <td>CT2</td>\n",
       "      <td>CT</td>\n",
       "      <td>OP</td>\n",
       "      <td>Yes</td>\n",
       "      <td>ARP</td>\n",
       "      <td>...</td>\n",
       "      <td>EPA/CAMD</td>\n",
       "      <td>EPA/CAMD</td>\n",
       "      <td>EPA/CAMD</td>\n",
       "      <td>EPA/CAMD</td>\n",
       "      <td>NaN</td>\n",
       "      <td>NaN</td>\n",
       "      <td>DLNB,SCR</td>\n",
       "      <td>NaN</td>\n",
       "      <td>2019.0</td>\n",
       "      <td>315_CT2</td>\n",
       "    </tr>\n",
       "    <tr>\n",
       "      <th>1348</th>\n",
       "      <td>1349</td>\n",
       "      <td>2022</td>\n",
       "      <td>CA</td>\n",
       "      <td>AES Huntington Beach</td>\n",
       "      <td>335</td>\n",
       "      <td>CT1</td>\n",
       "      <td>CT</td>\n",
       "      <td>OP</td>\n",
       "      <td>Yes</td>\n",
       "      <td>ARP</td>\n",
       "      <td>...</td>\n",
       "      <td>EPA/CAMD</td>\n",
       "      <td>EPA/CAMD</td>\n",
       "      <td>EPA/CAMD</td>\n",
       "      <td>EPA/CAMD</td>\n",
       "      <td>NaN</td>\n",
       "      <td>NaN</td>\n",
       "      <td>DLNB,SCR</td>\n",
       "      <td>NaN</td>\n",
       "      <td>2019.0</td>\n",
       "      <td>335_CT1</td>\n",
       "    </tr>\n",
       "    <tr>\n",
       "      <th>1349</th>\n",
       "      <td>1350</td>\n",
       "      <td>2022</td>\n",
       "      <td>CA</td>\n",
       "      <td>AES Huntington Beach</td>\n",
       "      <td>335</td>\n",
       "      <td>CT2</td>\n",
       "      <td>CT</td>\n",
       "      <td>OP</td>\n",
       "      <td>Yes</td>\n",
       "      <td>ARP</td>\n",
       "      <td>...</td>\n",
       "      <td>EPA/CAMD</td>\n",
       "      <td>EPA/CAMD</td>\n",
       "      <td>EPA/CAMD</td>\n",
       "      <td>EPA/CAMD</td>\n",
       "      <td>NaN</td>\n",
       "      <td>NaN</td>\n",
       "      <td>DLNB,SCR</td>\n",
       "      <td>NaN</td>\n",
       "      <td>2019.0</td>\n",
       "      <td>335_CT2</td>\n",
       "    </tr>\n",
       "    <tr>\n",
       "      <th>3404</th>\n",
       "      <td>3405</td>\n",
       "      <td>2022</td>\n",
       "      <td>CA</td>\n",
       "      <td>Roseville Energy Park</td>\n",
       "      <td>56298</td>\n",
       "      <td>CT005</td>\n",
       "      <td>GT</td>\n",
       "      <td>OP</td>\n",
       "      <td>Yes</td>\n",
       "      <td>ARP</td>\n",
       "      <td>...</td>\n",
       "      <td>EPA/CAMD</td>\n",
       "      <td>EPA/CAMD</td>\n",
       "      <td>EPA/CAMD</td>\n",
       "      <td>EPA/CAMD</td>\n",
       "      <td>NaN</td>\n",
       "      <td>NaN</td>\n",
       "      <td>H2O,SCR</td>\n",
       "      <td>NaN</td>\n",
       "      <td>2022.0</td>\n",
       "      <td>56298_CT005</td>\n",
       "    </tr>\n",
       "    <tr>\n",
       "      <th>3405</th>\n",
       "      <td>3406</td>\n",
       "      <td>2022</td>\n",
       "      <td>CA</td>\n",
       "      <td>Roseville Energy Park</td>\n",
       "      <td>56298</td>\n",
       "      <td>CT006</td>\n",
       "      <td>GT</td>\n",
       "      <td>OP</td>\n",
       "      <td>Yes</td>\n",
       "      <td>ARP</td>\n",
       "      <td>...</td>\n",
       "      <td>EPA/CAMD</td>\n",
       "      <td>EPA/CAMD</td>\n",
       "      <td>EPA/CAMD</td>\n",
       "      <td>EPA/CAMD</td>\n",
       "      <td>NaN</td>\n",
       "      <td>NaN</td>\n",
       "      <td>H2O,SCR</td>\n",
       "      <td>NaN</td>\n",
       "      <td>2022.0</td>\n",
       "      <td>56298_CT006</td>\n",
       "    </tr>\n",
       "    <tr>\n",
       "      <th>3871</th>\n",
       "      <td>3872</td>\n",
       "      <td>2022</td>\n",
       "      <td>CA</td>\n",
       "      <td>Stanton Energy Reliability Center</td>\n",
       "      <td>60698</td>\n",
       "      <td>D1</td>\n",
       "      <td>GT</td>\n",
       "      <td>OP</td>\n",
       "      <td>Yes</td>\n",
       "      <td>ARP</td>\n",
       "      <td>...</td>\n",
       "      <td>EPA/CAMD</td>\n",
       "      <td>EPA/CAMD</td>\n",
       "      <td>EPA/CAMD</td>\n",
       "      <td>EPA/CAMD</td>\n",
       "      <td>NaN</td>\n",
       "      <td>NaN</td>\n",
       "      <td>H2O,SCR</td>\n",
       "      <td>NaN</td>\n",
       "      <td>2020.0</td>\n",
       "      <td>60698_D1</td>\n",
       "    </tr>\n",
       "    <tr>\n",
       "      <th>3872</th>\n",
       "      <td>3873</td>\n",
       "      <td>2022</td>\n",
       "      <td>CA</td>\n",
       "      <td>Stanton Energy Reliability Center</td>\n",
       "      <td>60698</td>\n",
       "      <td>D7</td>\n",
       "      <td>GT</td>\n",
       "      <td>OP</td>\n",
       "      <td>Yes</td>\n",
       "      <td>ARP</td>\n",
       "      <td>...</td>\n",
       "      <td>EPA/CAMD</td>\n",
       "      <td>EPA/CAMD</td>\n",
       "      <td>EPA/CAMD</td>\n",
       "      <td>EPA/CAMD</td>\n",
       "      <td>NaN</td>\n",
       "      <td>NaN</td>\n",
       "      <td>H2O,SCR</td>\n",
       "      <td>NaN</td>\n",
       "      <td>2020.0</td>\n",
       "      <td>60698_D7</td>\n",
       "    </tr>\n",
       "  </tbody>\n",
       "</table>\n",
       "<p>12 rows × 33 columns</p>\n",
       "</div>"
      ],
      "text/plain": [
       "      SEQUNT22  YEAR PSTATABB                              PNAME  ORISPL  \\\n",
       "1004      1005  2022       AZ       Agua Fria Generating Station     141   \n",
       "1005      1006  2022       AZ       Agua Fria Generating Station     141   \n",
       "1090      1091  2022       AZ    Desert Basin Generating Station   55129   \n",
       "1091      1092  2022       AZ    Desert Basin Generating Station   55129   \n",
       "1340      1341  2022       CA                       AES Alamitos     315   \n",
       "1341      1342  2022       CA                       AES Alamitos     315   \n",
       "1348      1349  2022       CA               AES Huntington Beach     335   \n",
       "1349      1350  2022       CA               AES Huntington Beach     335   \n",
       "3404      3405  2022       CA              Roseville Energy Park   56298   \n",
       "3405      3406  2022       CA              Roseville Energy Park   56298   \n",
       "3871      3872  2022       CA  Stanton Energy Reliability Center   60698   \n",
       "3872      3873  2022       CA  Stanton Energy Reliability Center   60698   \n",
       "\n",
       "     UNITID PRMVR UNTOPST CAMDFLAG PRGCODE  ...  NOXANSRC  NOXOZSRC    SO2SRC  \\\n",
       "1004      7    GT      OP      Yes     ARP  ...  EPA/CAMD  EPA/CAMD  EPA/CAMD   \n",
       "1005      8    GT      OP      Yes     ARP  ...  EPA/CAMD  EPA/CAMD  EPA/CAMD   \n",
       "1090   DBG4    GT      OP      Yes     ARP  ...  EPA/CAMD  EPA/CAMD  EPA/CAMD   \n",
       "1091   DBG5    GT      OP      Yes     ARP  ...  EPA/CAMD  EPA/CAMD  EPA/CAMD   \n",
       "1340    CT1    CT      OP      Yes     ARP  ...  EPA/CAMD  EPA/CAMD  EPA/CAMD   \n",
       "1341    CT2    CT      OP      Yes     ARP  ...  EPA/CAMD  EPA/CAMD  EPA/CAMD   \n",
       "1348    CT1    CT      OP      Yes     ARP  ...  EPA/CAMD  EPA/CAMD  EPA/CAMD   \n",
       "1349    CT2    CT      OP      Yes     ARP  ...  EPA/CAMD  EPA/CAMD  EPA/CAMD   \n",
       "3404  CT005    GT      OP      Yes     ARP  ...  EPA/CAMD  EPA/CAMD  EPA/CAMD   \n",
       "3405  CT006    GT      OP      Yes     ARP  ...  EPA/CAMD  EPA/CAMD  EPA/CAMD   \n",
       "3871     D1    GT      OP      Yes     ARP  ...  EPA/CAMD  EPA/CAMD  EPA/CAMD   \n",
       "3872     D7    GT      OP      Yes     ARP  ...  EPA/CAMD  EPA/CAMD  EPA/CAMD   \n",
       "\n",
       "        CO2SRC  HGSRC  SO2CTLDV  NOXCTLDV  HGCTLDV  UNTYRONL  orispl_unit  \n",
       "1004  EPA/CAMD    NaN       NaN   H2O,SCR      NaN    2022.0        141_7  \n",
       "1005  EPA/CAMD    NaN       NaN   H2O,SCR      NaN    2022.0        141_8  \n",
       "1090  EPA/CAMD    NaN       NaN   H2O,SCR      NaN    2022.0   55129_DBG4  \n",
       "1091  EPA/CAMD    NaN       NaN   H2O,SCR      NaN    2022.0   55129_DBG5  \n",
       "1340  EPA/CAMD    NaN       NaN  DLNB,SCR      NaN    2019.0      315_CT1  \n",
       "1341  EPA/CAMD    NaN       NaN  DLNB,SCR      NaN    2019.0      315_CT2  \n",
       "1348  EPA/CAMD    NaN       NaN  DLNB,SCR      NaN    2019.0      335_CT1  \n",
       "1349  EPA/CAMD    NaN       NaN  DLNB,SCR      NaN    2019.0      335_CT2  \n",
       "3404  EPA/CAMD    NaN       NaN   H2O,SCR      NaN    2022.0  56298_CT005  \n",
       "3405  EPA/CAMD    NaN       NaN   H2O,SCR      NaN    2022.0  56298_CT006  \n",
       "3871  EPA/CAMD    NaN       NaN   H2O,SCR      NaN    2020.0     60698_D1  \n",
       "3872  EPA/CAMD    NaN       NaN   H2O,SCR      NaN    2020.0     60698_D7  \n",
       "\n",
       "[12 rows x 33 columns]"
      ]
     },
     "execution_count": 14,
     "metadata": {},
     "output_type": "execute_result"
    }
   ],
   "source": [
    "egrid_unt_new.loc[(egrid_unt_new['orispl_unit'].isin(new_units_gd2022))&(egrid_unt_new['UNTYRONL']>=2019)]"
   ]
  },
  {
   "cell_type": "markdown",
   "metadata": {},
   "source": [
    "- Added Agua Fria 7 and 8 in 2022: NAMEPCAP 99, GT NG (141_7 and 141_8 in unt, 141_AF7 and 141_AF8 in gen)\n",
    "- Added Desert Basin 4 and 5 in 2022: NAMEPCAP 99, GT NG (55129_DBG4 and 55129_DBG5 in unt, 55129_CTG4 and 55129_CTG5 in gen)\n",
    "- Added AES Alamitos 315_CT1 and 315_CT2 in 2019, but they're not in gen -> use gd.mw?\n",
    "- Added AES Huntington 335_CT1 and 335_CT2 in 2019 but they're also not in gen\n",
    "- Added Roseville Energy Park 56298_CT005 and 56298_CT006 (unt), 56298_0005 in gen, in 2022 (GT): NAMEPCAP 30 GT NG\n",
    "- Added Stanton 60698 D1 and D7 GTs in 2020: NAMEPCAP 141 GT NG"
   ]
  },
  {
   "cell_type": "code",
   "execution_count": 15,
   "metadata": {},
   "outputs": [
    {
     "data": {
      "text/plain": [
       "1403.0"
      ]
     },
     "execution_count": 15,
     "metadata": {},
     "output_type": "execute_result"
    }
   ],
   "source": [
    "gd_short.df[gd_short.df['orispl_unit'].isin(['315_CT1', '315_CT2', '335_CT1', '335_CT2'])]['mw'].sum()"
   ]
  },
  {
   "cell_type": "markdown",
   "metadata": {},
   "source": [
    "Total: add 141 GT NG in 2020 and add 1403 CT NG in 2019; assume 2022 is covered in the 2022 additions from the document, included below."
   ]
  },
  {
   "cell_type": "code",
   "execution_count": 16,
   "metadata": {},
   "outputs": [
    {
     "name": "stdout",
     "output_type": "stream",
     "text": [
      "1540.0\n"
     ]
    }
   ],
   "source": [
    "total_added = 0\n",
    "additions_df = pd.DataFrame({'Year':[], 'Fuel Type':[], 'PRMVR':[], 'Large Region':[], 'orispl_unit':[]})\n",
    "test = pd.DataFrame({'Year':5*[2019], 'Fuel Type':5*['NG'], 'PRMVR':5*['CT'], 'orispl_unit':['469_5', '404_4', '2336_8', '330_7', '57978_CT1']})\n",
    "total_added += staying_gens[staying_gens['orispl_unit'].isin(test['orispl_unit'].values)]['gd_mw'].sum()\n",
    "additions_df = pd.concat((additions_df, test), ignore_index=True)\n",
    "test = pd.DataFrame({'Year':2*[2019], 'Fuel Type':2*['NG'], 'PRMVR':2*['GT'], 'orispl_unit':['55538_CTG1', '58562_GT-3']})\n",
    "total_added += staying_gens[staying_gens['orispl_unit'].isin(test['orispl_unit'].values)]['gd_mw'].sum()\n",
    "additions_df = pd.concat((additions_df, test), ignore_index=True)\n",
    "print(total_added)"
   ]
  },
  {
   "cell_type": "markdown",
   "metadata": {},
   "source": [
    "### 2022 onward"
   ]
  },
  {
   "cell_type": "code",
   "execution_count": 17,
   "metadata": {},
   "outputs": [
    {
     "data": {
      "text/plain": [
       "6686.0"
      ]
     },
     "execution_count": 17,
     "metadata": {},
     "output_type": "execute_result"
    }
   ],
   "source": [
    "# gt for 2022\n",
    "test = pd.DataFrame({'Year':2*[2022], 'Fuel Type':2*['NG'], 'PRMVR':2*['GT'], 'orispl_unit':['116_GT6', '55522_CT10']})\n",
    "total_added += staying_gens[staying_gens['orispl_unit'].isin(test['orispl_unit'].values)]['gd_mw'].sum()\n",
    "additions_df = pd.concat((additions_df, test), ignore_index=True)\n",
    "# st for 2022 - standin for biomass since no staying gens to use\n",
    "test = pd.DataFrame({'Year':[2022], 'Fuel Type':['NG'], 'PRMVR':['ST'], 'orispl_unit':['2450_1']})\n",
    "total_added += staying_gens[staying_gens['orispl_unit'].isin(test['orispl_unit'].values)]['gd_mw'].sum()\n",
    "additions_df = pd.concat((additions_df, test), ignore_index=True)\n",
    "# gt for 2023\n",
    "test = pd.DataFrame({'Year':2*[2023], 'Fuel Type':2*['NG'], 'PRMVR':2*['GT'], 'orispl_unit':['116_GT4', '116_GT7']})\n",
    "total_added += staying_gens[staying_gens['orispl_unit'].isin(test['orispl_unit'].values)]['gd_mw'].sum()\n",
    "additions_df = pd.concat((additions_df, test), ignore_index=True)\n",
    "# cc and ct together for 2023\n",
    "test = pd.DataFrame({'Year':2*[2023], 'Fuel Type':2*['NG'], 'PRMVR':2*['CT'], 'orispl_unit':['55985_CTG1', '55985_CTG2']})\n",
    "total_added += staying_gens[staying_gens['orispl_unit'].isin(test['orispl_unit'].values)]['gd_mw'].sum()\n",
    "additions_df = pd.concat((additions_df, test), ignore_index=True)\n",
    "# gt for 2023\n",
    "test = pd.DataFrame({'Year':2*[2023], 'Fuel Type':2*['NG'], 'PRMVR':2*['GT'], 'orispl_unit':['6112_5', '55505_BR2']})\n",
    "total_added += staying_gens[staying_gens['orispl_unit'].isin(test['orispl_unit'].values)]['gd_mw'].sum()\n",
    "additions_df = pd.concat((additions_df, test), ignore_index=True)\n",
    "# 570 + 219 + 233\n",
    "# gt for 2024\n",
    "test = pd.DataFrame({'Year':[2024], 'Fuel Type':['NG'], 'PRMVR':['GT'], 'orispl_unit':['56482_1']})\n",
    "total_added += staying_gens[staying_gens['orispl_unit'].isin(test['orispl_unit'].values)]['gd_mw'].sum()\n",
    "additions_df = pd.concat((additions_df, test), ignore_index=True)\n",
    "# ct for 2024\n",
    "test = pd.DataFrame({'Year':5*[2024], 'Fuel Type':5*['NG'], 'PRMVR':5*['CT'], \n",
    "                     'orispl_unit':['55700_CTG1', '7307_5', '55283_2', '330_5', '330_7']})\n",
    "total_added += staying_gens[staying_gens['orispl_unit'].isin(test['orispl_unit'].values)]['gd_mw'].sum()\n",
    "additions_df = pd.concat((additions_df, test), ignore_index=True)\n",
    "# gt for 2025\n",
    "test = pd.DataFrame({'Year':7*[2025], 'Fuel Type':7*['NG'], 'PRMVR':7*['GT'], 'orispl_unit':['55802_CTG1', '2444_9', '56482_1', '56482_2', '55522_CT10', '55698_HEP1', '55698_HEP2']})\n",
    "total_added += staying_gens[staying_gens['orispl_unit'].isin(test['orispl_unit'].values)]['gd_mw'].sum()\n",
    "additions_df = pd.concat((additions_df, test), ignore_index=True)\n",
    "# cc for 2025\n",
    "test = pd.DataFrame({'Year':3*[2025], 'Fuel Type':3*['NG'], 'PRMVR':3*['CT'], 'orispl_unit':['55970_2', '330_7', '330_5']})\n",
    "total_added += staying_gens[staying_gens['orispl_unit'].isin(test['orispl_unit'].values)]['gd_mw'].sum()\n",
    "additions_df = pd.concat((additions_df, test), ignore_index=True)\n",
    "# cc for 2026\n",
    "test = pd.DataFrame({'Year':3*[2026], 'Fuel Type':3*['NG'], 'PRMVR':3*['CT'], 'orispl_unit':['55748_CTG2', '56041_M1', '56041_M2']})\n",
    "total_added += staying_gens[staying_gens['orispl_unit'].isin(test['orispl_unit'].values)]['gd_mw'].sum()\n",
    "additions_df = pd.concat((additions_df, test), ignore_index=True)\n",
    "# gt for 2026\n",
    "test = pd.DataFrame({'Year':5*[2026], 'Fuel Type':5*['NG'], 'PRMVR':5*['GT'], 'orispl_unit':['116_GT3', '116_GT4', '116_GT6', '7975_1', '7975_2']})\n",
    "total_added += staying_gens[staying_gens['orispl_unit'].isin(test['orispl_unit'].values)]['gd_mw'].sum()\n",
    "additions_df = pd.concat((additions_df, test), ignore_index=True)\n",
    "# cc, ct for 2029\n",
    "test = pd.DataFrame({'Year':2*[2029], 'Fuel Type':2*['NG'], 'PRMVR':2*['CT'], 'orispl_unit':['57978_CT1', '404_4']})\n",
    "total_added += staying_gens[staying_gens['orispl_unit'].isin(test['orispl_unit'].values)]['gd_mw'].sum()\n",
    "additions_df = pd.concat((additions_df, test), ignore_index=True)\n",
    "# st for 2029\n",
    "test = pd.DataFrame({'Year':2*[2029], 'Fuel Type':2*['SUB'], 'PRMVR':2*['ST'], 'orispl_unit':['2450_2', '389_4']})\n",
    "total_added += staying_gens[staying_gens['orispl_unit'].isin(test['orispl_unit'].values)]['gd_mw'].sum()\n",
    "additions_df = pd.concat((additions_df, test), ignore_index=True)\n",
    "# gt for 2032\n",
    "test = pd.DataFrame({'Year':2*[2032], 'Fuel Type':2*['NG'], 'PRMVR':2*['GT'], 'orispl_unit':['56482_1', '7975_4']})\n",
    "total_added += staying_gens[staying_gens['orispl_unit'].isin(test['orispl_unit'].values)]['gd_mw'].sum()\n",
    "additions_df = pd.concat((additions_df, test), ignore_index=True)\n",
    "\n",
    "total_added"
   ]
  },
  {
   "cell_type": "code",
   "execution_count": 18,
   "metadata": {
    "scrolled": true
   },
   "outputs": [
    {
     "data": {
      "text/html": [
       "<div>\n",
       "<style scoped>\n",
       "    .dataframe tbody tr th:only-of-type {\n",
       "        vertical-align: middle;\n",
       "    }\n",
       "\n",
       "    .dataframe tbody tr th {\n",
       "        vertical-align: top;\n",
       "    }\n",
       "\n",
       "    .dataframe thead th {\n",
       "        text-align: right;\n",
       "    }\n",
       "</style>\n",
       "<table border=\"1\" class=\"dataframe\">\n",
       "  <thead>\n",
       "    <tr style=\"text-align: right;\">\n",
       "      <th></th>\n",
       "      <th>Year</th>\n",
       "      <th>Fuel Type</th>\n",
       "      <th>PRMVR</th>\n",
       "      <th>Large Region</th>\n",
       "      <th>orispl_unit</th>\n",
       "    </tr>\n",
       "  </thead>\n",
       "  <tbody>\n",
       "  </tbody>\n",
       "</table>\n",
       "</div>"
      ],
      "text/plain": [
       "Empty DataFrame\n",
       "Columns: [Year, Fuel Type, PRMVR, Large Region, orispl_unit]\n",
       "Index: []"
      ]
     },
     "execution_count": 18,
     "metadata": {},
     "output_type": "execute_result"
    }
   ],
   "source": [
    "additions_df[~additions_df['orispl_unit'].isin(gd_short.df['orispl_unit'].values)] # did we accidentally use with mismatch unit names?"
   ]
  },
  {
   "cell_type": "code",
   "execution_count": 19,
   "metadata": {},
   "outputs": [
    {
     "data": {
      "text/html": [
       "<div>\n",
       "<style scoped>\n",
       "    .dataframe tbody tr th:only-of-type {\n",
       "        vertical-align: middle;\n",
       "    }\n",
       "\n",
       "    .dataframe tbody tr th {\n",
       "        vertical-align: top;\n",
       "    }\n",
       "\n",
       "    .dataframe thead th {\n",
       "        text-align: right;\n",
       "    }\n",
       "</style>\n",
       "<table border=\"1\" class=\"dataframe\">\n",
       "  <thead>\n",
       "    <tr style=\"text-align: right;\">\n",
       "      <th></th>\n",
       "      <th>Year</th>\n",
       "      <th>Fuel Type</th>\n",
       "      <th>PRMVR</th>\n",
       "      <th>Large Region</th>\n",
       "      <th>orispl_unit</th>\n",
       "    </tr>\n",
       "  </thead>\n",
       "  <tbody>\n",
       "  </tbody>\n",
       "</table>\n",
       "</div>"
      ],
      "text/plain": [
       "Empty DataFrame\n",
       "Columns: [Year, Fuel Type, PRMVR, Large Region, orispl_unit]\n",
       "Index: []"
      ]
     },
     "execution_count": 19,
     "metadata": {},
     "output_type": "execute_result"
    }
   ],
   "source": [
    "additions_df[~additions_df['orispl_unit'].isin(staying_gens['orispl_unit'].values)] # did we accidentally use any that will be retired? "
   ]
  },
  {
   "cell_type": "code",
   "execution_count": 20,
   "metadata": {},
   "outputs": [],
   "source": [
    "additions_df.to_csv('../Data/generator_additions_2024final.csv')"
   ]
  },
  {
   "cell_type": "markdown",
   "metadata": {},
   "source": [
    "### Other additions:\n",
    "#### New nuclear and non-emitting gas technologies are unknown\n",
    "#### New geothermal implemented like new hydro in future_grid.py"
   ]
  },
  {
   "cell_type": "markdown",
   "metadata": {},
   "source": [
    "New nuclear 500.000 in 2028 and 720 in 2029\n",
    "\n",
    "\n",
    "New zero emissions gas 402 in 2033\n",
    "\n",
    "\n",
    "New geothermal 29 in 2022, 439.5 in 2023, 44 in 2026, 801 in 2031"
   ]
  },
  {
   "cell_type": "code",
   "execution_count": 44,
   "metadata": {},
   "outputs": [
    {
     "data": {
      "text/plain": [
       "3838.3999999999996"
      ]
     },
     "execution_count": 44,
     "metadata": {},
     "output_type": "execute_result"
    }
   ],
   "source": [
    "# geothermal namepcap in main wecc states\n",
    "egrid_gen.loc[(egrid_gen['FUELG1'].isin(['GEO']))&(egrid_gen['PSTATABB'].isin(['CA', 'OR', 'WA', 'NV', 'ID', 'UT', 'AZ', 'WY', 'MT', 'CO', 'NM']))]['NAMEPCAP'].sum()"
   ]
  },
  {
   "cell_type": "code",
   "execution_count": 45,
   "metadata": {},
   "outputs": [
    {
     "data": {
      "text/plain": [
       "1924.6"
      ]
     },
     "execution_count": 45,
     "metadata": {},
     "output_type": "execute_result"
    }
   ],
   "source": [
    "# biomass namepcap in main wecc states\n",
    "egrid_gen.loc[(egrid_gen['FUELG1'].isin(['AB', 'LFG', 'MSW', 'OBG' ,'OBL', 'OBS', 'OG', 'OTH', 'WDL', 'WDS']))&(egrid_gen['PSTATABB'].isin(['CA', 'OR', 'WA', 'NV', 'ID', 'UT', 'AZ', 'WY', 'MT', 'CO', 'NM']))]['NAMEPCAP'].sum()"
   ]
  },
  {
   "cell_type": "code",
   "execution_count": 46,
   "metadata": {},
   "outputs": [
    {
     "data": {
      "text/plain": [
       "0.6660419920180461"
      ]
     },
     "execution_count": 46,
     "metadata": {},
     "output_type": "execute_result"
    }
   ],
   "source": [
    "3838.4 / (3838.4 + 1924.6) # approximately 2/3 of GEO + BIOMASS total namepcap is GEO"
   ]
  },
  {
   "cell_type": "markdown",
   "metadata": {},
   "source": [
    "### Small coal special cases - no existing coal small enough to just duplicate"
   ]
  },
  {
   "cell_type": "markdown",
   "metadata": {},
   "source": [
    "'Deseret Generation & Transmission (Bonanza) (DGT EEI)' built in 2020 retired in 2024\n",
    "'Tata' coal built 2020 retired in 2023\n",
    "\n",
    "-> implemented in future_grid.py"
   ]
  }
 ],
 "metadata": {
  "kernelspec": {
   "display_name": "Python 3 (ipykernel)",
   "language": "python",
   "name": "python3"
  },
  "language_info": {
   "codemirror_mode": {
    "name": "ipython",
    "version": 3
   },
   "file_extension": ".py",
   "mimetype": "text/x-python",
   "name": "python",
   "nbconvert_exporter": "python",
   "pygments_lexer": "ipython3",
   "version": "3.10.7"
  }
 },
 "nbformat": 4,
 "nbformat_minor": 2
}
